{
  "nbformat": 4,
  "nbformat_minor": 0,
  "metadata": {
    "colab": {
      "provenance": []
    },
    "kernelspec": {
      "name": "python3",
      "display_name": "Python 3"
    },
    "language_info": {
      "name": "python"
    }
  },
  "cells": [
    {
      "cell_type": "code",
      "execution_count": null,
      "metadata": {
        "colab": {
          "base_uri": "https://localhost:8080/"
        },
        "id": "JlJA6E8guW-T",
        "outputId": "1180b3c6-30fa-4086-e7f3-3fdcbcc561ca"
      },
      "outputs": [
        {
          "output_type": "execute_result",
          "data": {
            "text/plain": [
              "[0, 1, 2, 3, 4, 5, 6, 7, 8, 9]"
            ]
          },
          "metadata": {},
          "execution_count": 1
        }
      ],
      "source": [
        "#List comprehensive\n",
        "mylist=[i for i in range(10)]\n",
        "mylist"
      ]
    },
    {
      "cell_type": "code",
      "source": [
        "list2=[i**2 for i in range(5)]\n",
        "list2 "
      ],
      "metadata": {
        "colab": {
          "base_uri": "https://localhost:8080/"
        },
        "id": "KCcL28SKycVQ",
        "outputId": "6dc3c5b5-d981-4e40-b72f-ad0c38ae94fd"
      },
      "execution_count": null,
      "outputs": [
        {
          "output_type": "execute_result",
          "data": {
            "text/plain": [
              "[0, 1, 4, 9, 16]"
            ]
          },
          "metadata": {},
          "execution_count": 2
        }
      ]
    },
    {
      "cell_type": "code",
      "source": [
        "out=[i.lower() for i in [\"RAM\", \"SHYAM\", \"VIPIN\"]]\n",
        "out"
      ],
      "metadata": {
        "colab": {
          "base_uri": "https://localhost:8080/"
        },
        "id": "IGatPhGVytT1",
        "outputId": "694dba98-da56-4e05-ef17-6ca79956b40a"
      },
      "execution_count": null,
      "outputs": [
        {
          "output_type": "execute_result",
          "data": {
            "text/plain": [
              "['ram', 'shyam', 'vipin']"
            ]
          },
          "metadata": {},
          "execution_count": 4
        }
      ]
    },
    {
      "cell_type": "code",
      "source": [
        "out1=[i for i in range(2,13) if i%2==0]\n",
        "out1"
      ],
      "metadata": {
        "colab": {
          "base_uri": "https://localhost:8080/"
        },
        "id": "tuyrE_oDy8NQ",
        "outputId": "85a27446-c4b7-441c-d326-177b4cb126f9"
      },
      "execution_count": null,
      "outputs": [
        {
          "output_type": "execute_result",
          "data": {
            "text/plain": [
              "[2, 4, 6, 8, 10, 12]"
            ]
          },
          "metadata": {},
          "execution_count": 5
        }
      ]
    },
    {
      "cell_type": "code",
      "source": [
        "my_func=lambda x:x**2\n",
        "my_func(5)"
      ],
      "metadata": {
        "colab": {
          "base_uri": "https://localhost:8080/"
        },
        "id": "Hej6YaDEzMxu",
        "outputId": "c4e1322f-6640-4d2d-e4f0-67d164d06734"
      },
      "execution_count": null,
      "outputs": [
        {
          "output_type": "execute_result",
          "data": {
            "text/plain": [
              "25"
            ]
          },
          "metadata": {},
          "execution_count": 7
        }
      ]
    },
    {
      "cell_type": "code",
      "source": [
        "#map function \n",
        "list(map(my_func,[2,5,8]))"
      ],
      "metadata": {
        "colab": {
          "base_uri": "https://localhost:8080/"
        },
        "id": "rQNUat1vzT-s",
        "outputId": "aff88223-9333-4d22-b6c5-e69921a42eeb"
      },
      "execution_count": null,
      "outputs": [
        {
          "output_type": "execute_result",
          "data": {
            "text/plain": [
              "[4, 25, 64]"
            ]
          },
          "metadata": {},
          "execution_count": 8
        }
      ]
    },
    {
      "cell_type": "code",
      "source": [
        "list(map(lambda x:x+5,[5,8,3,1,7]))"
      ],
      "metadata": {
        "colab": {
          "base_uri": "https://localhost:8080/"
        },
        "id": "wbQcZSGZzUQg",
        "outputId": "d02914db-71de-4e9b-a7fa-72bd5c8b5bf8"
      },
      "execution_count": null,
      "outputs": [
        {
          "output_type": "execute_result",
          "data": {
            "text/plain": [
              "[10, 13, 8, 6, 12]"
            ]
          },
          "metadata": {},
          "execution_count": 9
        }
      ]
    },
    {
      "cell_type": "code",
      "source": [
        "my_lis=[1,5,7,2,8]\n",
        "y=list(map(lambda x:x+1, my_lis))\n",
        "y"
      ],
      "metadata": {
        "colab": {
          "base_uri": "https://localhost:8080/"
        },
        "id": "TO95OOmwzUYJ",
        "outputId": "29a4bf53-cf70-4096-f91b-c208ffca5ce5"
      },
      "execution_count": null,
      "outputs": [
        {
          "output_type": "execute_result",
          "data": {
            "text/plain": [
              "[2, 6, 8, 3, 9]"
            ]
          },
          "metadata": {},
          "execution_count": 10
        }
      ]
    },
    {
      "cell_type": "code",
      "source": [
        "movie=[\"Gangswasepur\",\"Avatar\",\"Gangajal\",\"Pranjal\",\"Ganga\"]\n",
        "gmovie=[title for title in movie if title.startswith(\"G\")]\n",
        "gmovie"
      ],
      "metadata": {
        "colab": {
          "base_uri": "https://localhost:8080/"
        },
        "id": "ipv6ZaogzUgc",
        "outputId": "6525947d-7470-4b18-c401-9658a15b439f"
      },
      "execution_count": null,
      "outputs": [
        {
          "output_type": "execute_result",
          "data": {
            "text/plain": [
              "['Gangswasepur', 'Gangajal', 'Ganga']"
            ]
          },
          "metadata": {},
          "execution_count": 11
        }
      ]
    },
    {
      "cell_type": "code",
      "source": [
        "movie=[(\"Gangswasepur\",2013),(\"Avatar\",2022),(\"Gangajal\",1998),(\"Pranjal\",2012),(\"Ganga\",2012)]\n",
        "gmovie_=[title for (title,year) in movie if year>2000]\n",
        "gmovie_"
      ],
      "metadata": {
        "colab": {
          "base_uri": "https://localhost:8080/"
        },
        "id": "85tcSqWL0TRF",
        "outputId": "0cf95c8c-aa31-4ac0-f0eb-4b11962e3f14"
      },
      "execution_count": null,
      "outputs": [
        {
          "output_type": "execute_result",
          "data": {
            "text/plain": [
              "['Gangswasepur', 'Avatar', 'Pranjal', 'Ganga']"
            ]
          },
          "metadata": {},
          "execution_count": 12
        }
      ]
    },
    {
      "cell_type": "code",
      "source": [
        "v=[2,5,7,1]\n",
        "v*4"
      ],
      "metadata": {
        "colab": {
          "base_uri": "https://localhost:8080/"
        },
        "id": "rkURPr3g1DLP",
        "outputId": "e510a517-56e9-4feb-aee0-1c75a62f35dd"
      },
      "execution_count": null,
      "outputs": [
        {
          "output_type": "execute_result",
          "data": {
            "text/plain": [
              "[2, 5, 7, 1, 2, 5, 7, 1, 2, 5, 7, 1, 2, 5, 7, 1]"
            ]
          },
          "metadata": {},
          "execution_count": 13
        }
      ]
    },
    {
      "cell_type": "code",
      "source": [
        "out2=[4*x for x in v]"
      ],
      "metadata": {
        "id": "m409e4nJ1NAP"
      },
      "execution_count": null,
      "outputs": []
    },
    {
      "cell_type": "code",
      "source": [
        "out2"
      ],
      "metadata": {
        "colab": {
          "base_uri": "https://localhost:8080/"
        },
        "id": "n9Rx42K41Uf5",
        "outputId": "bc7004d8-1a6c-46fb-a0a5-a8225468f52b"
      },
      "execution_count": null,
      "outputs": [
        {
          "output_type": "execute_result",
          "data": {
            "text/plain": [
              "[8, 20, 28, 4]"
            ]
          },
          "metadata": {},
          "execution_count": 17
        }
      ]
    },
    {
      "cell_type": "code",
      "source": [
        "#list comprehensive in dict also\n",
        "dict1={\n",
        "    i:f\"item{i}\" for i in range(10)\n",
        "}\n",
        "dict1"
      ],
      "metadata": {
        "colab": {
          "base_uri": "https://localhost:8080/"
        },
        "id": "I0pOiOnK1Vbb",
        "outputId": "798ea9fd-3abc-4d37-f8b2-4a012fb5dce4"
      },
      "execution_count": null,
      "outputs": [
        {
          "output_type": "execute_result",
          "data": {
            "text/plain": [
              "{0: 'item0',\n",
              " 1: 'item1',\n",
              " 2: 'item2',\n",
              " 3: 'item3',\n",
              " 4: 'item4',\n",
              " 5: 'item5',\n",
              " 6: 'item6',\n",
              " 7: 'item7',\n",
              " 8: 'item8',\n",
              " 9: 'item9'}"
            ]
          },
          "metadata": {},
          "execution_count": 18
        }
      ]
    },
    {
      "cell_type": "code",
      "source": [
        "print(list(map(str,[1,5,8])))"
      ],
      "metadata": {
        "colab": {
          "base_uri": "https://localhost:8080/"
        },
        "id": "XEMObKAY1oz2",
        "outputId": "d4c8fe0c-2c27-401d-ad30-b30843aa9734"
      },
      "execution_count": null,
      "outputs": [
        {
          "output_type": "stream",
          "name": "stdout",
          "text": [
            "['1', '5', '8']\n"
          ]
        }
      ]
    },
    {
      "cell_type": "code",
      "source": [],
      "metadata": {
        "id": "v-gNONbV2a2y"
      },
      "execution_count": null,
      "outputs": []
    },
    {
      "cell_type": "code",
      "source": [
        "y=[str(x) for x in [1,5,8]]\n",
        "y"
      ],
      "metadata": {
        "colab": {
          "base_uri": "https://localhost:8080/"
        },
        "id": "ckf56Vbs18Du",
        "outputId": "a721a92e-2b80-46a0-8078-14f7993b3365"
      },
      "execution_count": null,
      "outputs": [
        {
          "output_type": "execute_result",
          "data": {
            "text/plain": [
              "['1', '5', '8']"
            ]
          },
          "metadata": {},
          "execution_count": 20
        }
      ]
    },
    {
      "cell_type": "code",
      "source": [
        "from timeit import timeit"
      ],
      "metadata": {
        "id": "1tVh8swv2NVp"
      },
      "execution_count": null,
      "outputs": []
    },
    {
      "cell_type": "code",
      "source": [
        "timeit(\"[str(x) for x in [1,5,8]]\")"
      ],
      "metadata": {
        "colab": {
          "base_uri": "https://localhost:8080/"
        },
        "id": "ib6veLYN2IwO",
        "outputId": "40e9f170-8d78-4e88-fe35-8fc81ad61332"
      },
      "execution_count": null,
      "outputs": [
        {
          "output_type": "execute_result",
          "data": {
            "text/plain": [
              "0.7536799340000471"
            ]
          },
          "metadata": {},
          "execution_count": 22
        }
      ]
    },
    {
      "cell_type": "code",
      "source": [
        "timeit(\"list(map(str,[1,5,8]))\")"
      ],
      "metadata": {
        "colab": {
          "base_uri": "https://localhost:8080/"
        },
        "id": "hEfQC3l32YrJ",
        "outputId": "0d0824eb-c4f0-4f0a-f15e-5def0d512cde"
      },
      "execution_count": null,
      "outputs": [
        {
          "output_type": "execute_result",
          "data": {
            "text/plain": [
              "0.8560515310000483"
            ]
          },
          "metadata": {},
          "execution_count": 23
        }
      ]
    },
    {
      "cell_type": "code",
      "source": [
        "#filter function\n",
        "list(filter(lambda x:x>1,map(int,[1,2,0,5,8])))"
      ],
      "metadata": {
        "colab": {
          "base_uri": "https://localhost:8080/"
        },
        "id": "4HVEvrVb2gez",
        "outputId": "ba807719-254a-45fc-a666-f08e4c4c2a6a"
      },
      "execution_count": null,
      "outputs": [
        {
          "output_type": "execute_result",
          "data": {
            "text/plain": [
              "[2, 5, 8]"
            ]
          },
          "metadata": {},
          "execution_count": 25
        }
      ]
    },
    {
      "cell_type": "code",
      "source": [
        "list(filter(lambda x:x>2,[1,2,0,5,8]))"
      ],
      "metadata": {
        "colab": {
          "base_uri": "https://localhost:8080/"
        },
        "id": "d2CnnizE212V",
        "outputId": "eb4cfddc-df6e-4157-e577-c49030e8a32d"
      },
      "execution_count": null,
      "outputs": [
        {
          "output_type": "execute_result",
          "data": {
            "text/plain": [
              "[5, 8]"
            ]
          },
          "metadata": {},
          "execution_count": 27
        }
      ]
    },
    {
      "cell_type": "code",
      "source": [
        "#List comprehensive\n",
        "#Map function\n",
        "#Filter \n",
        "# Time taken using timeit function"
      ],
      "metadata": {
        "id": "21iOEXF_3Dwu"
      },
      "execution_count": null,
      "outputs": []
    },
    {
      "cell_type": "code",
      "source": [],
      "metadata": {
        "id": "-d1H1qyg3WiV"
      },
      "execution_count": null,
      "outputs": []
    }
  ]
}