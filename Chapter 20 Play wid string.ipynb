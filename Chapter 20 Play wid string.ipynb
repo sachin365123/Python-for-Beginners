{
 "cells": [
  {
   "cell_type": "code",
   "execution_count": 19,
   "id": "3535c9bf",
   "metadata": {},
   "outputs": [
    {
     "name": "stdout",
     "output_type": "stream",
     "text": [
      "str\n"
     ]
    }
   ],
   "source": [
    "print('str')\n"
   ]
  },
  {
   "cell_type": "code",
   "execution_count": 21,
   "id": "2f6e80c6",
   "metadata": {},
   "outputs": [
    {
     "name": "stdout",
     "output_type": "stream",
     "text": [
      "str str str str \n"
     ]
    }
   ],
   "source": [
    "print('str '*4)"
   ]
  },
  {
   "cell_type": "code",
   "execution_count": 24,
   "id": "4344e154",
   "metadata": {},
   "outputs": [
    {
     "name": "stdout",
     "output_type": "stream",
     "text": [
      "False\n"
     ]
    }
   ],
   "source": [
    "print('a' in \"rtificil\")"
   ]
  },
  {
   "cell_type": "code",
   "execution_count": null,
   "id": "6f6e58fa",
   "metadata": {},
   "outputs": [],
   "source": []
  },
  {
   "cell_type": "code",
   "execution_count": 26,
   "id": "b11a2cba",
   "metadata": {},
   "outputs": [
    {
     "data": {
      "text/plain": [
       "1024"
      ]
     },
     "execution_count": 26,
     "metadata": {},
     "output_type": "execute_result"
    }
   ],
   "source": [
    "2**10"
   ]
  },
  {
   "cell_type": "code",
   "execution_count": 29,
   "id": "33400cd3",
   "metadata": {},
   "outputs": [
    {
     "name": "stdout",
     "output_type": "stream",
     "text": [
      "True\n"
     ]
    }
   ],
   "source": [
    "print('ar'=='ar')"
   ]
  },
  {
   "cell_type": "code",
   "execution_count": 31,
   "id": "73a93a7e",
   "metadata": {},
   "outputs": [
    {
     "name": "stdout",
     "output_type": "stream",
     "text": [
      "False\n"
     ]
    }
   ],
   "source": [
    "print('Sach'>'sach')"
   ]
  },
  {
   "cell_type": "code",
   "execution_count": 32,
   "id": "2641ca8a",
   "metadata": {},
   "outputs": [],
   "source": [
    "s=\"we are learning\""
   ]
  },
  {
   "cell_type": "code",
   "execution_count": 33,
   "id": "ba24ceb1",
   "metadata": {},
   "outputs": [
    {
     "name": "stdout",
     "output_type": "stream",
     "text": [
      "we are learning\n"
     ]
    }
   ],
   "source": [
    "print(s)"
   ]
  },
  {
   "cell_type": "code",
   "execution_count": 34,
   "id": "0d6dd498",
   "metadata": {},
   "outputs": [],
   "source": [
    "str1=\"Hello\""
   ]
  },
  {
   "cell_type": "code",
   "execution_count": 37,
   "id": "8227364c",
   "metadata": {},
   "outputs": [],
   "source": [
    "str1=\"World is large\""
   ]
  },
  {
   "cell_type": "code",
   "execution_count": 38,
   "id": "44803a0b",
   "metadata": {},
   "outputs": [
    {
     "name": "stdout",
     "output_type": "stream",
     "text": [
      "14\n"
     ]
    }
   ],
   "source": [
    "print(len(str1))"
   ]
  },
  {
   "cell_type": "code",
   "execution_count": 39,
   "id": "19d81877",
   "metadata": {},
   "outputs": [],
   "source": [
    "s=\"Sachin is my name\""
   ]
  },
  {
   "cell_type": "code",
   "execution_count": 41,
   "id": "d585a1e3",
   "metadata": {},
   "outputs": [
    {
     "name": "stdout",
     "output_type": "stream",
     "text": [
      "['Sachin', 'is', 'my', 'name']\n"
     ]
    }
   ],
   "source": [
    "print(s.split())"
   ]
  },
  {
   "cell_type": "code",
   "execution_count": null,
   "id": "abc4b2d1",
   "metadata": {},
   "outputs": [],
   "source": []
  },
  {
   "cell_type": "code",
   "execution_count": null,
   "id": "6afed981",
   "metadata": {},
   "outputs": [],
   "source": [
    "\n",
    "        "
   ]
  },
  {
   "cell_type": "code",
   "execution_count": null,
   "id": "afac1476",
   "metadata": {},
   "outputs": [],
   "source": []
  },
  {
   "cell_type": "code",
   "execution_count": null,
   "id": "be000298",
   "metadata": {},
   "outputs": [],
   "source": []
  }
 ],
 "metadata": {
  "kernelspec": {
   "display_name": "Python 3",
   "language": "python",
   "name": "python3"
  },
  "language_info": {
   "codemirror_mode": {
    "name": "ipython",
    "version": 3
   },
   "file_extension": ".py",
   "mimetype": "text/x-python",
   "name": "python",
   "nbconvert_exporter": "python",
   "pygments_lexer": "ipython3",
   "version": "3.8.8"
  }
 },
 "nbformat": 4,
 "nbformat_minor": 5
}
