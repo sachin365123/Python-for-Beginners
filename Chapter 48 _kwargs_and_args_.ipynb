{
  "nbformat": 4,
  "nbformat_minor": 0,
  "metadata": {
    "colab": {
      "provenance": []
    },
    "kernelspec": {
      "name": "python3",
      "display_name": "Python 3"
    },
    "language_info": {
      "name": "python"
    }
  },
  "cells": [
    {
      "cell_type": "markdown",
      "source": [
        "Functions with one default argument\n",
        "In the previous chapter, you've learned to define functions with more than one parameter and then calling those functions by passing the required number of arguments. In the last video, Hugo built on this idea by showing you how to define functions with default arguments. You will practice that skill in this exercise by writing a function that uses a default argument and then calling the function a couple of times."
      ],
      "metadata": {
        "id": "xnmlUvFedGgq"
      }
    },
    {
      "cell_type": "code",
      "source": [
        "# Define shout_echo\n",
        "def shout_echo(word1,echo=1):\n",
        "    \"\"\"Concatenate echo copies of word1 and three\n",
        "     exclamation marks at the end of the string.\"\"\"\n",
        "\n",
        "    # Concatenate echo copies of word1 using *: echo_word\n",
        "    echo_word = word1*echo\n",
        "\n",
        "    # Concatenate '!!!' to echo_word: shout_word\n",
        "    shout_word = echo_word + '!!!'\n",
        "\n",
        "    # Return shout_word\n",
        "    return shout_word\n",
        "\n",
        "# Call shout_echo() with \"Hey\": no_echo\n",
        "no_echo = shout_echo(\"Hey\")\n",
        "\n",
        "# Call shout_echo() with \"Hey\" and echo=5: with_echo\n",
        "with_echo = shout_echo(\"Hey\",echo=5)\n",
        "\n",
        "# Print no_echo and with_echo\n",
        "print(no_echo)\n",
        "print(with_echo)"
      ],
      "metadata": {
        "colab": {
          "base_uri": "https://localhost:8080/"
        },
        "id": "R6sAml7tdFs8",
        "outputId": "07c335d9-0edd-4073-9fc1-6b9a809841a2"
      },
      "execution_count": 4,
      "outputs": [
        {
          "output_type": "stream",
          "name": "stdout",
          "text": [
            "Hey!!!\n",
            "HeyHeyHeyHeyHey!!!\n"
          ]
        }
      ]
    },
    {
      "cell_type": "markdown",
      "source": [
        "Functions with multiple default arguments\n",
        "You've now defined a function that uses a default argument - don't stop there just yet! You will now try your hand at defining a function with more than one default argument and then calling this function in various ways.\n",
        "\n",
        "After defining the function, you will call it by supplying values to all the default arguments of the function. Additionally, you will call the function by not passing a value to one of the default arguments - see how that changes the output of your function!"
      ],
      "metadata": {
        "id": "uizpwN74cwRZ"
      }
    },
    {
      "cell_type": "code",
      "source": [
        "\n",
        "# Define shout_echo\n",
        "def shout_echo(word1,echo=1,intense=False):\n",
        "    \"\"\"Concatenate echo copies of word1 and three\n",
        "    exclamation marks at the end of the string.\"\"\"\n",
        "\n",
        "    # Concatenate echo copies of word1 using *: echo_word\n",
        "    echo_word = word1 * echo\n",
        "\n",
        "    # Make echo_word uppercase if intense is True\n",
        "    if intense is True:\n",
        "        # Make uppercase and concatenate '!!!': echo_word_new\n",
        "        echo_word_new = echo_word.upper() + '!!!'\n",
        "    else:\n",
        "        # Concatenate '!!!' to echo_word: echo_word_new\n",
        "        echo_word_new = echo_word + '!!!'\n",
        "\n",
        "    # Return echo_word_new\n",
        "    return echo_word_new\n",
        "\n",
        "# Call shout_echo() with \"Hey\", echo=5 and intense=True: with_big_echo\n",
        "with_big_echo = shout_echo(\"Hey\",5,intense=True)\n",
        "\n",
        "# Call shout_echo() with \"Hey\" and intense=True: big_no_echo\n",
        "big_no_echo = shout_echo(\"Hey\",intense=True)\n",
        "\n",
        "# Print values\n",
        "print(with_big_echo)\n",
        "print(big_no_echo)"
      ],
      "metadata": {
        "colab": {
          "base_uri": "https://localhost:8080/"
        },
        "id": "RN41bqxXcf5E",
        "outputId": "6b4d1ffa-244a-4428-bb60-4bc305397ec7"
      },
      "execution_count": 2,
      "outputs": [
        {
          "output_type": "stream",
          "name": "stdout",
          "text": [
            "HEYHEYHEYHEYHEY!!!\n",
            "HEY!!!\n"
          ]
        }
      ]
    },
    {
      "cell_type": "markdown",
      "source": [
        "Functions with variable-length arguments (*args)\n",
        "Flexible arguments enable you to pass a variable number of arguments to a function. In this exercise, you will practice defining a function that accepts a variable number of string arguments.\n",
        "\n",
        "The function you will define is gibberish() which can accept a variable number of string values. Its return value is a single string composed of all the string arguments concatenated together in the order they were passed to the function call. You will call the function with a single string argument and see how the output changes with another call using more than one string argument. Recall from the previous video that, within the function definition, args is a tuple."
      ],
      "metadata": {
        "id": "hl4Gfzb7czeJ"
      }
    },
    {
      "cell_type": "code",
      "execution_count": 1,
      "metadata": {
        "colab": {
          "base_uri": "https://localhost:8080/"
        },
        "id": "KMWn_6nwcbpa",
        "outputId": "f45f19c0-2b30-42fb-8016-aaaca4153cb9"
      },
      "outputs": [
        {
          "output_type": "stream",
          "name": "stdout",
          "text": [
            "luke\n",
            "lukeleiahanobidarth\n"
          ]
        }
      ],
      "source": [
        "# Define gibberish\n",
        "def gibberish(*args):\n",
        "    \"\"\"Concatenate strings in *args together.\"\"\"\n",
        "\n",
        "    # Initialize an empty string: hodgepodge\n",
        "    hodgepodge=''\n",
        "\n",
        "    # Concatenate the strings in args\n",
        "    for word in args:\n",
        "        hodgepodge += word\n",
        "\n",
        "    # Return hodgepodge\n",
        "    return hodgepodge\n",
        "\n",
        "# Call gibberish() with one string: one_word\n",
        "one_word = gibberish(\"luke\")\n",
        "\n",
        "# Call gibberish() with five strings: many_words\n",
        "many_words = gibberish(\"luke\", \"leia\", \"han\", \"obi\", \"darth\")\n",
        "\n",
        "# Print one_word and many_words\n",
        "print(one_word)\n",
        "print(many_words)"
      ]
    },
    {
      "cell_type": "markdown",
      "source": [
        "Functions with variable-length keyword arguments (**kwargs)\n",
        "Let's push further on what you've learned about flexible arguments - you've used *args, you're now going to use **kwargs! What makes **kwargs different is that it allows you to pass a variable number of keyword arguments to functions. Recall from the previous video that, within the function definition, kwargs is a dictionary.\n",
        "\n",
        "To understand this idea better, you're going to use **kwargs in this exercise to define a function that accepts a variable number of keyword arguments. The function simulates a simple status report system that prints out the status of a character in a movie."
      ],
      "metadata": {
        "id": "FXRu7cqmc5Rr"
      }
    },
    {
      "cell_type": "code",
      "source": [
        "# Define report_status\n",
        "def report_status(**kwargs):\n",
        "    \"\"\"Print out the status of a movie character.\"\"\"\n",
        "\n",
        "    print(\"\\nBEGIN: REPORT\\n\")\n",
        "\n",
        "    # Iterate over the key-value pairs of kwargs\n",
        "    for key, value in kwargs.items():\n",
        "        # Print out the keys and values, separated by a colon ':'\n",
        "        print(key + \": \" + value)\n",
        "\n",
        "    print(\"\\nEND REPORT\")\n",
        "\n",
        "# First call to report_status()\n",
        "report_status(name=\"luke\", affiliation='jedi', status='missing')\n",
        "report_status(name=\"anakin\", affiliation=\"sith lord\" ,status=\"deceased\")\n",
        "# Second call to report_status()\n"
      ],
      "metadata": {
        "colab": {
          "base_uri": "https://localhost:8080/"
        },
        "id": "SgfgJjsHcrQy",
        "outputId": "dfd72374-a6fa-4d4a-dbdd-e45ea1a80bf0"
      },
      "execution_count": 3,
      "outputs": [
        {
          "output_type": "stream",
          "name": "stdout",
          "text": [
            "\n",
            "BEGIN: REPORT\n",
            "\n",
            "name: luke\n",
            "affiliation: jedi\n",
            "status: missing\n",
            "\n",
            "END REPORT\n",
            "\n",
            "BEGIN: REPORT\n",
            "\n",
            "name: anakin\n",
            "affiliation: sith lord\n",
            "status: deceased\n",
            "\n",
            "END REPORT\n"
          ]
        }
      ]
    }
  ]
}