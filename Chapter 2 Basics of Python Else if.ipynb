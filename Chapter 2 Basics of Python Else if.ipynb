{
 "cells": [
  {
   "cell_type": "code",
   "execution_count": 1,
   "id": "d2616a98",
   "metadata": {},
   "outputs": [
    {
     "name": "stdout",
     "output_type": "stream",
     "text": [
      "Four\n"
     ]
    }
   ],
   "source": [
    "# Else-if\n",
    "a=4\n",
    "if a==4:\n",
    "    print(\"Four\")\n",
    "elif a==3:\n",
    "    print(\"Three\")"
   ]
  },
  {
   "cell_type": "code",
   "execution_count": 2,
   "id": "2a80af02",
   "metadata": {},
   "outputs": [
    {
     "name": "stdout",
     "output_type": "stream",
     "text": [
      "Three\n"
     ]
    }
   ],
   "source": [
    "a=4\n",
    "a=a-1\n",
    "if a==4:\n",
    "    print(\"Four\")\n",
    "elif a==3:\n",
    "    print(\"Three\")"
   ]
  },
  {
   "cell_type": "code",
   "execution_count": 3,
   "id": "40195053",
   "metadata": {},
   "outputs": [
    {
     "name": "stdout",
     "output_type": "stream",
     "text": [
      "None\n"
     ]
    }
   ],
   "source": [
    "a=10\n",
    "if a==4:\n",
    "    print(\"Four\")\n",
    "elif a==3:\n",
    "    print(\"Three\")\n",
    "else:\n",
    "    print(\"None\")"
   ]
  },
  {
   "cell_type": "code",
   "execution_count": 4,
   "id": "9b58b661",
   "metadata": {},
   "outputs": [
    {
     "name": "stdout",
     "output_type": "stream",
     "text": [
      "Enter the marks in first exam::5\n",
      "Enter the marks in second exam::3\n",
      "Enter the marks in third exam::1\n",
      "Enter the marks in fourth exam::8\n"
     ]
    }
   ],
   "source": [
    "# Let's solve one application problem\n",
    "number_of_exams=4\n",
    "exam1=int(input('Enter the marks in first exam::'))\n",
    "exam2=int(input('Enter the marks in second exam::'))\n",
    "exam3=int(input('Enter the marks in third exam::'))\n",
    "exam4=int(input('Enter the marks in fourth exam::'))"
   ]
  },
  {
   "cell_type": "code",
   "execution_count": 5,
   "id": "6f765807",
   "metadata": {},
   "outputs": [
    {
     "name": "stdout",
     "output_type": "stream",
     "text": [
      "Enter the marks in first exam::52\n",
      "Enter the marks in second exam::84\n",
      "Enter the marks in third exam::65\n",
      "Enter the marks in fourth exam::14\n",
      "Student is Passesd\n"
     ]
    }
   ],
   "source": [
    "number_of_exams=4\n",
    "exam1=int(input('Enter the marks in first exam::'))\n",
    "exam2=int(input('Enter the marks in second exam::'))\n",
    "exam3=int(input('Enter the marks in third exam::'))\n",
    "exam4=int(input('Enter the marks in fourth exam::'))\n",
    "# get the total of all exams\n",
    "total=exam1+exam2+exam3+exam4\n",
    "average=total/4\n",
    "if average>=50:\n",
    "    print(\"Student is Passesd\")\n",
    "elif average<50:\n",
    "    print(\"Student is Failed\")\n",
    "else:\n",
    "    print(\"Thanks for exam\")\n"
   ]
  },
  {
   "cell_type": "code",
   "execution_count": 6,
   "id": "cbceff14",
   "metadata": {},
   "outputs": [
    {
     "data": {
      "text/plain": [
       "53.75"
      ]
     },
     "execution_count": 6,
     "metadata": {},
     "output_type": "execute_result"
    }
   ],
   "source": [
    "average"
   ]
  },
  {
   "cell_type": "code",
   "execution_count": null,
   "id": "4e6371d4",
   "metadata": {},
   "outputs": [],
   "source": []
  }
 ],
 "metadata": {
  "kernelspec": {
   "display_name": "Python 3",
   "language": "python",
   "name": "python3"
  },
  "language_info": {
   "codemirror_mode": {
    "name": "ipython",
    "version": 3
   },
   "file_extension": ".py",
   "mimetype": "text/x-python",
   "name": "python",
   "nbconvert_exporter": "python",
   "pygments_lexer": "ipython3",
   "version": "3.8.8"
  }
 },
 "nbformat": 4,
 "nbformat_minor": 5
}
