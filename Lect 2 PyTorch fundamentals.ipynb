{
 "cells": [
  {
   "cell_type": "code",
   "execution_count": 2,
   "id": "bb7ff7cb",
   "metadata": {},
   "outputs": [],
   "source": [
    "import torch"
   ]
  },
  {
   "cell_type": "code",
   "execution_count": 3,
   "id": "45185ab3",
   "metadata": {},
   "outputs": [],
   "source": [
    "# Tensor data type\n",
    "# scaler Vector Matrix Tensor\n",
    "float_32_tensor=torch.tensor([3.0,6.5,8.2],dtype=None,device=None, requires_grad=True)"
   ]
  },
  {
   "cell_type": "code",
   "execution_count": 6,
   "id": "92df9abf",
   "metadata": {},
   "outputs": [
    {
     "data": {
      "text/plain": [
       "torch.float32"
      ]
     },
     "execution_count": 6,
     "metadata": {},
     "output_type": "execute_result"
    }
   ],
   "source": [
    "float_32_tensor.dtype"
   ]
  },
  {
   "cell_type": "raw",
   "id": "403a7891",
   "metadata": {},
   "source": []
  },
  {
   "cell_type": "code",
   "execution_count": 7,
   "id": "44ccab8a",
   "metadata": {},
   "outputs": [],
   "source": [
    "float_32_tensor=torch.tensor([3.0,6.5,8.2],dtype=torch.float16,device=None, requires_grad=True)"
   ]
  },
  {
   "cell_type": "code",
   "execution_count": 8,
   "id": "4845a873",
   "metadata": {},
   "outputs": [
    {
     "data": {
      "text/plain": [
       "torch.float16"
      ]
     },
     "execution_count": 8,
     "metadata": {},
     "output_type": "execute_result"
    }
   ],
   "source": [
    "float_32_tensor.dtype"
   ]
  },
  {
   "cell_type": "code",
   "execution_count": 11,
   "id": "ddfadf55",
   "metadata": {},
   "outputs": [],
   "source": [
    "tensor_aim=torch.rand(3,4)"
   ]
  },
  {
   "cell_type": "code",
   "execution_count": 12,
   "id": "08755e08",
   "metadata": {},
   "outputs": [
    {
     "data": {
      "text/plain": [
       "tensor([[0.3338, 0.1617, 0.9949, 0.9915],\n",
       "        [0.3998, 0.7583, 0.2600, 0.5045],\n",
       "        [0.2976, 0.7994, 0.0274, 0.4566]])"
      ]
     },
     "execution_count": 12,
     "metadata": {},
     "output_type": "execute_result"
    }
   ],
   "source": [
    "tensor_aim"
   ]
  },
  {
   "cell_type": "code",
   "execution_count": 13,
   "id": "66951809",
   "metadata": {},
   "outputs": [
    {
     "name": "stdout",
     "output_type": "stream",
     "text": [
      "tensor([[0.3338, 0.1617, 0.9949, 0.9915],\n",
      "        [0.3998, 0.7583, 0.2600, 0.5045],\n",
      "        [0.2976, 0.7994, 0.0274, 0.4566]])\n",
      "Shape of Tensor: torch.Size([3, 4])\n",
      "Datatype of Tensor: torch.float32\n",
      "Device of Tensor location: cpu\n"
     ]
    }
   ],
   "source": [
    "print(tensor_aim)\n",
    "print(f\"Shape of Tensor: {tensor_aim.shape}\")\n",
    "print(f\"Datatype of Tensor: {tensor_aim.dtype}\")\n",
    "print(f\"Device of Tensor location: {tensor_aim.device}\")"
   ]
  },
  {
   "cell_type": "code",
   "execution_count": 14,
   "id": "5a3e0e36",
   "metadata": {},
   "outputs": [],
   "source": [
    "#TPU #GPU\n",
    "#Manipulating Tensors\n"
   ]
  },
  {
   "cell_type": "code",
   "execution_count": 15,
   "id": "3281364a",
   "metadata": {},
   "outputs": [
    {
     "data": {
      "text/plain": [
       "tensor([20, 25, 28])"
      ]
     },
     "execution_count": 15,
     "metadata": {},
     "output_type": "execute_result"
    }
   ],
   "source": [
    "#Adding\n",
    "tensor=torch.tensor([10,15,18])\n",
    "tensor+10\n"
   ]
  },
  {
   "cell_type": "code",
   "execution_count": 25,
   "id": "fa31d3aa",
   "metadata": {},
   "outputs": [
    {
     "data": {
      "text/plain": [
       "tensor([-8, -5, -3])"
      ]
     },
     "execution_count": 25,
     "metadata": {},
     "output_type": "execute_result"
    }
   ],
   "source": [
    "#substraction\n",
    "tensor=torch.tensor([2,5,7])\n",
    "tensor-10"
   ]
  },
  {
   "cell_type": "code",
   "execution_count": 28,
   "id": "5116066d",
   "metadata": {},
   "outputs": [],
   "source": [
    "#divide\n",
    "tensor=torch.tensor([10,15,18])\n",
    "tensor=tensor/10"
   ]
  },
  {
   "cell_type": "code",
   "execution_count": 29,
   "id": "ac3a78ef",
   "metadata": {},
   "outputs": [
    {
     "data": {
      "text/plain": [
       "tensor([1.0000, 1.5000, 1.8000])"
      ]
     },
     "execution_count": 29,
     "metadata": {},
     "output_type": "execute_result"
    }
   ],
   "source": [
    "tensor"
   ]
  },
  {
   "cell_type": "code",
   "execution_count": 18,
   "id": "7ba6bf41",
   "metadata": {},
   "outputs": [],
   "source": [
    "#Multiplication\n",
    "tensor=tensor*10"
   ]
  },
  {
   "cell_type": "code",
   "execution_count": 19,
   "id": "95498f5b",
   "metadata": {},
   "outputs": [
    {
     "data": {
      "text/plain": [
       "tensor([100, 150, 180])"
      ]
     },
     "execution_count": 19,
     "metadata": {},
     "output_type": "execute_result"
    }
   ],
   "source": [
    "tensor"
   ]
  },
  {
   "cell_type": "code",
   "execution_count": 22,
   "id": "6d1fe87c",
   "metadata": {},
   "outputs": [],
   "source": [
    "tensor=torch.multiply(tensor,10)"
   ]
  },
  {
   "cell_type": "code",
   "execution_count": 23,
   "id": "f7e38b51",
   "metadata": {},
   "outputs": [
    {
     "data": {
      "text/plain": [
       "tensor([1000, 1500, 1800])"
      ]
     },
     "execution_count": 23,
     "metadata": {},
     "output_type": "execute_result"
    }
   ],
   "source": [
    "tensor"
   ]
  },
  {
   "cell_type": "code",
   "execution_count": 24,
   "id": "c2da046b",
   "metadata": {},
   "outputs": [
    {
     "name": "stdout",
     "output_type": "stream",
     "text": [
      "tensor([1000000, 2250000, 3240000])\n"
     ]
    }
   ],
   "source": [
    "#element wise multiplication\n",
    "print(tensor*tensor)"
   ]
  },
  {
   "cell_type": "code",
   "execution_count": 30,
   "id": "175418c8",
   "metadata": {},
   "outputs": [],
   "source": [
    "#Matrix Multiplication\n",
    "#torch.matmul()\n",
    "# (5,7)*(4,7) don't work\n",
    "# (1,4)*(4,5) =(1,5) will work"
   ]
  },
  {
   "cell_type": "code",
   "execution_count": 31,
   "id": "c7e8fd8d",
   "metadata": {},
   "outputs": [
    {
     "data": {
      "text/plain": [
       "torch.Size([3])"
      ]
     },
     "execution_count": 31,
     "metadata": {},
     "output_type": "execute_result"
    }
   ],
   "source": [
    "tensor=torch.tensor([1,2,3])\n",
    "tensor.shape"
   ]
  },
  {
   "cell_type": "code",
   "execution_count": 34,
   "id": "450bf4db",
   "metadata": {},
   "outputs": [],
   "source": [
    "tensor_mul=torch.matmul(tensor,tensor)"
   ]
  },
  {
   "cell_type": "code",
   "execution_count": 36,
   "id": "cb184bc4",
   "metadata": {},
   "outputs": [
    {
     "data": {
      "text/plain": [
       "tensor(14)"
      ]
     },
     "execution_count": 36,
     "metadata": {},
     "output_type": "execute_result"
    }
   ],
   "source": [
    "tensor_mul \n",
    "#1*1+2*2+3*3=1+4+9=14"
   ]
  },
  {
   "cell_type": "code",
   "execution_count": 37,
   "id": "3a540a67",
   "metadata": {},
   "outputs": [],
   "source": [
    "tensor_mul=tensor@tensor"
   ]
  },
  {
   "cell_type": "code",
   "execution_count": 39,
   "id": "18729df6",
   "metadata": {},
   "outputs": [
    {
     "data": {
      "text/plain": [
       "tensor(14)"
      ]
     },
     "execution_count": 39,
     "metadata": {},
     "output_type": "execute_result"
    }
   ],
   "source": [
    "tensor_mul"
   ]
  },
  {
   "cell_type": "code",
   "execution_count": 45,
   "id": "d7601be5",
   "metadata": {},
   "outputs": [
    {
     "name": "stdout",
     "output_type": "stream",
     "text": [
      "tensor(1697)\n",
      "CPU times: total: 15.6 ms\n",
      "Wall time: 1.97 ms\n"
     ]
    }
   ],
   "source": [
    "%%time \n",
    "tensor=torch.tensor([10,21,34])\n",
    "tensor_mul=torch.matmul(tensor,tensor)\n",
    "print(tensor_mul)"
   ]
  },
  {
   "cell_type": "code",
   "execution_count": null,
   "id": "76552f33",
   "metadata": {},
   "outputs": [],
   "source": []
  }
 ],
 "metadata": {
  "kernelspec": {
   "display_name": "Python 3 (ipykernel)",
   "language": "python",
   "name": "python3"
  },
  "language_info": {
   "codemirror_mode": {
    "name": "ipython",
    "version": 3
   },
   "file_extension": ".py",
   "mimetype": "text/x-python",
   "name": "python",
   "nbconvert_exporter": "python",
   "pygments_lexer": "ipython3",
   "version": "3.9.12"
  }
 },
 "nbformat": 4,
 "nbformat_minor": 5
}
