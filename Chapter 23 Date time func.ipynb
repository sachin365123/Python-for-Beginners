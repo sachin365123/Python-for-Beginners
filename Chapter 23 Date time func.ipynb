{
 "cells": [
  {
   "cell_type": "code",
   "execution_count": 1,
   "id": "72cb1a95",
   "metadata": {},
   "outputs": [
    {
     "name": "stdout",
     "output_type": "stream",
     "text": [
      "0\n"
     ]
    }
   ],
   "source": [
    "f=0\n",
    "print(f)"
   ]
  },
  {
   "cell_type": "code",
   "execution_count": 2,
   "id": "d0a897fc",
   "metadata": {},
   "outputs": [
    {
     "name": "stdout",
     "output_type": "stream",
     "text": [
      "abc\n"
     ]
    }
   ],
   "source": [
    "f=\"abc\"\n",
    "print(f)"
   ]
  },
  {
   "cell_type": "code",
   "execution_count": 3,
   "id": "f5677e42",
   "metadata": {},
   "outputs": [
    {
     "name": "stdout",
     "output_type": "stream",
     "text": [
      "Sachin 123\n"
     ]
    }
   ],
   "source": [
    "print(\"Sachin \"+str(123)) #concatenation "
   ]
  },
  {
   "cell_type": "code",
   "execution_count": 6,
   "id": "701790ea",
   "metadata": {},
   "outputs": [
    {
     "name": "stdout",
     "output_type": "stream",
     "text": [
      "defination\n"
     ]
    }
   ],
   "source": [
    "def someFunction():\n",
    "    global f\n",
    "    f=\"defination\"\n",
    "#     print(f)\n",
    "\n",
    "someFunction()\n",
    "print(f)\n",
    "    \n",
    "    "
   ]
  },
  {
   "cell_type": "code",
   "execution_count": 7,
   "id": "71ae0b24",
   "metadata": {},
   "outputs": [
    {
     "name": "stdout",
     "output_type": "stream",
     "text": [
      "10 I am sachin 20\n",
      "30 I am sachin 40\n",
      "None\n",
      "27\n"
     ]
    }
   ],
   "source": [
    "def func2(arg1, arg2):\n",
    "    print(arg1, \"I am sachin\",arg2)\n",
    "    \n",
    "\n",
    "def cube(x):\n",
    "    return x*x*x\n",
    "\n",
    "\n",
    "func2(10,20)\n",
    "print(func2(30,40))\n",
    "print(cube(3))\n"
   ]
  },
  {
   "cell_type": "code",
   "execution_count": 9,
   "id": "4e865607",
   "metadata": {},
   "outputs": [
    {
     "name": "stdout",
     "output_type": "stream",
     "text": [
      "2\n",
      "16\n"
     ]
    }
   ],
   "source": [
    "def power(num,x=1):\n",
    "    result =1\n",
    "    for i in range(x):\n",
    "        result =result*num\n",
    "    return result\n",
    "    \n",
    "print(power(2))\n",
    "print(power(2,4))"
   ]
  },
  {
   "cell_type": "code",
   "execution_count": 10,
   "id": "9aabc057",
   "metadata": {},
   "outputs": [
    {
     "name": "stdout",
     "output_type": "stream",
     "text": [
      "440\n"
     ]
    }
   ],
   "source": [
    "def multi_add(*args):\n",
    "    result=0\n",
    "    for x in args:\n",
    "        result=result+x\n",
    "    return result\n",
    "\n",
    "print(multi_add(40,50,100,250)) "
   ]
  },
  {
   "cell_type": "code",
   "execution_count": 11,
   "id": "7ee0a14d",
   "metadata": {},
   "outputs": [],
   "source": [
    "def main():\n",
    "    x,y=10,100\n",
    "    if(x<y):\n",
    "        st=\"x is less than y\"\n",
    "    else:\n",
    "        st=\"x is greter than y\"\n",
    "    print(st)\n"
   ]
  },
  {
   "cell_type": "code",
   "execution_count": 12,
   "id": "71e8f45b",
   "metadata": {},
   "outputs": [
    {
     "name": "stdout",
     "output_type": "stream",
     "text": [
      "x is less than y\n"
     ]
    }
   ],
   "source": [
    "if __name__==\"__main__\":\n",
    "    main()"
   ]
  },
  {
   "cell_type": "code",
   "execution_count": 13,
   "id": "0fdf2f8f",
   "metadata": {},
   "outputs": [],
   "source": [
    "def main():\n",
    "#     def main():\n",
    "    x=0\n",
    "    while(x<5):\n",
    "        print(x)\n",
    "        x=x+1"
   ]
  },
  {
   "cell_type": "code",
   "execution_count": 14,
   "id": "bfd50170",
   "metadata": {},
   "outputs": [
    {
     "name": "stdout",
     "output_type": "stream",
     "text": [
      "0\n",
      "1\n",
      "2\n",
      "3\n",
      "4\n"
     ]
    }
   ],
   "source": [
    "if __name__==\"__main__\":\n",
    "    main()"
   ]
  },
  {
   "cell_type": "code",
   "execution_count": 15,
   "id": "50ce17cf",
   "metadata": {},
   "outputs": [],
   "source": [
    "def main():\n",
    "#     def main():\n",
    "    x=0\n",
    "    for x in range(5,10):\n",
    "        print(x)\n",
    "#         x=x+1"
   ]
  },
  {
   "cell_type": "code",
   "execution_count": 37,
   "id": "929d1698",
   "metadata": {},
   "outputs": [
    {
     "name": "stdout",
     "output_type": "stream",
     "text": [
      "5\n",
      "6\n",
      "7\n",
      "8\n",
      "9\n"
     ]
    }
   ],
   "source": [
    "if __name__==\"__main__\":\n",
    "    main()"
   ]
  },
  {
   "cell_type": "code",
   "execution_count": 16,
   "id": "4a8ef5ac",
   "metadata": {},
   "outputs": [
    {
     "name": "stdout",
     "output_type": "stream",
     "text": [
      "Mon\n",
      "Tue\n",
      "Wed\n",
      "Thu\n",
      "Fri\n",
      "Sat\n"
     ]
    }
   ],
   "source": [
    "days=[\"Mon\", \"Tue\", \"Wed\", \"Thu\",\"Fri\",\"Sat\"]\n",
    "for d in days:\n",
    "    print(d)\n"
   ]
  },
  {
   "cell_type": "code",
   "execution_count": 17,
   "id": "104ba2d5",
   "metadata": {},
   "outputs": [
    {
     "name": "stdout",
     "output_type": "stream",
     "text": [
      "5\n",
      "6\n",
      "7\n",
      "8\n"
     ]
    }
   ],
   "source": [
    "for x in range(5,10):\n",
    "    if (x==9):break\n",
    "    print(x)\n"
   ]
  },
  {
   "cell_type": "code",
   "execution_count": 18,
   "id": "7c5233cc",
   "metadata": {},
   "outputs": [
    {
     "name": "stdout",
     "output_type": "stream",
     "text": [
      "5\n",
      "7\n",
      "9\n"
     ]
    }
   ],
   "source": [
    "for x in range(5,10):\n",
    "    if (x%2==0):continue\n",
    "    print(x)"
   ]
  },
  {
   "cell_type": "code",
   "execution_count": 20,
   "id": "c7168e68",
   "metadata": {},
   "outputs": [
    {
     "name": "stdout",
     "output_type": "stream",
     "text": [
      "0 Mon\n",
      "1 Tue\n",
      "2 Wed\n",
      "3 Thu\n",
      "4 Fri\n",
      "5 Sat\n"
     ]
    }
   ],
   "source": [
    "days=[\"Mon\", \"Tue\", \"Wed\", \"Thu\",\"Fri\",\"Sat\"]\n",
    "for i,d in enumerate(days):\n",
    "    print(i,d)"
   ]
  },
  {
   "cell_type": "code",
   "execution_count": 21,
   "id": "502ed339",
   "metadata": {},
   "outputs": [
    {
     "name": "stdout",
     "output_type": "stream",
     "text": [
      "My Class method1\n",
      "My Class method 2 Sachin Saxena\n"
     ]
    }
   ],
   "source": [
    "class myClass():\n",
    "    def method1(self):\n",
    "        print(\"My Class method1\")\n",
    "        \n",
    "    def method2(self, someString):\n",
    "        print(\"My Class method 2\"+someString)\n",
    "\n",
    "def main():\n",
    "    c=myClass()\n",
    "    c.method1()\n",
    "    c.method2(\" Sachin Saxena\")\n",
    "    \n",
    "if __name__==\"__main__\":\n",
    "    main()\n",
    "    "
   ]
  },
  {
   "cell_type": "code",
   "execution_count": 52,
   "id": "c4132570",
   "metadata": {},
   "outputs": [
    {
     "name": "stdout",
     "output_type": "stream",
     "text": [
      "My Class method1\n",
      "Another method1\n",
      "Another method 2 Sachin Saxena\n"
     ]
    },
    {
     "ename": "NameError",
     "evalue": "name 'c2' is not defined",
     "output_type": "error",
     "traceback": [
      "\u001b[1;31m---------------------------------------------------------------------------\u001b[0m",
      "\u001b[1;31mNameError\u001b[0m                                 Traceback (most recent call last)",
      "\u001b[1;32m<ipython-input-52-abcf89949082>\u001b[0m in \u001b[0;36m<module>\u001b[1;34m\u001b[0m\n\u001b[0;32m     23\u001b[0m \u001b[1;33m\u001b[0m\u001b[0m\n\u001b[0;32m     24\u001b[0m \u001b[1;32mif\u001b[0m \u001b[0m__name__\u001b[0m\u001b[1;33m==\u001b[0m\u001b[1;34m\"__main__\"\u001b[0m\u001b[1;33m:\u001b[0m\u001b[1;33m\u001b[0m\u001b[1;33m\u001b[0m\u001b[0m\n\u001b[1;32m---> 25\u001b[1;33m     \u001b[0mmain\u001b[0m\u001b[1;33m(\u001b[0m\u001b[1;33m)\u001b[0m\u001b[1;33m\u001b[0m\u001b[1;33m\u001b[0m\u001b[0m\n\u001b[0m\u001b[0;32m     26\u001b[0m \u001b[1;33m\u001b[0m\u001b[0m\n",
      "\u001b[1;32m<ipython-input-52-abcf89949082>\u001b[0m in \u001b[0;36mmain\u001b[1;34m()\u001b[0m\n\u001b[0;32m     19\u001b[0m     \u001b[0mc\u001b[0m\u001b[1;33m.\u001b[0m\u001b[0mmethod1\u001b[0m\u001b[1;33m(\u001b[0m\u001b[1;33m)\u001b[0m\u001b[1;33m\u001b[0m\u001b[1;33m\u001b[0m\u001b[0m\n\u001b[0;32m     20\u001b[0m     \u001b[0mc\u001b[0m\u001b[1;33m.\u001b[0m\u001b[0mmethod2\u001b[0m\u001b[1;33m(\u001b[0m\u001b[1;34m\" Sachin Saxena\"\u001b[0m\u001b[1;33m)\u001b[0m\u001b[1;33m\u001b[0m\u001b[1;33m\u001b[0m\u001b[0m\n\u001b[1;32m---> 21\u001b[1;33m     \u001b[0mc2\u001b[0m\u001b[1;33m.\u001b[0m\u001b[0mmethod1\u001b[0m\u001b[1;33m(\u001b[0m\u001b[1;33m)\u001b[0m\u001b[1;33m\u001b[0m\u001b[1;33m\u001b[0m\u001b[0m\n\u001b[0m\u001b[0;32m     22\u001b[0m     \u001b[0mc2\u001b[0m\u001b[1;33m.\u001b[0m\u001b[0mmethod2\u001b[0m\u001b[1;33m(\u001b[0m\u001b[1;34m\" Sachin Saxena\"\u001b[0m\u001b[1;33m)\u001b[0m\u001b[1;33m\u001b[0m\u001b[1;33m\u001b[0m\u001b[0m\n\u001b[0;32m     23\u001b[0m \u001b[1;33m\u001b[0m\u001b[0m\n",
      "\u001b[1;31mNameError\u001b[0m: name 'c2' is not defined"
     ]
    }
   ],
   "source": [
    "class myClass():\n",
    "    def method1(self):\n",
    "        print(\"My Class method1\")\n",
    "        \n",
    "    def method2(self, someString):\n",
    "        print(\"My Class method 2\"+someString)\n",
    "\n",
    "   \n",
    "class anotherClass(myClass):\n",
    "    def method1(self):\n",
    "        myClass.method1(self)\n",
    "        print(\"Another method1\")\n",
    "        \n",
    "    def method2(self, someString):\n",
    "        print(\"Another method 2\"+someString)\n",
    "\n",
    "def main():\n",
    "    c=anotherClass()\n",
    "    c.method1()\n",
    "    c.method2(\" Sachin Saxena\")\n",
    "    c2.method1()\n",
    "    c2.method2(\" Sachin Saxena\")\n",
    "    \n",
    "if __name__==\"__main__\":\n",
    "    main()\n",
    "    \n"
   ]
  },
  {
   "cell_type": "code",
   "execution_count": 22,
   "id": "959169d6",
   "metadata": {},
   "outputs": [
    {
     "name": "stdout",
     "output_type": "stream",
     "text": [
      "4.0\n"
     ]
    }
   ],
   "source": [
    "import math \n",
    "print(math.sqrt(16))"
   ]
  },
  {
   "cell_type": "code",
   "execution_count": 23,
   "id": "a1de8187",
   "metadata": {},
   "outputs": [
    {
     "name": "stdout",
     "output_type": "stream",
     "text": [
      "3.141592653589793\n"
     ]
    }
   ],
   "source": [
    "print(math.pi)"
   ]
  },
  {
   "cell_type": "code",
   "execution_count": 24,
   "id": "acf725e0",
   "metadata": {},
   "outputs": [],
   "source": [
    "def Calc(currency, *rates):\n",
    "    for i in rates:\n",
    "        print(currency*i)\n",
    "    "
   ]
  },
  {
   "cell_type": "code",
   "execution_count": 25,
   "id": "7222f93d",
   "metadata": {},
   "outputs": [
    {
     "name": "stdout",
     "output_type": "stream",
     "text": [
      "200\n",
      "700\n",
      "None\n"
     ]
    }
   ],
   "source": [
    "print(Calc(10,20,70))"
   ]
  },
  {
   "cell_type": "code",
   "execution_count": 41,
   "id": "e46b5486",
   "metadata": {},
   "outputs": [],
   "source": [
    "# a=1\n",
    "# b=2\n",
    "# def func:\n",
    "#     global b\n",
    "#     b=a+b\n",
    "#     print(b)\n",
    "# #     print\n"
   ]
  },
  {
   "cell_type": "code",
   "execution_count": 42,
   "id": "de7ce81f",
   "metadata": {},
   "outputs": [],
   "source": [
    "# func()"
   ]
  },
  {
   "cell_type": "code",
   "execution_count": null,
   "id": "85dcc544",
   "metadata": {},
   "outputs": [],
   "source": []
  },
  {
   "cell_type": "code",
   "execution_count": 31,
   "id": "cb62babd",
   "metadata": {},
   "outputs": [
    {
     "name": "stdout",
     "output_type": "stream",
     "text": [
      "Today's date is:  2021-08-23\n",
      "Date Compnents:  23 8 2021\n",
      "25\n"
     ]
    }
   ],
   "source": [
    "from datetime import date\n",
    "from datetime import time\n",
    "from datetime import datetime\n",
    "\n",
    "def main():\n",
    "    today=date.today()\n",
    "    print(\"Today's date is: \",today)\n",
    "    print(\"Date Compnents: \", today.day, today.month, today.year)\n",
    "    t=today.day+2\n",
    "    print(t)\n",
    "    \n",
    "if __name__==\"__main__\":\n",
    "    main()"
   ]
  },
  {
   "cell_type": "code",
   "execution_count": 32,
   "id": "9e15768c",
   "metadata": {},
   "outputs": [
    {
     "name": "stdout",
     "output_type": "stream",
     "text": [
      "10:12:35.619439\n"
     ]
    }
   ],
   "source": [
    "today=datetime.time(datetime.now())\n",
    "print(today)\n"
   ]
  },
  {
   "cell_type": "code",
   "execution_count": 33,
   "id": "8cb77fe8",
   "metadata": {},
   "outputs": [],
   "source": [
    "from datetime import datetime\n",
    "def main():\n",
    "    now=datetime.now()\n",
    "    print(now.strftime(\"Current year is %Y\"))"
   ]
  },
  {
   "cell_type": "code",
   "execution_count": 34,
   "id": "cacd8d9b",
   "metadata": {},
   "outputs": [
    {
     "name": "stdout",
     "output_type": "stream",
     "text": [
      "Current year is 2021\n"
     ]
    }
   ],
   "source": [
    "if __name__==\"__main__\":\n",
    "    main()"
   ]
  },
  {
   "cell_type": "code",
   "execution_count": 35,
   "id": "c58ef010",
   "metadata": {},
   "outputs": [],
   "source": [
    "from datetime import datetime\n",
    "def main():\n",
    "    now=datetime.now()\n",
    "    print(now.strftime(\"%a, %d, %B %Y\"))"
   ]
  },
  {
   "cell_type": "code",
   "execution_count": 36,
   "id": "5debbbee",
   "metadata": {},
   "outputs": [
    {
     "name": "stdout",
     "output_type": "stream",
     "text": [
      "Mon, 23, August 2021\n"
     ]
    }
   ],
   "source": [
    "if __name__==\"__main__\":\n",
    "    main()"
   ]
  },
  {
   "cell_type": "code",
   "execution_count": 37,
   "id": "8f6aad30",
   "metadata": {},
   "outputs": [
    {
     "name": "stdout",
     "output_type": "stream",
     "text": [
      "365 days, 5:01:00\n",
      "Sachin: 2021-08-23 10:13:45.676944\n",
      "Sachin: 2022-08-23 10:13:45.676944\n"
     ]
    }
   ],
   "source": [
    "from datetime import date\n",
    "from datetime import time\n",
    "from datetime import datetime\n",
    "from datetime import timedelta\n",
    "\n",
    "print(timedelta(days=365,hours=5,minutes=1))\n",
    "now=datetime.now()\n",
    "print(\"Sachin: \"+str(now))\n",
    "print(\"Sachin: \"+str(now+timedelta(days=365)))\n",
    "\n",
    " "
   ]
  },
  {
   "cell_type": "code",
   "execution_count": 109,
   "id": "87762e75",
   "metadata": {},
   "outputs": [
    {
     "name": "stdout",
     "output_type": "stream",
     "text": [
      "365 days, 5:01:00\n",
      "Sachin: 2021-06-30 16:33:53.921668\n",
      "Saxena: 2021-07-23 16:33:53.921668\n"
     ]
    }
   ],
   "source": [
    "from datetime import date\n",
    "from datetime import time\n",
    "from datetime import datetime\n",
    "from datetime import timedelta\n",
    "\n",
    "print(timedelta(days=365,hours=5,minutes=1))\n",
    "now=datetime.now()\n",
    "print(\"Sachin: \"+str(now))\n",
    "print(\"Saxena: \"+str(now+timedelta(days=2,weeks=3)))"
   ]
  },
  {
   "cell_type": "code",
   "execution_count": 38,
   "id": "56d2a984",
   "metadata": {},
   "outputs": [
    {
     "name": "stdout",
     "output_type": "stream",
     "text": [
      "One week ago it was: Monday August 16 2021\n"
     ]
    }
   ],
   "source": [
    "t=datetime.now()-timedelta(weeks=1)\n",
    "s=t.strftime(\"%A %B %d %Y\")\n",
    "print(\"One week ago it was: \"+s)"
   ]
  },
  {
   "cell_type": "code",
   "execution_count": 39,
   "id": "585fe4fd",
   "metadata": {},
   "outputs": [
    {
     "name": "stdout",
     "output_type": "stream",
     "text": [
      "2021-08-23\n"
     ]
    }
   ],
   "source": [
    "now=date.today()\n",
    "print(now)"
   ]
  },
  {
   "cell_type": "code",
   "execution_count": null,
   "id": "bda100fc",
   "metadata": {},
   "outputs": [],
   "source": []
  },
  {
   "cell_type": "code",
   "execution_count": null,
   "id": "b21dad56",
   "metadata": {},
   "outputs": [],
   "source": []
  }
 ],
 "metadata": {
  "kernelspec": {
   "display_name": "Python 3",
   "language": "python",
   "name": "python3"
  },
  "language_info": {
   "codemirror_mode": {
    "name": "ipython",
    "version": 3
   },
   "file_extension": ".py",
   "mimetype": "text/x-python",
   "name": "python",
   "nbconvert_exporter": "python",
   "pygments_lexer": "ipython3",
   "version": "3.8.8"
  }
 },
 "nbformat": 4,
 "nbformat_minor": 5
}
