{
 "cells": [
  {
   "cell_type": "code",
   "execution_count": 1,
   "id": "e2510267",
   "metadata": {},
   "outputs": [],
   "source": [
    "tup1=('str1', 'str2')"
   ]
  },
  {
   "cell_type": "code",
   "execution_count": 2,
   "id": "2dd52eaf",
   "metadata": {},
   "outputs": [
    {
     "name": "stdout",
     "output_type": "stream",
     "text": [
      "('str1', 'str2')\n"
     ]
    }
   ],
   "source": [
    "print(tup1)"
   ]
  },
  {
   "cell_type": "code",
   "execution_count": 3,
   "id": "d643beae",
   "metadata": {},
   "outputs": [],
   "source": [
    "tup3=('p','c',2,5)"
   ]
  },
  {
   "cell_type": "code",
   "execution_count": 4,
   "id": "13b40394",
   "metadata": {},
   "outputs": [],
   "source": [
    "tup4=(1,2,3,4)"
   ]
  },
  {
   "cell_type": "code",
   "execution_count": 7,
   "id": "3782b3e7",
   "metadata": {},
   "outputs": [
    {
     "name": "stdout",
     "output_type": "stream",
     "text": [
      "(('p', 'c', 2, 5), 2)\n"
     ]
    }
   ],
   "source": [
    "print((tup3[0:],tup4[1]))"
   ]
  },
  {
   "cell_type": "code",
   "execution_count": 8,
   "id": "28c3621d",
   "metadata": {},
   "outputs": [],
   "source": [
    "import matplotlib.pyplot as plt"
   ]
  },
  {
   "cell_type": "code",
   "execution_count": 9,
   "id": "ea3cb755",
   "metadata": {},
   "outputs": [],
   "source": [
    "from matplotlib import pyplot as plt "
   ]
  },
  {
   "cell_type": "code",
   "execution_count": 10,
   "id": "944ec924",
   "metadata": {},
   "outputs": [],
   "source": [
    "x=['a','b','c','d']\n",
    "y=[10,12,15,18]"
   ]
  },
  {
   "cell_type": "code",
   "execution_count": 13,
   "id": "78fbd442",
   "metadata": {},
   "outputs": [
    {
     "data": {
      "text/plain": [
       "[<matplotlib.lines.Line2D at 0x17264f71430>]"
      ]
     },
     "execution_count": 13,
     "metadata": {},
     "output_type": "execute_result"
    },
    {
     "data": {
      "image/png": "[encoded data removed]",
      "text/plain": [
       "<Figure size 432x288 with 1 Axes>"
      ]
     },
     "metadata": {
      "needs_background": "light"
     },
     "output_type": "display_data"
    }
   ],
   "source": [
    "plt.plot(x,y)"
   ]
  },
  {
   "cell_type": "code",
   "execution_count": 12,
   "id": "1bccb8c2",
   "metadata": {},
   "outputs": [],
   "source": [
    "plt.show()"
   ]
  },
  {
   "cell_type": "code",
   "execution_count": null,
   "id": "11d066b2",
   "metadata": {},
   "outputs": [],
   "source": []
  }
 ],
 "metadata": {
  "kernelspec": {
   "display_name": "Python 3",
   "language": "python",
   "name": "python3"
  },
  "language_info": {
   "codemirror_mode": {
    "name": "ipython",
    "version": 3
   },
   "file_extension": ".py",
   "mimetype": "text/x-python",
   "name": "python",
   "nbconvert_exporter": "python",
   "pygments_lexer": "ipython3",
   "version": "3.8.8"
  }
 },
 "nbformat": 4,
 "nbformat_minor": 5
}
