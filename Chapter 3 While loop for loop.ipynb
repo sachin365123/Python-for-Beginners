{
 "cells": [
  {
   "cell_type": "code",
   "execution_count": 2,
   "id": "1cd4f6d4",
   "metadata": {},
   "outputs": [
    {
     "name": "stdout",
     "output_type": "stream",
     "text": [
      "Hello\n",
      "Hello\n",
      "Hello\n"
     ]
    }
   ],
   "source": [
    "# while loop\n",
    "count=0\n",
    "while(count<3):\n",
    "    count=count+1\n",
    "    print(\"Hello\")\n"
   ]
  },
  {
   "cell_type": "code",
   "execution_count": 3,
   "id": "5cf588f2",
   "metadata": {},
   "outputs": [
    {
     "name": "stdout",
     "output_type": "stream",
     "text": [
      "Hello\n",
      "Hello\n",
      "Hello\n",
      "Hello\n"
     ]
    }
   ],
   "source": [
    "# while loop\n",
    "count=1\n",
    "while(count<5):\n",
    "    count=count+1\n",
    "    print(\"Hello\")"
   ]
  },
  {
   "cell_type": "code",
   "execution_count": 4,
   "id": "4ad6926f",
   "metadata": {},
   "outputs": [
    {
     "name": "stdout",
     "output_type": "stream",
     "text": [
      "4\n",
      "3\n",
      "2\n",
      "1\n"
     ]
    }
   ],
   "source": [
    "a=[1,2,3,4]\n",
    "while a:\n",
    "    print(a.pop())"
   ]
  },
  {
   "cell_type": "code",
   "execution_count": 5,
   "id": "c0ce0b68",
   "metadata": {},
   "outputs": [
    {
     "name": "stdout",
     "output_type": "stream",
     "text": [
      "Aim Tutorial\n",
      "Aim Tutorial\n",
      "Aim Tutorial\n",
      "Aim Tutorial\n",
      "Aim Tutorial\n"
     ]
    }
   ],
   "source": [
    "count=0\n",
    "while(count<5): count+=1; print(\"Aim Tutorial\")"
   ]
  },
  {
   "cell_type": "code",
   "execution_count": 6,
   "id": "b99919ea",
   "metadata": {},
   "outputs": [
    {
     "name": "stdout",
     "output_type": "stream",
     "text": [
      "Aim Tutorial\n",
      "Aim Tutorial\n",
      "Aim Tutorial\n",
      "Aim Tutorial\n",
      "Aim Tutorial\n",
      "Aim Tutorial\n",
      "Aim Tutorial\n",
      "Aim Tutorial\n",
      "Aim Tutorial\n",
      "Aim Tutorial\n"
     ]
    }
   ],
   "source": [
    "# For loop\n",
    "for i in range(0,10):\n",
    "    print(\"Aim Tutorial\")"
   ]
  },
  {
   "cell_type": "code",
   "execution_count": 7,
   "id": "432cac0b",
   "metadata": {},
   "outputs": [
    {
     "name": "stdout",
     "output_type": "stream",
     "text": [
      "Aim Tutorial\n",
      "Aim Tutorial\n",
      "Aim Tutorial\n",
      "Aim Tutorial\n"
     ]
    }
   ],
   "source": [
    "for i in range(1,5):\n",
    "    print(\"Aim Tutorial\")"
   ]
  },
  {
   "cell_type": "code",
   "execution_count": 8,
   "id": "fa2183d4",
   "metadata": {},
   "outputs": [
    {
     "name": "stdout",
     "output_type": "stream",
     "text": [
      "orange\n",
      "Papaya\n"
     ]
    }
   ],
   "source": [
    "fruits=[\"orange\",\"Papaya\"]\n",
    "for x in fruits:\n",
    "    print(x)"
   ]
  },
  {
   "cell_type": "code",
   "execution_count": 9,
   "id": "befeabdb",
   "metadata": {},
   "outputs": [
    {
     "name": "stdout",
     "output_type": "stream",
     "text": [
      "A\n",
      "i\n",
      "m\n",
      " \n",
      "T\n",
      "u\n",
      "t\n",
      "o\n",
      "r\n",
      "i\n",
      "a\n",
      "l\n"
     ]
    }
   ],
   "source": [
    "\n",
    "for x in \"Aim Tutorial\":\n",
    "    print(x)"
   ]
  },
  {
   "cell_type": "code",
   "execution_count": null,
   "id": "425eb3d2",
   "metadata": {},
   "outputs": [],
   "source": []
  },
  {
   "cell_type": "code",
   "execution_count": null,
   "id": "630db715",
   "metadata": {},
   "outputs": [],
   "source": []
  },
  {
   "cell_type": "code",
   "execution_count": null,
   "id": "a2b963d0",
   "metadata": {},
   "outputs": [],
   "source": []
  }
 ],
 "metadata": {
  "kernelspec": {
   "display_name": "Python 3",
   "language": "python",
   "name": "python3"
  },
  "language_info": {
   "codemirror_mode": {
    "name": "ipython",
    "version": 3
   },
   "file_extension": ".py",
   "mimetype": "text/x-python",
   "name": "python",
   "nbconvert_exporter": "python",
   "pygments_lexer": "ipython3",
   "version": "3.8.8"
  }
 },
 "nbformat": 4,
 "nbformat_minor": 5
}
