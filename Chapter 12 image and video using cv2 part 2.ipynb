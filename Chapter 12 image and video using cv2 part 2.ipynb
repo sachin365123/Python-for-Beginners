{
 "cells": [
  {
   "cell_type": "code",
   "execution_count": 1,
   "metadata": {},
   "outputs": [],
   "source": [
    "import numpy as np\n",
    "import cv2\n",
    "img = cv2.imread('devon.jpg')\n",
    "#print(img.shape)\n",
    "\n",
    "cv2.imshow('Image', img)\n",
    "cv2.waitKey(0)\n",
    "cv2.destroyAllWindows()\n"
   ]
  },
  {
   "cell_type": "code",
   "execution_count": 3,
   "metadata": {},
   "outputs": [],
   "source": [
    "import numpy as np\n",
    "import cv2\n",
    "img = cv2.imread('typewriter.jpg')\n",
    "#print(img.shape)\n",
    "\n",
    "cv2.imshow('Image', img)\n",
    "cv2.waitKey(0)\n",
    "cv2.destroyAllWindows()"
   ]
  },
  {
   "cell_type": "code",
   "execution_count": 6,
   "metadata": {},
   "outputs": [
    {
     "name": "stdout",
     "output_type": "stream",
     "text": [
      "0 tench, Tinca tinca\n",
      "1 goldfish, Carassius auratus\n",
      "2 great white shark, white shark, man-eater, man-eating shark, Carcharodon carcharias\n",
      "3 tiger shark, Galeocerdo cuvieri\n"
     ]
    }
   ],
   "source": [
    "import numpy as np\n",
    "import cv2\n",
    "img = cv2.imread('typewriter.jpg')\n",
    "#print(img.shape)\n",
    "\n",
    "all_rows = open('synset_words.txt').read().strip().split(\"\\n\")\n",
    "\n",
    "classes = [r[r.find(' ') + 1:] for r in all_rows]\n",
    "\n",
    "for (i,c) in enumerate(classes):\n",
    "    if i==4:\n",
    "        break\n",
    "    print(i,c)\n",
    "\n",
    "cv2.imshow('Image', img)\n",
    "cv2.waitKey(0)\n",
    "cv2.destroyAllWindows()\n"
   ]
  },
  {
   "cell_type": "code",
   "execution_count": 9,
   "metadata": {},
   "outputs": [
    {
     "name": "stdout",
     "output_type": "stream",
     "text": [
      "1. typewriter keyboard (878): Probability 85.4%\n",
      "2. space bar (810): Probability 5.45%\n",
      "3. radiator (753): Probability 2.01%\n",
      "4. switch, electric switch, electrical switch (844): Probability 0.888%\n",
      "5. stove (827): Probability 0.873%\n"
     ]
    }
   ],
   "source": [
    "import numpy as np\n",
    "import cv2\n",
    "img = cv2.imread('typewriter.jpg')\n",
    "#print(img.shape)\n",
    "\n",
    "all_rows = open('synset_words.txt').read().strip().split(\"\\n\")\n",
    "\n",
    "classes = [r[r.find(' ') + 1:] for r in all_rows]\n",
    "\n",
    "net = cv2.dnn.readNetFromCaffe('bvlc_googlenet.prototxt','bvlc_googlenet.caffemodel')\n",
    "\n",
    "blob = cv2.dnn.blobFromImage(img, 1, (224,224))\n",
    "\n",
    "net.setInput(blob)\n",
    "\n",
    "outp = net.forward()\n",
    "#print(outp)\n",
    "idx = np.argsort(outp[0])[::-1][:5]\n",
    "\n",
    "for (i,id) in enumerate(idx):\n",
    "    print('{}. {} ({}): Probability {:.3}%'.format(i+1, classes[id], id, outp[0][id]*100))\n",
    "#for (i,c) in enumerate(classes):\n",
    "#    if i==4:\n",
    "#        break\n",
    "#    print(i,c)\n",
    "\n",
    "cv2.imshow('Image', img)\n",
    "cv2.waitKey(0)\n",
    "cv2.destroyAllWindows()\n"
   ]
  },
  {
   "cell_type": "code",
   "execution_count": null,
   "metadata": {},
   "outputs": [],
   "source": []
  },
  {
   "cell_type": "code",
   "execution_count": null,
   "metadata": {},
   "outputs": [],
   "source": []
  },
  {
   "cell_type": "code",
   "execution_count": null,
   "metadata": {},
   "outputs": [],
   "source": []
  },
  {
   "cell_type": "code",
   "execution_count": null,
   "metadata": {},
   "outputs": [],
   "source": []
  },
  {
   "cell_type": "code",
   "execution_count": null,
   "metadata": {},
   "outputs": [],
   "source": []
  }
 ],
 "metadata": {
  "kernelspec": {
   "display_name": "Python 3",
   "language": "python",
   "name": "python3"
  },
  "language_info": {
   "codemirror_mode": {
    "name": "ipython",
    "version": 3
   },
   "file_extension": ".py",
   "mimetype": "text/x-python",
   "name": "python",
   "nbconvert_exporter": "python",
   "pygments_lexer": "ipython3",
   "version": "3.8.5"
  }
 },
 "nbformat": 4,
 "nbformat_minor": 4
}
