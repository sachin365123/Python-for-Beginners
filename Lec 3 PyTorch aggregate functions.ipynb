{
 "cells": [
  {
   "cell_type": "code",
   "execution_count": 3,
   "id": "91de981a",
   "metadata": {},
   "outputs": [],
   "source": [
    "# PyTorch aggregate functions\n",
    "import torch"
   ]
  },
  {
   "cell_type": "code",
   "execution_count": 4,
   "id": "f4773cc1",
   "metadata": {},
   "outputs": [
    {
     "data": {
      "text/plain": [
       "tensor([ 0,  5, 10, 15, 20, 25, 30, 35, 40, 45, 50, 55, 60, 65, 70, 75, 80, 85,\n",
       "        90, 95])"
      ]
     },
     "execution_count": 4,
     "metadata": {},
     "output_type": "execute_result"
    }
   ],
   "source": [
    "x=torch.arange(0,100,5)\n",
    "x"
   ]
  },
  {
   "cell_type": "code",
   "execution_count": 5,
   "id": "abd7bd0c",
   "metadata": {},
   "outputs": [
    {
     "name": "stdout",
     "output_type": "stream",
     "text": [
      "Minimum value: 0\n",
      "Maimum value: 95\n"
     ]
    }
   ],
   "source": [
    "print(f\"Minimum value: {x.min()}\")\n",
    "print(f\"Maimum value: {x.max()}\")\n"
   ]
  },
  {
   "cell_type": "code",
   "execution_count": 8,
   "id": "03068792",
   "metadata": {},
   "outputs": [
    {
     "name": "stdout",
     "output_type": "stream",
     "text": [
      "Mean value: 47.5\n"
     ]
    }
   ],
   "source": [
    "print(f\"Mean value: {x.type(torch.float32).mean()}\")"
   ]
  },
  {
   "cell_type": "code",
   "execution_count": 9,
   "id": "490f22e0",
   "metadata": {},
   "outputs": [
    {
     "data": {
      "text/plain": [
       "tensor(95)"
      ]
     },
     "execution_count": 9,
     "metadata": {},
     "output_type": "execute_result"
    }
   ],
   "source": [
    "torch.max(x)"
   ]
  },
  {
   "cell_type": "code",
   "execution_count": 10,
   "id": "9c513b4c",
   "metadata": {},
   "outputs": [
    {
     "data": {
      "text/plain": [
       "tensor(0)"
      ]
     },
     "execution_count": 10,
     "metadata": {},
     "output_type": "execute_result"
    }
   ],
   "source": [
    "torch.min(x)"
   ]
  },
  {
   "cell_type": "code",
   "execution_count": 11,
   "id": "2d9303e3",
   "metadata": {},
   "outputs": [
    {
     "data": {
      "text/plain": [
       "tensor(47.5000)"
      ]
     },
     "execution_count": 11,
     "metadata": {},
     "output_type": "execute_result"
    }
   ],
   "source": [
    "torch.mean(x.type(torch.float32))"
   ]
  },
  {
   "cell_type": "code",
   "execution_count": 13,
   "id": "e0efe4aa",
   "metadata": {},
   "outputs": [
    {
     "data": {
      "text/plain": [
       "tensor(950)"
      ]
     },
     "execution_count": 13,
     "metadata": {},
     "output_type": "execute_result"
    }
   ],
   "source": [
    "torch.sum(x)"
   ]
  },
  {
   "cell_type": "code",
   "execution_count": 14,
   "id": "aaa14818",
   "metadata": {},
   "outputs": [
    {
     "data": {
      "text/plain": [
       "(tensor([1., 2., 3., 4., 5., 6., 7.]), torch.Size([7]))"
      ]
     },
     "execution_count": 14,
     "metadata": {},
     "output_type": "execute_result"
    }
   ],
   "source": [
    "#reshape\n",
    "x=torch.arange(1.,8.)\n",
    "x, x.shape"
   ]
  },
  {
   "cell_type": "code",
   "execution_count": 15,
   "id": "b99c9961",
   "metadata": {},
   "outputs": [
    {
     "data": {
      "text/plain": [
       "torch.float32"
      ]
     },
     "execution_count": 15,
     "metadata": {},
     "output_type": "execute_result"
    }
   ],
   "source": [
    "x.dtype"
   ]
  },
  {
   "cell_type": "code",
   "execution_count": 16,
   "id": "51eaad2d",
   "metadata": {},
   "outputs": [
    {
     "data": {
      "text/plain": [
       "torch.Size([1, 7])"
      ]
     },
     "execution_count": 16,
     "metadata": {},
     "output_type": "execute_result"
    }
   ],
   "source": [
    "x_reshaped=x.reshape(1,7)\n",
    "x_reshaped.shape"
   ]
  },
  {
   "cell_type": "code",
   "execution_count": 18,
   "id": "39b04ac2",
   "metadata": {},
   "outputs": [
    {
     "data": {
      "text/plain": [
       "tensor([[7., 2., 3., 4., 5., 6., 7.]])"
      ]
     },
     "execution_count": 18,
     "metadata": {},
     "output_type": "execute_result"
    }
   ],
   "source": [
    "x_reshaped[:,0]=7\n",
    "x_reshaped"
   ]
  },
  {
   "cell_type": "code",
   "execution_count": 20,
   "id": "c88539fa",
   "metadata": {},
   "outputs": [
    {
     "data": {
      "text/plain": [
       "tensor([[7., 2., 3., 4., 5., 6., 7.],\n",
       "        [7., 2., 3., 4., 5., 6., 7.],\n",
       "        [7., 2., 3., 4., 5., 6., 7.],\n",
       "        [7., 2., 3., 4., 5., 6., 7.],\n",
       "        [7., 2., 3., 4., 5., 6., 7.]])"
      ]
     },
     "execution_count": 20,
     "metadata": {},
     "output_type": "execute_result"
    }
   ],
   "source": [
    "x_stack=torch.stack([x,x,x,x,x],dim=0)\n",
    "x_stack"
   ]
  },
  {
   "cell_type": "code",
   "execution_count": 21,
   "id": "555bfec1",
   "metadata": {},
   "outputs": [],
   "source": [
    "#image parametrs\n",
    "x_original=torch.rand(size=(224,224,3))"
   ]
  },
  {
   "cell_type": "code",
   "execution_count": 22,
   "id": "335b927f",
   "metadata": {},
   "outputs": [
    {
     "data": {
      "text/plain": [
       "tensor([[[0.8581, 0.6958, 0.2149],\n",
       "         [0.5000, 0.6728, 0.9270],\n",
       "         [0.9594, 0.6978, 0.4489],\n",
       "         ...,\n",
       "         [0.7143, 0.5118, 0.3860],\n",
       "         [0.4034, 0.0382, 0.6675],\n",
       "         [0.9454, 0.1632, 0.3132]],\n",
       "\n",
       "        [[0.5999, 0.2670, 0.5904],\n",
       "         [0.5444, 0.5282, 0.7186],\n",
       "         [0.9252, 0.4924, 0.1839],\n",
       "         ...,\n",
       "         [0.4936, 0.6352, 0.4265],\n",
       "         [0.7778, 0.5459, 0.9472],\n",
       "         [0.4914, 0.2155, 0.2039]],\n",
       "\n",
       "        [[0.3539, 0.5276, 0.2540],\n",
       "         [0.0128, 0.5403, 0.4713],\n",
       "         [0.6738, 0.4213, 0.3182],\n",
       "         ...,\n",
       "         [0.2946, 0.5311, 0.6587],\n",
       "         [0.9507, 0.3284, 0.2596],\n",
       "         [0.2588, 0.9619, 0.3535]],\n",
       "\n",
       "        ...,\n",
       "\n",
       "        [[0.7690, 0.0435, 0.3251],\n",
       "         [0.6827, 0.0848, 0.5755],\n",
       "         [0.4808, 0.8946, 0.1580],\n",
       "         ...,\n",
       "         [0.5336, 0.9950, 0.7562],\n",
       "         [0.7794, 0.9434, 0.1431],\n",
       "         [0.0455, 0.0290, 0.7778]],\n",
       "\n",
       "        [[0.6759, 0.3856, 0.1442],\n",
       "         [0.4803, 0.7835, 0.2760],\n",
       "         [0.4632, 0.9494, 0.2034],\n",
       "         ...,\n",
       "         [0.5671, 0.0182, 0.6701],\n",
       "         [0.1016, 0.5840, 0.6782],\n",
       "         [0.5037, 0.6491, 0.7571]],\n",
       "\n",
       "        [[0.4928, 0.4692, 0.3919],\n",
       "         [0.3753, 0.8078, 0.4730],\n",
       "         [0.8284, 0.2624, 0.4493],\n",
       "         ...,\n",
       "         [0.7704, 0.2616, 0.4522],\n",
       "         [0.5833, 0.7912, 0.8561],\n",
       "         [0.1052, 0.5381, 0.7472]]])"
      ]
     },
     "execution_count": 22,
     "metadata": {},
     "output_type": "execute_result"
    }
   ],
   "source": [
    "x_original"
   ]
  },
  {
   "cell_type": "code",
   "execution_count": 23,
   "id": "0e82dd4a",
   "metadata": {},
   "outputs": [],
   "source": [
    "x_permute=x_original.permute(2,0,1)"
   ]
  },
  {
   "cell_type": "code",
   "execution_count": 24,
   "id": "fe627529",
   "metadata": {},
   "outputs": [
    {
     "data": {
      "text/plain": [
       "tensor([[[0.8581, 0.5000, 0.9594,  ..., 0.7143, 0.4034, 0.9454],\n",
       "         [0.5999, 0.5444, 0.9252,  ..., 0.4936, 0.7778, 0.4914],\n",
       "         [0.3539, 0.0128, 0.6738,  ..., 0.2946, 0.9507, 0.2588],\n",
       "         ...,\n",
       "         [0.7690, 0.6827, 0.4808,  ..., 0.5336, 0.7794, 0.0455],\n",
       "         [0.6759, 0.4803, 0.4632,  ..., 0.5671, 0.1016, 0.5037],\n",
       "         [0.4928, 0.3753, 0.8284,  ..., 0.7704, 0.5833, 0.1052]],\n",
       "\n",
       "        [[0.6958, 0.6728, 0.6978,  ..., 0.5118, 0.0382, 0.1632],\n",
       "         [0.2670, 0.5282, 0.4924,  ..., 0.6352, 0.5459, 0.2155],\n",
       "         [0.5276, 0.5403, 0.4213,  ..., 0.5311, 0.3284, 0.9619],\n",
       "         ...,\n",
       "         [0.0435, 0.0848, 0.8946,  ..., 0.9950, 0.9434, 0.0290],\n",
       "         [0.3856, 0.7835, 0.9494,  ..., 0.0182, 0.5840, 0.6491],\n",
       "         [0.4692, 0.8078, 0.2624,  ..., 0.2616, 0.7912, 0.5381]],\n",
       "\n",
       "        [[0.2149, 0.9270, 0.4489,  ..., 0.3860, 0.6675, 0.3132],\n",
       "         [0.5904, 0.7186, 0.1839,  ..., 0.4265, 0.9472, 0.2039],\n",
       "         [0.2540, 0.4713, 0.3182,  ..., 0.6587, 0.2596, 0.3535],\n",
       "         ...,\n",
       "         [0.3251, 0.5755, 0.1580,  ..., 0.7562, 0.1431, 0.7778],\n",
       "         [0.1442, 0.2760, 0.2034,  ..., 0.6701, 0.6782, 0.7571],\n",
       "         [0.3919, 0.4730, 0.4493,  ..., 0.4522, 0.8561, 0.7472]]])"
      ]
     },
     "execution_count": 24,
     "metadata": {},
     "output_type": "execute_result"
    }
   ],
   "source": [
    "x_permute"
   ]
  },
  {
   "cell_type": "code",
   "execution_count": 25,
   "id": "4124f3e2",
   "metadata": {},
   "outputs": [
    {
     "data": {
      "text/plain": [
       "torch.Size([3, 224, 224])"
      ]
     },
     "execution_count": 25,
     "metadata": {},
     "output_type": "execute_result"
    }
   ],
   "source": [
    "\n",
    "x_permute.shape"
   ]
  },
  {
   "cell_type": "code",
   "execution_count": 26,
   "id": "128cfd85",
   "metadata": {},
   "outputs": [
    {
     "data": {
      "text/plain": [
       "torch.Size([224, 224, 3])"
      ]
     },
     "execution_count": 26,
     "metadata": {},
     "output_type": "execute_result"
    }
   ],
   "source": [
    "x_original.shape\n"
   ]
  },
  {
   "cell_type": "code",
   "execution_count": 34,
   "id": "a8878307",
   "metadata": {},
   "outputs": [
    {
     "data": {
      "text/plain": [
       "(tensor([[[1, 2, 3],\n",
       "          [4, 5, 6],\n",
       "          [7, 8, 9]]]),\n",
       " torch.Size([1, 3, 3]))"
      ]
     },
     "execution_count": 34,
     "metadata": {},
     "output_type": "execute_result"
    }
   ],
   "source": [
    "#reshape again\n",
    "x=torch.arange(1,10).reshape(1,3,3)\n",
    "x, x.shape"
   ]
  },
  {
   "cell_type": "code",
   "execution_count": 41,
   "id": "d20a5635",
   "metadata": {},
   "outputs": [
    {
     "name": "stdout",
     "output_type": "stream",
     "text": [
      "tensor(9)\n"
     ]
    }
   ],
   "source": [
    "print(x[0][2][2])"
   ]
  },
  {
   "cell_type": "code",
   "execution_count": 43,
   "id": "d9fa629e",
   "metadata": {},
   "outputs": [
    {
     "name": "stdout",
     "output_type": "stream",
     "text": [
      "tensor([[7, 8, 9]])\n"
     ]
    }
   ],
   "source": [
    "print(x[:,2])"
   ]
  },
  {
   "cell_type": "code",
   "execution_count": 44,
   "id": "e87a1605",
   "metadata": {},
   "outputs": [
    {
     "name": "stdout",
     "output_type": "stream",
     "text": [
      "tensor([5])\n"
     ]
    }
   ],
   "source": [
    "print(x[:,1,1])"
   ]
  },
  {
   "cell_type": "code",
   "execution_count": 45,
   "id": "17458360",
   "metadata": {},
   "outputs": [],
   "source": [
    "import random"
   ]
  },
  {
   "cell_type": "code",
   "execution_count": 47,
   "id": "635c4899",
   "metadata": {},
   "outputs": [],
   "source": [
    "RANDOM_SEED=21\n",
    "y=torch.manual_seed(seed=RANDOM_SEED)\n",
    "random_tensor_C=torch.rand(3,4)"
   ]
  },
  {
   "cell_type": "code",
   "execution_count": 48,
   "id": "4689b7bf",
   "metadata": {},
   "outputs": [
    {
     "data": {
      "text/plain": [
       "<torch._C.Generator at 0x1cbfc388a70>"
      ]
     },
     "execution_count": 48,
     "metadata": {},
     "output_type": "execute_result"
    }
   ],
   "source": [
    "y"
   ]
  },
  {
   "cell_type": "code",
   "execution_count": 49,
   "id": "d59704f5",
   "metadata": {},
   "outputs": [],
   "source": [
    "torch.random.manual_seed(seed=RANDOM_SEED)\n",
    "random_tensor_D=torch.rand(3,4)"
   ]
  },
  {
   "cell_type": "code",
   "execution_count": 50,
   "id": "0f2a77c2",
   "metadata": {},
   "outputs": [
    {
     "data": {
      "text/plain": [
       "tensor([[0.4736, 0.6136, 0.0121, 0.0396],\n",
       "        [0.5674, 0.2538, 0.5338, 0.6093],\n",
       "        [0.7162, 0.6043, 0.9980, 0.1445]])"
      ]
     },
     "execution_count": 50,
     "metadata": {},
     "output_type": "execute_result"
    }
   ],
   "source": [
    "random_tensor_D"
   ]
  },
  {
   "cell_type": "code",
   "execution_count": 51,
   "id": "0ca11b25",
   "metadata": {},
   "outputs": [
    {
     "data": {
      "text/plain": [
       "tensor([[0.4736, 0.6136, 0.0121, 0.0396],\n",
       "        [0.5674, 0.2538, 0.5338, 0.6093],\n",
       "        [0.7162, 0.6043, 0.9980, 0.1445]])"
      ]
     },
     "execution_count": 51,
     "metadata": {},
     "output_type": "execute_result"
    }
   ],
   "source": [
    "random_tensor_C"
   ]
  },
  {
   "cell_type": "code",
   "execution_count": 52,
   "id": "2e031d32",
   "metadata": {},
   "outputs": [
    {
     "data": {
      "text/plain": [
       "tensor([[True, True, True, True],\n",
       "        [True, True, True, True],\n",
       "        [True, True, True, True]])"
      ]
     },
     "execution_count": 52,
     "metadata": {},
     "output_type": "execute_result"
    }
   ],
   "source": [
    "random_tensor_D==random_tensor_C"
   ]
  },
  {
   "cell_type": "code",
   "execution_count": 53,
   "id": "40f83f7d",
   "metadata": {},
   "outputs": [
    {
     "name": "stderr",
     "output_type": "stream",
     "text": [
      "'nvidia-smi' is not recognized as an internal or external command,\n",
      "operable program or batch file.\n"
     ]
    }
   ],
   "source": [
    "#another device\n",
    "\n",
    "!nvidia-smi"
   ]
  },
  {
   "cell_type": "code",
   "execution_count": 55,
   "id": "148b9c52",
   "metadata": {},
   "outputs": [
    {
     "name": "stdout",
     "output_type": "stream",
     "text": [
      "Collecting jupyterlab-nvdashboard\n",
      "  Downloading jupyterlab_nvdashboard-0.7.0-py3-none-any.whl (37 kB)\n",
      "Collecting jupyter-server-proxy\n",
      "  Downloading jupyter_server_proxy-3.2.2-py3-none-any.whl (36 kB)\n",
      "Requirement already satisfied: psutil in c:\\users\\sachin\\anaconda3\\lib\\site-packages (from jupyterlab-nvdashboard) (5.8.0)\n",
      "Requirement already satisfied: jupyterlab==3.*,>=3.0.0rc13 in c:\\users\\sachin\\anaconda3\\lib\\site-packages (from jupyterlab-nvdashboard) (3.3.2)\n",
      "Requirement already satisfied: bokeh>2.1 in c:\\users\\sachin\\anaconda3\\lib\\site-packages (from jupyterlab-nvdashboard) (2.4.2)\n",
      "Collecting pynvml\n",
      "  Downloading pynvml-11.4.1-py3-none-any.whl (46 kB)\n",
      "Requirement already satisfied: nbclassic~=0.2 in c:\\users\\sachin\\anaconda3\\lib\\site-packages (from jupyterlab==3.*,>=3.0.0rc13->jupyterlab-nvdashboard) (0.3.5)\n",
      "Requirement already satisfied: packaging in c:\\users\\sachin\\anaconda3\\lib\\site-packages (from jupyterlab==3.*,>=3.0.0rc13->jupyterlab-nvdashboard) (21.3)\n",
      "Requirement already satisfied: jupyterlab-server~=2.10 in c:\\users\\sachin\\anaconda3\\lib\\site-packages (from jupyterlab==3.*,>=3.0.0rc13->jupyterlab-nvdashboard) (2.10.3)\n",
      "Requirement already satisfied: jupyter-server~=1.4 in c:\\users\\sachin\\anaconda3\\lib\\site-packages (from jupyterlab==3.*,>=3.0.0rc13->jupyterlab-nvdashboard) (1.13.5)\n",
      "Requirement already satisfied: jinja2>=2.1 in c:\\users\\sachin\\anaconda3\\lib\\site-packages (from jupyterlab==3.*,>=3.0.0rc13->jupyterlab-nvdashboard) (2.11.3)\n",
      "Requirement already satisfied: tornado>=6.1.0 in c:\\users\\sachin\\anaconda3\\lib\\site-packages (from jupyterlab==3.*,>=3.0.0rc13->jupyterlab-nvdashboard) (6.1)\n",
      "Requirement already satisfied: ipython in c:\\users\\sachin\\anaconda3\\lib\\site-packages (from jupyterlab==3.*,>=3.0.0rc13->jupyterlab-nvdashboard) (8.2.0)\n",
      "Requirement already satisfied: jupyter-core in c:\\users\\sachin\\anaconda3\\lib\\site-packages (from jupyterlab==3.*,>=3.0.0rc13->jupyterlab-nvdashboard) (4.9.2)\n",
      "Requirement already satisfied: numpy>=1.11.3 in c:\\users\\sachin\\anaconda3\\lib\\site-packages (from bokeh>2.1->jupyterlab-nvdashboard) (1.21.5)\n",
      "Requirement already satisfied: PyYAML>=3.10 in c:\\users\\sachin\\anaconda3\\lib\\site-packages (from bokeh>2.1->jupyterlab-nvdashboard) (6.0)\n",
      "Requirement already satisfied: typing-extensions>=3.10.0 in c:\\users\\sachin\\anaconda3\\lib\\site-packages (from bokeh>2.1->jupyterlab-nvdashboard) (4.1.1)\n",
      "Requirement already satisfied: pillow>=7.1.0 in c:\\users\\sachin\\anaconda3\\lib\\site-packages (from bokeh>2.1->jupyterlab-nvdashboard) (9.0.1)\n",
      "Requirement already satisfied: MarkupSafe>=0.23 in c:\\users\\sachin\\anaconda3\\lib\\site-packages (from jinja2>=2.1->jupyterlab==3.*,>=3.0.0rc13->jupyterlab-nvdashboard) (2.0.1)\n",
      "Requirement already satisfied: prometheus-client in c:\\users\\sachin\\anaconda3\\lib\\site-packages (from jupyter-server~=1.4->jupyterlab==3.*,>=3.0.0rc13->jupyterlab-nvdashboard) (0.13.1)\n",
      "Requirement already satisfied: anyio<4,>=3.1.0 in c:\\users\\sachin\\anaconda3\\lib\\site-packages (from jupyter-server~=1.4->jupyterlab==3.*,>=3.0.0rc13->jupyterlab-nvdashboard) (3.5.0)\n",
      "Requirement already satisfied: jupyter-client>=6.1.1 in c:\\users\\sachin\\anaconda3\\lib\\site-packages (from jupyter-server~=1.4->jupyterlab==3.*,>=3.0.0rc13->jupyterlab-nvdashboard) (6.1.12)\n",
      "Requirement already satisfied: traitlets>=5 in c:\\users\\sachin\\anaconda3\\lib\\site-packages (from jupyter-server~=1.4->jupyterlab==3.*,>=3.0.0rc13->jupyterlab-nvdashboard) (5.1.1)\n",
      "Requirement already satisfied: terminado>=0.8.3 in c:\\users\\sachin\\anaconda3\\lib\\site-packages (from jupyter-server~=1.4->jupyterlab==3.*,>=3.0.0rc13->jupyterlab-nvdashboard) (0.13.1)\n",
      "Requirement already satisfied: nbconvert in c:\\users\\sachin\\anaconda3\\lib\\site-packages (from jupyter-server~=1.4->jupyterlab==3.*,>=3.0.0rc13->jupyterlab-nvdashboard) (6.4.4)\n",
      "Requirement already satisfied: ipython-genutils in c:\\users\\sachin\\anaconda3\\lib\\site-packages (from jupyter-server~=1.4->jupyterlab==3.*,>=3.0.0rc13->jupyterlab-nvdashboard) (0.2.0)\n",
      "Requirement already satisfied: websocket-client in c:\\users\\sachin\\anaconda3\\lib\\site-packages (from jupyter-server~=1.4->jupyterlab==3.*,>=3.0.0rc13->jupyterlab-nvdashboard) (0.58.0)\n",
      "Requirement already satisfied: pyzmq>=17 in c:\\users\\sachin\\anaconda3\\lib\\site-packages (from jupyter-server~=1.4->jupyterlab==3.*,>=3.0.0rc13->jupyterlab-nvdashboard) (22.3.0)\n",
      "Requirement already satisfied: Send2Trash in c:\\users\\sachin\\anaconda3\\lib\\site-packages (from jupyter-server~=1.4->jupyterlab==3.*,>=3.0.0rc13->jupyterlab-nvdashboard) (1.8.0)\n",
      "Requirement already satisfied: argon2-cffi in c:\\users\\sachin\\anaconda3\\lib\\site-packages (from jupyter-server~=1.4->jupyterlab==3.*,>=3.0.0rc13->jupyterlab-nvdashboard) (21.3.0)\n",
      "Collecting pywinpty<2\n",
      "  Downloading pywinpty-1.1.6-cp39-none-win_amd64.whl (1.4 MB)\n",
      "Requirement already satisfied: nbformat in c:\\users\\sachin\\anaconda3\\lib\\site-packages (from jupyter-server~=1.4->jupyterlab==3.*,>=3.0.0rc13->jupyterlab-nvdashboard) (5.3.0)\n",
      "Requirement already satisfied: idna>=2.8 in c:\\users\\sachin\\anaconda3\\lib\\site-packages (from anyio<4,>=3.1.0->jupyter-server~=1.4->jupyterlab==3.*,>=3.0.0rc13->jupyterlab-nvdashboard) (3.3)\n",
      "Requirement already satisfied: sniffio>=1.1 in c:\\users\\sachin\\anaconda3\\lib\\site-packages (from anyio<4,>=3.1.0->jupyter-server~=1.4->jupyterlab==3.*,>=3.0.0rc13->jupyterlab-nvdashboard) (1.2.0)\n",
      "Requirement already satisfied: python-dateutil>=2.1 in c:\\users\\sachin\\anaconda3\\lib\\site-packages (from jupyter-client>=6.1.1->jupyter-server~=1.4->jupyterlab==3.*,>=3.0.0rc13->jupyterlab-nvdashboard) (2.8.2)\n",
      "Requirement already satisfied: pywin32>=1.0 in c:\\users\\sachin\\anaconda3\\lib\\site-packages (from jupyter-core->jupyterlab==3.*,>=3.0.0rc13->jupyterlab-nvdashboard) (302)\n",
      "Requirement already satisfied: entrypoints>=0.2.2 in c:\\users\\sachin\\anaconda3\\lib\\site-packages (from jupyterlab-server~=2.10->jupyterlab==3.*,>=3.0.0rc13->jupyterlab-nvdashboard) (0.4)\n",
      "Requirement already satisfied: json5 in c:\\users\\sachin\\anaconda3\\lib\\site-packages (from jupyterlab-server~=2.10->jupyterlab==3.*,>=3.0.0rc13->jupyterlab-nvdashboard) (0.9.6)\n",
      "Requirement already satisfied: babel in c:\\users\\sachin\\anaconda3\\lib\\site-packages (from jupyterlab-server~=2.10->jupyterlab==3.*,>=3.0.0rc13->jupyterlab-nvdashboard) (2.9.1)\n",
      "Requirement already satisfied: requests in c:\\users\\sachin\\anaconda3\\lib\\site-packages (from jupyterlab-server~=2.10->jupyterlab==3.*,>=3.0.0rc13->jupyterlab-nvdashboard) (2.27.1)\n",
      "Requirement already satisfied: jsonschema>=3.0.1 in c:\\users\\sachin\\anaconda3\\lib\\site-packages (from jupyterlab-server~=2.10->jupyterlab==3.*,>=3.0.0rc13->jupyterlab-nvdashboard) (4.4.0)\n",
      "Requirement already satisfied: attrs>=17.4.0 in c:\\users\\sachin\\anaconda3\\lib\\site-packages (from jsonschema>=3.0.1->jupyterlab-server~=2.10->jupyterlab==3.*,>=3.0.0rc13->jupyterlab-nvdashboard) (21.4.0)\n",
      "Requirement already satisfied: pyrsistent!=0.17.0,!=0.17.1,!=0.17.2,>=0.14.0 in c:\\users\\sachin\\anaconda3\\lib\\site-packages (from jsonschema>=3.0.1->jupyterlab-server~=2.10->jupyterlab==3.*,>=3.0.0rc13->jupyterlab-nvdashboard) (0.18.0)\n",
      "Requirement already satisfied: notebook<7 in c:\\users\\sachin\\anaconda3\\lib\\site-packages (from nbclassic~=0.2->jupyterlab==3.*,>=3.0.0rc13->jupyterlab-nvdashboard) (6.4.8)\n",
      "Requirement already satisfied: ipykernel in c:\\users\\sachin\\anaconda3\\lib\\site-packages (from notebook<7->nbclassic~=0.2->jupyterlab==3.*,>=3.0.0rc13->jupyterlab-nvdashboard) (6.9.1)\n",
      "Requirement already satisfied: nest-asyncio>=1.5 in c:\\users\\sachin\\anaconda3\\lib\\site-packages (from notebook<7->nbclassic~=0.2->jupyterlab==3.*,>=3.0.0rc13->jupyterlab-nvdashboard) (1.5.5)\n",
      "Requirement already satisfied: pyparsing!=3.0.5,>=2.0.2 in c:\\users\\sachin\\anaconda3\\lib\\site-packages (from packaging->jupyterlab==3.*,>=3.0.0rc13->jupyterlab-nvdashboard) (3.0.4)\n",
      "Requirement already satisfied: six>=1.5 in c:\\users\\sachin\\anaconda3\\lib\\site-packages (from python-dateutil>=2.1->jupyter-client>=6.1.1->jupyter-server~=1.4->jupyterlab==3.*,>=3.0.0rc13->jupyterlab-nvdashboard) (1.16.0)\n",
      "Requirement already satisfied: argon2-cffi-bindings in c:\\users\\sachin\\anaconda3\\lib\\site-packages (from argon2-cffi->jupyter-server~=1.4->jupyterlab==3.*,>=3.0.0rc13->jupyterlab-nvdashboard) (21.2.0)\n",
      "Requirement already satisfied: cffi>=1.0.1 in c:\\users\\sachin\\anaconda3\\lib\\site-packages (from argon2-cffi-bindings->argon2-cffi->jupyter-server~=1.4->jupyterlab==3.*,>=3.0.0rc13->jupyterlab-nvdashboard) (1.15.0)\n",
      "Requirement already satisfied: pycparser in c:\\users\\sachin\\anaconda3\\lib\\site-packages (from cffi>=1.0.1->argon2-cffi-bindings->argon2-cffi->jupyter-server~=1.4->jupyterlab==3.*,>=3.0.0rc13->jupyterlab-nvdashboard) (2.21)\n",
      "Requirement already satisfied: pytz>=2015.7 in c:\\users\\sachin\\anaconda3\\lib\\site-packages (from babel->jupyterlab-server~=2.10->jupyterlab==3.*,>=3.0.0rc13->jupyterlab-nvdashboard) (2021.3)\n",
      "Requirement already satisfied: matplotlib-inline<0.2.0,>=0.1.0 in c:\\users\\sachin\\anaconda3\\lib\\site-packages (from ipykernel->notebook<7->nbclassic~=0.2->jupyterlab==3.*,>=3.0.0rc13->jupyterlab-nvdashboard) (0.1.2)\n",
      "Requirement already satisfied: debugpy<2.0,>=1.0.0 in c:\\users\\sachin\\anaconda3\\lib\\site-packages (from ipykernel->notebook<7->nbclassic~=0.2->jupyterlab==3.*,>=3.0.0rc13->jupyterlab-nvdashboard) (1.5.1)\n",
      "Requirement already satisfied: decorator in c:\\users\\sachin\\anaconda3\\lib\\site-packages (from ipython->jupyterlab==3.*,>=3.0.0rc13->jupyterlab-nvdashboard) (5.1.1)\n",
      "Requirement already satisfied: prompt-toolkit!=3.0.0,!=3.0.1,<3.1.0,>=2.0.0 in c:\\users\\sachin\\anaconda3\\lib\\site-packages (from ipython->jupyterlab==3.*,>=3.0.0rc13->jupyterlab-nvdashboard) (3.0.20)\n",
      "Requirement already satisfied: backcall in c:\\users\\sachin\\anaconda3\\lib\\site-packages (from ipython->jupyterlab==3.*,>=3.0.0rc13->jupyterlab-nvdashboard) (0.2.0)\n",
      "Requirement already satisfied: jedi>=0.16 in c:\\users\\sachin\\anaconda3\\lib\\site-packages (from ipython->jupyterlab==3.*,>=3.0.0rc13->jupyterlab-nvdashboard) (0.18.1)\n",
      "Requirement already satisfied: stack-data in c:\\users\\sachin\\anaconda3\\lib\\site-packages (from ipython->jupyterlab==3.*,>=3.0.0rc13->jupyterlab-nvdashboard) (0.2.0)\n",
      "Requirement already satisfied: pygments>=2.4.0 in c:\\users\\sachin\\anaconda3\\lib\\site-packages (from ipython->jupyterlab==3.*,>=3.0.0rc13->jupyterlab-nvdashboard) (2.11.2)\n",
      "Requirement already satisfied: pickleshare in c:\\users\\sachin\\anaconda3\\lib\\site-packages (from ipython->jupyterlab==3.*,>=3.0.0rc13->jupyterlab-nvdashboard) (0.7.5)\n",
      "Requirement already satisfied: colorama in c:\\users\\sachin\\anaconda3\\lib\\site-packages (from ipython->jupyterlab==3.*,>=3.0.0rc13->jupyterlab-nvdashboard) (0.4.4)\n",
      "Requirement already satisfied: setuptools>=18.5 in c:\\users\\sachin\\anaconda3\\lib\\site-packages (from ipython->jupyterlab==3.*,>=3.0.0rc13->jupyterlab-nvdashboard) (61.2.0)\n",
      "Requirement already satisfied: parso<0.9.0,>=0.8.0 in c:\\users\\sachin\\anaconda3\\lib\\site-packages (from jedi>=0.16->ipython->jupyterlab==3.*,>=3.0.0rc13->jupyterlab-nvdashboard) (0.8.3)\n",
      "Requirement already satisfied: wcwidth in c:\\users\\sachin\\anaconda3\\lib\\site-packages (from prompt-toolkit!=3.0.0,!=3.0.1,<3.1.0,>=2.0.0->ipython->jupyterlab==3.*,>=3.0.0rc13->jupyterlab-nvdashboard) (0.2.5)\n",
      "Requirement already satisfied: aiohttp in c:\\users\\sachin\\anaconda3\\lib\\site-packages (from jupyter-server-proxy->jupyterlab-nvdashboard) (3.8.1)\n",
      "Collecting simpervisor>=0.4\n",
      "  Downloading simpervisor-0.4-py3-none-any.whl (5.7 kB)\n",
      "Requirement already satisfied: multidict<7.0,>=4.5 in c:\\users\\sachin\\anaconda3\\lib\\site-packages (from aiohttp->jupyter-server-proxy->jupyterlab-nvdashboard) (5.1.0)\n",
      "Requirement already satisfied: async-timeout<5.0,>=4.0.0a3 in c:\\users\\sachin\\anaconda3\\lib\\site-packages (from aiohttp->jupyter-server-proxy->jupyterlab-nvdashboard) (4.0.1)\n",
      "Requirement already satisfied: yarl<2.0,>=1.0 in c:\\users\\sachin\\anaconda3\\lib\\site-packages (from aiohttp->jupyter-server-proxy->jupyterlab-nvdashboard) (1.6.3)\n",
      "Requirement already satisfied: charset-normalizer<3.0,>=2.0 in c:\\users\\sachin\\anaconda3\\lib\\site-packages (from aiohttp->jupyter-server-proxy->jupyterlab-nvdashboard) (2.0.4)\n",
      "Requirement already satisfied: frozenlist>=1.1.1 in c:\\users\\sachin\\anaconda3\\lib\\site-packages (from aiohttp->jupyter-server-proxy->jupyterlab-nvdashboard) (1.2.0)\n",
      "Requirement already satisfied: aiosignal>=1.1.2 in c:\\users\\sachin\\anaconda3\\lib\\site-packages (from aiohttp->jupyter-server-proxy->jupyterlab-nvdashboard) (1.2.0)\n",
      "Requirement already satisfied: mistune<2,>=0.8.1 in c:\\users\\sachin\\anaconda3\\lib\\site-packages (from nbconvert->jupyter-server~=1.4->jupyterlab==3.*,>=3.0.0rc13->jupyterlab-nvdashboard) (0.8.4)\n",
      "Requirement already satisfied: jupyterlab-pygments in c:\\users\\sachin\\anaconda3\\lib\\site-packages (from nbconvert->jupyter-server~=1.4->jupyterlab==3.*,>=3.0.0rc13->jupyterlab-nvdashboard) (0.1.2)\n",
      "Requirement already satisfied: pandocfilters>=1.4.1 in c:\\users\\sachin\\anaconda3\\lib\\site-packages (from nbconvert->jupyter-server~=1.4->jupyterlab==3.*,>=3.0.0rc13->jupyterlab-nvdashboard) (1.5.0)\n",
      "Requirement already satisfied: testpath in c:\\users\\sachin\\anaconda3\\lib\\site-packages (from nbconvert->jupyter-server~=1.4->jupyterlab==3.*,>=3.0.0rc13->jupyterlab-nvdashboard) (0.5.0)\n",
      "Requirement already satisfied: defusedxml in c:\\users\\sachin\\anaconda3\\lib\\site-packages (from nbconvert->jupyter-server~=1.4->jupyterlab==3.*,>=3.0.0rc13->jupyterlab-nvdashboard) (0.7.1)\n",
      "Requirement already satisfied: beautifulsoup4 in c:\\users\\sachin\\anaconda3\\lib\\site-packages (from nbconvert->jupyter-server~=1.4->jupyterlab==3.*,>=3.0.0rc13->jupyterlab-nvdashboard) (4.11.1)\n",
      "Requirement already satisfied: bleach in c:\\users\\sachin\\anaconda3\\lib\\site-packages (from nbconvert->jupyter-server~=1.4->jupyterlab==3.*,>=3.0.0rc13->jupyterlab-nvdashboard) (4.1.0)\n",
      "Requirement already satisfied: nbclient<0.6.0,>=0.5.0 in c:\\users\\sachin\\anaconda3\\lib\\site-packages (from nbconvert->jupyter-server~=1.4->jupyterlab==3.*,>=3.0.0rc13->jupyterlab-nvdashboard) (0.5.13)\n",
      "Requirement already satisfied: fastjsonschema in c:\\users\\sachin\\anaconda3\\lib\\site-packages (from nbformat->jupyter-server~=1.4->jupyterlab==3.*,>=3.0.0rc13->jupyterlab-nvdashboard) (2.15.1)\n",
      "Requirement already satisfied: soupsieve>1.2 in c:\\users\\sachin\\anaconda3\\lib\\site-packages (from beautifulsoup4->nbconvert->jupyter-server~=1.4->jupyterlab==3.*,>=3.0.0rc13->jupyterlab-nvdashboard) (2.3.1)\n",
      "Requirement already satisfied: webencodings in c:\\users\\sachin\\anaconda3\\lib\\site-packages (from bleach->nbconvert->jupyter-server~=1.4->jupyterlab==3.*,>=3.0.0rc13->jupyterlab-nvdashboard) (0.5.1)\n",
      "Requirement already satisfied: urllib3<1.27,>=1.21.1 in c:\\users\\sachin\\anaconda3\\lib\\site-packages (from requests->jupyterlab-server~=2.10->jupyterlab==3.*,>=3.0.0rc13->jupyterlab-nvdashboard) (1.26.9)\n",
      "Requirement already satisfied: certifi>=2017.4.17 in c:\\users\\sachin\\anaconda3\\lib\\site-packages (from requests->jupyterlab-server~=2.10->jupyterlab==3.*,>=3.0.0rc13->jupyterlab-nvdashboard) (2022.9.24)\n",
      "Requirement already satisfied: executing in c:\\users\\sachin\\anaconda3\\lib\\site-packages (from stack-data->ipython->jupyterlab==3.*,>=3.0.0rc13->jupyterlab-nvdashboard) (0.8.3)\n",
      "Requirement already satisfied: pure-eval in c:\\users\\sachin\\anaconda3\\lib\\site-packages (from stack-data->ipython->jupyterlab==3.*,>=3.0.0rc13->jupyterlab-nvdashboard) (0.2.2)\n",
      "Requirement already satisfied: asttokens in c:\\users\\sachin\\anaconda3\\lib\\site-packages (from stack-data->ipython->jupyterlab==3.*,>=3.0.0rc13->jupyterlab-nvdashboard) (2.0.5)\n",
      "Installing collected packages: pywinpty, simpervisor, pynvml, jupyter-server-proxy, jupyterlab-nvdashboard\n",
      "  Attempting uninstall: pywinpty\n",
      "    Found existing installation: pywinpty 2.0.2\n",
      "    Uninstalling pywinpty-2.0.2:\n",
      "      Successfully uninstalled pywinpty-2.0.2\n",
      "Successfully installed jupyter-server-proxy-3.2.2 jupyterlab-nvdashboard-0.7.0 pynvml-11.4.1 pywinpty-1.1.6 simpervisor-0.4\n"
     ]
    }
   ],
   "source": [
    "!pip install jupyterlab-nvdashboard"
   ]
  },
  {
   "cell_type": "code",
   "execution_count": 56,
   "id": "a200e4e9",
   "metadata": {},
   "outputs": [
    {
     "name": "stdout",
     "output_type": "stream",
     "text": [
      "An error occurred.\n",
      "ValueError: Please install Node.js and npm before continuing installation. You may be able to install Node.js from your package manager, from conda, or directly from the Node.js website (https://nodejs.org).\n",
      "See the log file for details:  C:\\Users\\Sachin\\AppData\\Local\\Temp\\jupyterlab-debug-sgtk2hin.log\n"
     ]
    }
   ],
   "source": [
    "!jupyter labextension install jupyterlab-nvdashboard"
   ]
  },
  {
   "cell_type": "code",
   "execution_count": 57,
   "id": "07833e5f",
   "metadata": {},
   "outputs": [
    {
     "name": "stderr",
     "output_type": "stream",
     "text": [
      "'nvidia-smi' is not recognized as an internal or external command,\n",
      "operable program or batch file.\n"
     ]
    }
   ],
   "source": [
    "!nvidia-smi"
   ]
  },
  {
   "cell_type": "code",
   "execution_count": null,
   "id": "f5d9dba4",
   "metadata": {},
   "outputs": [],
   "source": []
  }
 ],
 "metadata": {
  "kernelspec": {
   "display_name": "Python 3 (ipykernel)",
   "language": "python",
   "name": "python3"
  },
  "language_info": {
   "codemirror_mode": {
    "name": "ipython",
    "version": 3
   },
   "file_extension": ".py",
   "mimetype": "text/x-python",
   "name": "python",
   "nbconvert_exporter": "python",
   "pygments_lexer": "ipython3",
   "version": "3.9.12"
  }
 },
 "nbformat": 4,
 "nbformat_minor": 5
}
