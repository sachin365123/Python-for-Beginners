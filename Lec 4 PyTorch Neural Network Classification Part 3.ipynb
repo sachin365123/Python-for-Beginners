{
 "cells": [
  {
   "cell_type": "code",
   "execution_count": 1,
   "id": "f5e78c7b",
   "metadata": {},
   "outputs": [],
   "source": []
  },
  {
   "cell_type": "code",
   "execution_count": null,
   "id": "079c2476",
   "metadata": {},
   "outputs": [],
   "source": [
    "# PyTorch Neural Network Classification\n",
    "\n",
    "# A classification problem involves predicting whether \n",
    "# something is one thing or another.\n"
   ]
  },
  {
   "cell_type": "code",
   "execution_count": null,
   "id": "6be63537",
   "metadata": {},
   "outputs": [],
   "source": [
    "# What we're going to cover\n",
    "# Architecture of a classification neural network"
   ]
  },
  {
   "cell_type": "code",
   "execution_count": null,
   "id": "82b0ff0f",
   "metadata": {},
   "outputs": [],
   "source": [
    "# 1. Make classification data and get it ready"
   ]
  },
  {
   "cell_type": "code",
   "execution_count": null,
   "id": "7da4233e",
   "metadata": {},
   "outputs": [],
   "source": []
  },
  {
   "cell_type": "code",
   "execution_count": null,
   "id": "daf20c96",
   "metadata": {},
   "outputs": [],
   "source": []
  },
  {
   "cell_type": "code",
   "execution_count": null,
   "id": "14af11ce",
   "metadata": {},
   "outputs": [],
   "source": []
  },
  {
   "cell_type": "code",
   "execution_count": null,
   "id": "8d8b4333",
   "metadata": {},
   "outputs": [],
   "source": []
  },
  {
   "cell_type": "code",
   "execution_count": null,
   "id": "674f46f0",
   "metadata": {},
   "outputs": [],
   "source": []
  },
  {
   "cell_type": "code",
   "execution_count": null,
   "id": "cf5e3d41",
   "metadata": {},
   "outputs": [],
   "source": []
  },
  {
   "cell_type": "code",
   "execution_count": null,
   "id": "2d414015",
   "metadata": {},
   "outputs": [],
   "source": []
  },
  {
   "cell_type": "code",
   "execution_count": 4,
   "id": "33752eed",
   "metadata": {},
   "outputs": [],
   "source": [
    "import torch"
   ]
  },
  {
   "cell_type": "code",
   "execution_count": 8,
   "id": "51e99c99",
   "metadata": {},
   "outputs": [],
   "source": [
    "from sklearn.datasets import make_circles\n",
    "\n",
    "n_samples=1000\n",
    "\n",
    "X,y=make_circles(n_samples, noise=0.03, random_state=42)"
   ]
  },
  {
   "cell_type": "code",
   "execution_count": 9,
   "id": "28499987",
   "metadata": {},
   "outputs": [
    {
     "name": "stdout",
     "output_type": "stream",
     "text": [
      "[[ 0.75424625  0.23148074]\n",
      " [-0.75615888  0.15325888]\n",
      " [-0.81539193  0.17328203]\n",
      " [-0.39373073  0.69288277]\n",
      " [ 0.44220765 -0.89672343]]\n"
     ]
    }
   ],
   "source": [
    "print(X[:5])"
   ]
  },
  {
   "cell_type": "code",
   "execution_count": 10,
   "id": "2a083557",
   "metadata": {},
   "outputs": [
    {
     "name": "stdout",
     "output_type": "stream",
     "text": [
      "[1 1 1 1 0]\n"
     ]
    }
   ],
   "source": [
    "print(y[:5])"
   ]
  },
  {
   "cell_type": "code",
   "execution_count": 14,
   "id": "49c131cc",
   "metadata": {},
   "outputs": [],
   "source": [
    "import pandas as pd\n",
    "circles=pd.DataFrame({\"X1\":X[:,0],\n",
    "                    \"X2\":X[:,1],\n",
    "                    \"Lable\":y})"
   ]
  },
  {
   "cell_type": "code",
   "execution_count": 15,
   "id": "cbdbe2d7",
   "metadata": {},
   "outputs": [
    {
     "data": {
      "text/html": [
       "<div>\n",
       "<style scoped>\n",
       "    .dataframe tbody tr th:only-of-type {\n",
       "        vertical-align: middle;\n",
       "    }\n",
       "\n",
       "    .dataframe tbody tr th {\n",
       "        vertical-align: top;\n",
       "    }\n",
       "\n",
       "    .dataframe thead th {\n",
       "        text-align: right;\n",
       "    }\n",
       "</style>\n",
       "<table border=\"1\" class=\"dataframe\">\n",
       "  <thead>\n",
       "    <tr style=\"text-align: right;\">\n",
       "      <th></th>\n",
       "      <th>X1</th>\n",
       "      <th>X2</th>\n",
       "      <th>Lable</th>\n",
       "    </tr>\n",
       "  </thead>\n",
       "  <tbody>\n",
       "    <tr>\n",
       "      <th>0</th>\n",
       "      <td>0.754246</td>\n",
       "      <td>0.231481</td>\n",
       "      <td>1</td>\n",
       "    </tr>\n",
       "    <tr>\n",
       "      <th>1</th>\n",
       "      <td>-0.756159</td>\n",
       "      <td>0.153259</td>\n",
       "      <td>1</td>\n",
       "    </tr>\n",
       "    <tr>\n",
       "      <th>2</th>\n",
       "      <td>-0.815392</td>\n",
       "      <td>0.173282</td>\n",
       "      <td>1</td>\n",
       "    </tr>\n",
       "    <tr>\n",
       "      <th>3</th>\n",
       "      <td>-0.393731</td>\n",
       "      <td>0.692883</td>\n",
       "      <td>1</td>\n",
       "    </tr>\n",
       "    <tr>\n",
       "      <th>4</th>\n",
       "      <td>0.442208</td>\n",
       "      <td>-0.896723</td>\n",
       "      <td>0</td>\n",
       "    </tr>\n",
       "  </tbody>\n",
       "</table>\n",
       "</div>"
      ],
      "text/plain": [
       "         X1        X2  Lable\n",
       "0  0.754246  0.231481      1\n",
       "1 -0.756159  0.153259      1\n",
       "2 -0.815392  0.173282      1\n",
       "3 -0.393731  0.692883      1\n",
       "4  0.442208 -0.896723      0"
      ]
     },
     "execution_count": 15,
     "metadata": {},
     "output_type": "execute_result"
    }
   ],
   "source": [
    "circles.head(5)"
   ]
  },
  {
   "cell_type": "code",
   "execution_count": 18,
   "id": "4ce2bdc8",
   "metadata": {},
   "outputs": [
    {
     "data": {
      "text/plain": [
       "1    500\n",
       "0    500\n",
       "Name: Lable, dtype: int64"
      ]
     },
     "execution_count": 18,
     "metadata": {},
     "output_type": "execute_result"
    }
   ],
   "source": [
    "#count\n",
    "circles.Lable.value_counts()"
   ]
  },
  {
   "cell_type": "code",
   "execution_count": 19,
   "id": "889fd36e",
   "metadata": {},
   "outputs": [
    {
     "data": {
      "image/png": "[encoded data removed]",
      "text/plain": [
       "<Figure size 432x288 with 1 Axes>"
      ]
     },
     "metadata": {
      "needs_background": "light"
     },
     "output_type": "display_data"
    }
   ],
   "source": [
    "import matplotlib.pyplot as plt\n",
    "plt.scatter(x=X[:,0],\n",
    "           y=X[:,1],\n",
    "           c=y,\n",
    "           cmap=plt.cm.RdYlBu);"
   ]
  },
  {
   "cell_type": "code",
   "execution_count": 20,
   "id": "41c5adb4",
   "metadata": {},
   "outputs": [],
   "source": [
    "# 1.1 Input and output shapes"
   ]
  },
  {
   "cell_type": "code",
   "execution_count": 22,
   "id": "a4ef3793",
   "metadata": {},
   "outputs": [
    {
     "data": {
      "text/plain": [
       "((1000, 2), (1000,))"
      ]
     },
     "execution_count": 22,
     "metadata": {},
     "output_type": "execute_result"
    }
   ],
   "source": [
    "X.shape, y.shape"
   ]
  },
  {
   "cell_type": "code",
   "execution_count": 23,
   "id": "ec432b5c",
   "metadata": {},
   "outputs": [
    {
     "data": {
      "text/plain": [
       "(array([0.75424625, 0.23148074]), 1, (2,), ())"
      ]
     },
     "execution_count": 23,
     "metadata": {},
     "output_type": "execute_result"
    }
   ],
   "source": [
    "X_sample=X[0]\n",
    "y_sample=y[0]\n",
    "X_sample, y_sample,X_sample.shape, y_sample.shape"
   ]
  },
  {
   "cell_type": "code",
   "execution_count": 24,
   "id": "2d69b9ad",
   "metadata": {},
   "outputs": [],
   "source": [
    "# 1.2 Turn data into tensors and create train and test splits"
   ]
  },
  {
   "cell_type": "code",
   "execution_count": 25,
   "id": "c7ea3ec4",
   "metadata": {},
   "outputs": [
    {
     "data": {
      "text/plain": [
       "(tensor([[ 0.7542,  0.2315],\n",
       "         [-0.7562,  0.1533],\n",
       "         [-0.8154,  0.1733],\n",
       "         [-0.3937,  0.6929],\n",
       "         [ 0.4422, -0.8967]]),\n",
       " tensor([1., 1., 1., 1., 0.]))"
      ]
     },
     "execution_count": 25,
     "metadata": {},
     "output_type": "execute_result"
    }
   ],
   "source": [
    "X=torch.from_numpy(X).type(torch.float)\n",
    "y=torch.from_numpy(y).type(torch.float)\n",
    "X[:5], y[:5]"
   ]
  },
  {
   "cell_type": "code",
   "execution_count": 26,
   "id": "91ed034b",
   "metadata": {},
   "outputs": [
    {
     "data": {
      "text/plain": [
       "(800, 200, 800, 200)"
      ]
     },
     "execution_count": 26,
     "metadata": {},
     "output_type": "execute_result"
    }
   ],
   "source": [
    "from sklearn.model_selection import train_test_split\n",
    "X_train, X_test, y_train, y_test=train_test_split(X,\n",
    "                                                 y,\n",
    "                                                 test_size=0.2,\n",
    "                                                 random_state=42)\n",
    "len(X_train), len(X_test), len(y_train), len(y_test)"
   ]
  },
  {
   "cell_type": "code",
   "execution_count": 27,
   "id": "f69eb7cb",
   "metadata": {},
   "outputs": [],
   "source": [
    "# 2. Building a model"
   ]
  },
  {
   "cell_type": "code",
   "execution_count": 30,
   "id": "179f1a09",
   "metadata": {},
   "outputs": [
    {
     "data": {
      "text/plain": [
       "'cpu'"
      ]
     },
     "execution_count": 30,
     "metadata": {},
     "output_type": "execute_result"
    }
   ],
   "source": [
    "from torch import nn\n",
    "device=\"cuda\" if torch.cuda.is_available() else \"cpu\"\n",
    "device"
   ]
  },
  {
   "cell_type": "code",
   "execution_count": 33,
   "id": "77d3c78b",
   "metadata": {},
   "outputs": [
    {
     "data": {
      "text/plain": [
       "CircleModleV0(\n",
       "  (layer_1): Linear(in_features=2, out_features=5, bias=True)\n",
       "  (layer_2): Linear(in_features=5, out_features=1, bias=True)\n",
       ")"
      ]
     },
     "execution_count": 33,
     "metadata": {},
     "output_type": "execute_result"
    }
   ],
   "source": [
    "class CircleModleV0(nn.Module):\n",
    "    def __init__(self):\n",
    "        super().__init__()\n",
    "        self.layer_1=nn.Linear(in_features=2, out_features=5)\n",
    "        self.layer_2=nn.Linear(in_features=5,out_features=1)\n",
    "        \n",
    "    def forward(self,x):\n",
    "        return self.layer_2(self.layer_1(x))\n",
    "    \n",
    "    \n",
    "model_0=CircleModleV0().to(device)\n",
    "model_0"
   ]
  },
  {
   "cell_type": "code",
   "execution_count": null,
   "id": "b4168ce4",
   "metadata": {},
   "outputs": [],
   "source": [
    "# 2.1 Setup loss function and optimizer"
   ]
  },
  {
   "cell_type": "code",
   "execution_count": 34,
   "id": "324649c9",
   "metadata": {},
   "outputs": [
    {
     "name": "stdout",
     "output_type": "stream",
     "text": [
      "200\n",
      "2\n"
     ]
    }
   ],
   "source": [
    "untrained_pred=model_0(X_test.to(device))\n",
    "print(len(untrained_pred))\n",
    "print(len(untrained_pred.shape))"
   ]
  },
  {
   "cell_type": "code",
   "execution_count": 35,
   "id": "cdcd1628",
   "metadata": {},
   "outputs": [
    {
     "name": "stdout",
     "output_type": "stream",
     "text": [
      "tensor([1., 0., 1., 0., 1., 1., 0., 0., 1., 0.])\n"
     ]
    }
   ],
   "source": [
    "print(y_test[:10])"
   ]
  },
  {
   "cell_type": "code",
   "execution_count": 36,
   "id": "00c7b7be",
   "metadata": {},
   "outputs": [
    {
     "name": "stdout",
     "output_type": "stream",
     "text": [
      "tensor([[-0.0615],\n",
      "        [-0.1423],\n",
      "        [ 0.0939],\n",
      "        [-0.1054],\n",
      "        [ 0.0048],\n",
      "        [-0.0438],\n",
      "        [-0.2005],\n",
      "        [-0.1776],\n",
      "        [ 0.0975],\n",
      "        [-0.1487]], grad_fn=<SliceBackward0>)\n"
     ]
    }
   ],
   "source": [
    "print(untrained_pred[:10])"
   ]
  },
  {
   "cell_type": "code",
   "execution_count": 38,
   "id": "551893b4",
   "metadata": {},
   "outputs": [],
   "source": [
    "#SGD \n",
    "#adam \n",
    "#binary cross antropy\n",
    "#cross entropy\n",
    "#MAE or L1 loss\n",
    "#MSE or L2 loss\n",
    "loss_fn=nn.BCEWithLogitsLoss()\n",
    "optimizer=torch.optim.SGD(params=model_0.parameters(),\n",
    "                         lr=0.1)"
   ]
  },
  {
   "cell_type": "code",
   "execution_count": null,
   "id": "f44f7169",
   "metadata": {},
   "outputs": [],
   "source": [
    "#evalution matrix"
   ]
  },
  {
   "cell_type": "code",
   "execution_count": 39,
   "id": "10301fe1",
   "metadata": {},
   "outputs": [],
   "source": [
    "def accuracy_fn(y_true, y_pred):\n",
    "    correct=torch.eq(y_true,y_pred).sum().item()\n",
    "    acc=(correct/len(y_pred))*100\n",
    "    return acc"
   ]
  },
  {
   "cell_type": "code",
   "execution_count": 40,
   "id": "0ee9070f",
   "metadata": {},
   "outputs": [],
   "source": [
    "# 3. Train model"
   ]
  },
  {
   "cell_type": "code",
   "execution_count": 41,
   "id": "db98b6c9",
   "metadata": {},
   "outputs": [
    {
     "data": {
      "text/plain": [
       "tensor([[-0.0615],\n",
       "        [-0.1423],\n",
       "        [ 0.0939],\n",
       "        [-0.1054],\n",
       "        [ 0.0048]], grad_fn=<SliceBackward0>)"
      ]
     },
     "execution_count": 41,
     "metadata": {},
     "output_type": "execute_result"
    }
   ],
   "source": [
    "y_logits=model_0(X_test.to(device))[:5]\n",
    "y_logits"
   ]
  },
  {
   "cell_type": "code",
   "execution_count": 42,
   "id": "90a53c3d",
   "metadata": {},
   "outputs": [
    {
     "data": {
      "text/plain": [
       "tensor([[0.4846],\n",
       "        [0.4645],\n",
       "        [0.5235],\n",
       "        [0.4737],\n",
       "        [0.5012]], grad_fn=<SigmoidBackward0>)"
      ]
     },
     "execution_count": 42,
     "metadata": {},
     "output_type": "execute_result"
    }
   ],
   "source": [
    "#sigmoid fun\n",
    "y_pred_probs=torch.sigmoid(y_logits)\n",
    "y_pred_probs"
   ]
  },
  {
   "cell_type": "code",
   "execution_count": 43,
   "id": "8f4b3734",
   "metadata": {},
   "outputs": [],
   "source": [
    "#if y_pred_probs>=0.5, y=1 (class=1)\n",
    "#if y_pred_probs<0.5, y=0 (class=0)"
   ]
  },
  {
   "cell_type": "code",
   "execution_count": 45,
   "id": "fc91c8df",
   "metadata": {},
   "outputs": [
    {
     "name": "stdout",
     "output_type": "stream",
     "text": [
      "tensor([True, True, True, True, True])\n"
     ]
    },
    {
     "data": {
      "text/plain": [
       "tensor([0., 0., 1., 0., 1.], grad_fn=<SqueezeBackward0>)"
      ]
     },
     "execution_count": 45,
     "metadata": {},
     "output_type": "execute_result"
    }
   ],
   "source": [
    "y_preds=torch.round(y_pred_probs)\n",
    "y_pred_lables=torch.round(torch.sigmoid(model_0(X_test.to(device))[:5]))\n",
    "print(torch.eq(y_preds.squeeze(),y_pred_lables.squeeze()))\n",
    "y_preds.squeeze()"
   ]
  },
  {
   "cell_type": "code",
   "execution_count": 46,
   "id": "fddd021c",
   "metadata": {},
   "outputs": [
    {
     "data": {
      "text/plain": [
       "tensor([1., 0., 1., 0., 1.])"
      ]
     },
     "execution_count": 46,
     "metadata": {},
     "output_type": "execute_result"
    }
   ],
   "source": [
    "y_test[:5]"
   ]
  },
  {
   "cell_type": "code",
   "execution_count": 58,
   "id": "0e8d527b",
   "metadata": {},
   "outputs": [],
   "source": [
    "# 3.2 Building a training and testing loop"
   ]
  },
  {
   "cell_type": "code",
   "execution_count": 62,
   "id": "cef3b6df",
   "metadata": {},
   "outputs": [
    {
     "name": "stdout",
     "output_type": "stream",
     "text": [
      "Epoch: 0 | Loss: 0.69298, Accuracy: 51.25% | Test loss: 0.69466, Test acc: 45.50%\n",
      "Epoch: 10 | Loss: 0.69298, Accuracy: 51.25% | Test loss: 0.69466, Test acc: 45.50%\n",
      "Epoch: 20 | Loss: 0.69298, Accuracy: 51.38% | Test loss: 0.69466, Test acc: 45.50%\n",
      "Epoch: 30 | Loss: 0.69298, Accuracy: 51.38% | Test loss: 0.69466, Test acc: 45.50%\n",
      "Epoch: 40 | Loss: 0.69298, Accuracy: 51.38% | Test loss: 0.69467, Test acc: 45.50%\n",
      "Epoch: 50 | Loss: 0.69298, Accuracy: 51.38% | Test loss: 0.69467, Test acc: 45.50%\n",
      "Epoch: 60 | Loss: 0.69298, Accuracy: 51.38% | Test loss: 0.69467, Test acc: 45.50%\n",
      "Epoch: 70 | Loss: 0.69298, Accuracy: 51.38% | Test loss: 0.69467, Test acc: 45.50%\n",
      "Epoch: 80 | Loss: 0.69298, Accuracy: 51.38% | Test loss: 0.69467, Test acc: 45.50%\n",
      "Epoch: 90 | Loss: 0.69298, Accuracy: 51.38% | Test loss: 0.69467, Test acc: 45.50%\n"
     ]
    }
   ],
   "source": [
    "torch.manual_seed(42)\n",
    "\n",
    "# Set the number of epochs\n",
    "epochs = 100\n",
    "\n",
    "# Put data to target device\n",
    "X_train, y_train = X_train.to(device), y_train.to(device)\n",
    "X_test, y_test = X_test.to(device), y_test.to(device)\n",
    "\n",
    "# Build training and evaluation loop\n",
    "for epoch in range(epochs):\n",
    "    ### Training\n",
    "    model_0.train()\n",
    "\n",
    "    # 1. Forward pass (model outputs raw logits)\n",
    "    y_logits = model_0(X_train).squeeze() # squeeze to remove extra `1` dimensions, this won't work unless model and data are on same device \n",
    "    y_pred = torch.round(torch.sigmoid(y_logits)) # turn logits -> pred probs -> pred labls\n",
    "  \n",
    "    # 2. Calculate loss/accuracy\n",
    "    # loss = loss_fn(torch.sigmoid(y_logits), # Using nn.BCELoss you need torch.sigmoid()\n",
    "    #                y_train) \n",
    "    loss = loss_fn(y_logits, # Using nn.BCEWithLogitsLoss works with raw logits\n",
    "                   y_train) \n",
    "    acc = accuracy_fn(y_true=y_train, \n",
    "                      y_pred=y_pred) \n",
    "\n",
    "    # 3. Optimizer zero grad\n",
    "    optimizer.zero_grad()\n",
    "\n",
    "    # 4. Loss backwards\n",
    "    loss.backward()\n",
    "\n",
    "    # 5. Optimizer step\n",
    "    optimizer.step()\n",
    "\n",
    "    ### Testing\n",
    "    model_0.eval()\n",
    "    with torch.inference_mode():\n",
    "        # 1. Forward pass\n",
    "        test_logits = model_0(X_test).squeeze() \n",
    "        test_pred = torch.round(torch.sigmoid(test_logits))\n",
    "        # 2. Caculate loss/accuracy\n",
    "        test_loss = loss_fn(test_logits,\n",
    "                            y_test)\n",
    "        test_acc = accuracy_fn(y_true=y_test,\n",
    "                               y_pred=test_pred)\n",
    "\n",
    "    # Print out what's happening every 10 epochs\n",
    "    if epoch % 10 == 0:\n",
    "        print(f\"Epoch: {epoch} | Loss: {loss:.5f}, Accuracy: {acc:.2f}% | Test loss: {test_loss:.5f}, Test acc: {test_acc:.2f}%\")"
   ]
  },
  {
   "cell_type": "code",
   "execution_count": 63,
   "id": "d1021898",
   "metadata": {},
   "outputs": [],
   "source": [
    "# 4. Make predictions and evaluate the model"
   ]
  },
  {
   "cell_type": "code",
   "execution_count": 64,
   "id": "680495d3",
   "metadata": {},
   "outputs": [
    {
     "name": "stdout",
     "output_type": "stream",
     "text": [
      "helper_functions.py already exists, skipping download\n"
     ]
    }
   ],
   "source": [
    "import requests\n",
    "from pathlib import Path \n",
    "\n",
    "# Download helper functions from Learn PyTorch repo (if not already downloaded)\n",
    "if Path(\"helper_functions.py\").is_file():\n",
    "  print(\"helper_functions.py already exists, skipping download\")\n",
    "else:\n",
    "  print(\"Downloading helper_functions.py\")\n",
    "  request = requests.get(\"https://raw.githubusercontent.com/mrdbourke/pytorch-deep-learning/main/helper_functions.py\")\n",
    "  with open(\"helper_functions.py\", \"wb\") as f:\n",
    "    f.write(request.content)\n",
    "\n",
    "from helper_functions import plot_predictions, plot_decision_boundary"
   ]
  },
  {
   "cell_type": "code",
   "execution_count": 65,
   "id": "6fc8fafb",
   "metadata": {},
   "outputs": [
    {
     "data": {
      "image/png": "[encoded data removed]",
      "text/plain": [
       "<Figure size 864x432 with 2 Axes>"
      ]
     },
     "metadata": {
      "needs_background": "light"
     },
     "output_type": "display_data"
    }
   ],
   "source": [
    "# Plot decision boundaries for training and test sets\n",
    "plt.figure(figsize=(12, 6))\n",
    "plt.subplot(1, 2, 1)\n",
    "plt.title(\"Train\")\n",
    "plot_decision_boundary(model_0, X_train, y_train)\n",
    "plt.subplot(1, 2, 2)\n",
    "plt.title(\"Test\")\n",
    "plot_decision_boundary(model_0, X_test, y_test)"
   ]
  },
  {
   "cell_type": "code",
   "execution_count": 66,
   "id": "7cf2af13",
   "metadata": {},
   "outputs": [],
   "source": [
    "!pip -q install torchmetrics\n",
    "\n",
    "from torchmetrics import Accuracy\n",
    "\n",
    "# Setup metric and make sure it's on the target device\n",
    "torchmetrics_accuracy = Accuracy().to(device)\n",
    "\n",
    "# Calculate accuracy\n",
    "# torchmetrics_accuracy(y_preds, y_test)"
   ]
  },
  {
   "cell_type": "code",
   "execution_count": null,
   "id": "59a95165",
   "metadata": {},
   "outputs": [],
   "source": []
  }
 ],
 "metadata": {
  "kernelspec": {
   "display_name": "Python 3 (ipykernel)",
   "language": "python",
   "name": "python3"
  },
  "language_info": {
   "codemirror_mode": {
    "name": "ipython",
    "version": 3
   },
   "file_extension": ".py",
   "mimetype": "text/x-python",
   "name": "python",
   "nbconvert_exporter": "python",
   "pygments_lexer": "ipython3",
   "version": "3.9.12"
  }
 },
 "nbformat": 4,
 "nbformat_minor": 5
}
