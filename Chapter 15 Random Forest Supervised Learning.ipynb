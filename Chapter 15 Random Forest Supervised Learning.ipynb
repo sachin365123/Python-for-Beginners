{
 "cells": [
  {
   "cell_type": "code",
   "execution_count": 50,
   "metadata": {},
   "outputs": [
    {
     "name": "stdout",
     "output_type": "stream",
     "text": [
      "                                A                         B  \\\n",
      "0  2021/07/12 2:52:17 pm GMT+5:30  sachin.saxena@srms.ac.in   \n",
      "1  2021/07/12 3:02:01 pm GMT+5:30      mdnandeesh@msrit.edu   \n",
      "2  2021/07/12 3:03:08 pm GMT+5:30     renu.latika@gmail.com   \n",
      "3  2021/07/12 3:04:23 pm GMT+5:30    Er.divyasoni@gmail.com   \n",
      "4  2021/07/12 3:06:53 pm GMT+5:30       ashiskd11@gmail.com   \n",
      "\n",
      "                     C             D          E              F  \\\n",
      "0  SACHIN KUMAR SAXENA  918909603708   Bareilly  Uttar Pradesh   \n",
      "1             Nandeesh    9886525725  Bangalore      Karnataka   \n",
      "2             RENUGA G    9884850615    Chennai     Tamil Nadu   \n",
      "3                Divya    9716453822  New delhi      New delhi   \n",
      "4      Ashis Kumar Das    9434381119   Siliguri    West Bengal   \n",
      "\n",
      "                     G    H       I  \\\n",
      "0  in between 25 to 30  Yes    Male   \n",
      "1                 >=40   No    Male   \n",
      "2  in between 30 to 40  Yes  Female   \n",
      "3  in between 30 to 40  Yes  Female   \n",
      "4                 >=40  Yes    Male   \n",
      "\n",
      "                                                   J  ...   O   P   Q  \\\n",
      "0  systolic: less than 120 mm Hg and diastolic: l...  ...  No  No  No   \n",
      "1  systolic: 120–139 mm Hg and diastolic: 80–89 m...  ...  No  No  No   \n",
      "2  systolic: less than 120 mm Hg and diastolic: l...  ...  No  No  No   \n",
      "3  systolic: less than 120 mm Hg and diastolic: l...  ...  No  No  No   \n",
      "4  systolic: 120–139 mm Hg and diastolic: 80–89 m...  ...  No  No  No   \n",
      "\n",
      "                                                   R  \\\n",
      "0  In case of adult FEMALE (0.5 to 1.1 milligrams...   \n",
      "1                   Never gone through this lab test   \n",
      "2                   Never gone through this lab test   \n",
      "3                   Never gone through this lab test   \n",
      "4  In case adult MALE (0.6 to 1.2 milligrams (mg)...   \n",
      "\n",
      "                                  S                                 T  \\\n",
      "0  Never gone through this lab test  Never gone through this lab test   \n",
      "1  Never gone through this lab test  Never gone through this lab test   \n",
      "2  Never gone through this lab test  Never gone through this lab test   \n",
      "3                               NaN                               NaN   \n",
      "4  Never gone through this lab test  Never gone through this lab test   \n",
      "\n",
      "                                  U                                 V   W   X  \n",
      "0                               NaN                Not in above range NaN NaN  \n",
      "1  Never gone through this lab test  Never gone through this lab test NaN NaN  \n",
      "2  Never gone through this lab test  Never gone through this lab test NaN NaN  \n",
      "3                               NaN                               NaN NaN NaN  \n",
      "4  Never gone through this lab test  Never gone through this lab test NaN NaN  \n",
      "\n",
      "[5 rows x 24 columns]\n",
      "No     23\n",
      "Yes    11\n",
      "Name: H, dtype: int64\n"
     ]
    }
   ],
   "source": [
    "import pandas as pd\n",
    "from matplotlib import pyplot as plt\n",
    "import numpy as np\n",
    "\n",
    "df = pd.read_csv(\"sa.csv\")\n",
    "print(df.head())\n",
    "\n",
    "sizes = df['H'].value_counts(sort = 1)\n",
    "print(sizes)\n",
    "\n",
    "df.drop(['A'], axis=1, inplace=True)\n",
    "df.drop(['B'], axis=1, inplace=True)\n",
    "df.drop(['C'], axis=1, inplace=True)\n",
    "df.drop(['D'], axis=1, inplace=True)\n",
    "df.drop(['E'], axis=1, inplace=True)\n",
    "df.drop(['F'], axis=1, inplace=True)\n",
    "df.drop(['J'], axis=1, inplace=True)\n",
    "df.drop(['R'], axis=1, inplace=True)\n",
    "df.drop(['S'], axis=1, inplace=True)\n",
    "df.drop(['T'], axis=1, inplace=True)\n",
    "df.drop(['U'], axis=1, inplace=True)\n",
    "df.drop(['V'], axis=1, inplace=True)\n",
    "df.drop(['W'], axis=1, inplace=True)\n",
    "df.drop(['X'], axis=1, inplace=True)"
   ]
  },
  {
   "cell_type": "code",
   "execution_count": null,
   "metadata": {},
   "outputs": [],
   "source": []
  },
  {
   "cell_type": "code",
   "execution_count": 18,
   "metadata": {},
   "outputs": [
    {
     "name": "stdout",
     "output_type": "stream",
     "text": [
      "                      G    H       I               K    L    M    N    O    P  \\\n",
      "0   in between 25 to 30  Yes    Male  Never observed   No  Yes  Yes   No   No   \n",
      "1                  >=40   No    Male  Never observed   No   No   No   No   No   \n",
      "2   in between 30 to 40  Yes  Female              No   No   No   No   No   No   \n",
      "3   in between 30 to 40  Yes  Female              No   No   No   No   No   No   \n",
      "4                  >=40  Yes    Male              No   No   No   No   No   No   \n",
      "5   in between 30 to 40   No    Male              No  Yes   No   No   No   No   \n",
      "6   in between 30 to 40  Yes    Male              No   No   No   No   No   No   \n",
      "7            <=25 years   No    Male              No   No   No   No   No   No   \n",
      "8   in between 25 to 30   No  Female              No   No   No   No   No  Yes   \n",
      "9   in between 30 to 40  Yes  Female              No   No   No   No   No   No   \n",
      "10  in between 30 to 40   No    Male             Yes  Yes  Yes   No   No   No   \n",
      "11  in between 30 to 40   No  Female              No  Yes   No   No   No   No   \n",
      "12           <=25 years   No    Male              No   No   No   No   No   No   \n",
      "13  in between 30 to 40  Yes    Male              No   No   No   No   No   No   \n",
      "14           <=25 years   No    Male              No   No   No   No   No   No   \n",
      "15  in between 30 to 40   No    Male  Never observed   No   No   No   No   No   \n",
      "16                 >=40   No    Male              No   No   No   No   No   No   \n",
      "17  in between 25 to 30   No  Female              No   No   No   No  Yes   No   \n",
      "18  in between 30 to 40   No    Male              No   No   No   No   No   No   \n",
      "19  in between 30 to 40   No    Male              No  Yes   No   No  Yes   No   \n",
      "20           <=25 years   No    Male              No  Yes   No   No   No   No   \n",
      "21  in between 30 to 40   No  Female              No   No   No   No   No   No   \n",
      "22                 >=40  Yes  Female              No   No   No   No   No  Yes   \n",
      "23           <=25 years   No  Female  Never observed   No   No   No   No   No   \n",
      "24           <=25 years   No    Male              No   No   No   No   No   No   \n",
      "25           <=25 years   No    Male              No   No   No   No   No   No   \n",
      "26  in between 30 to 40   No  Female              No   No   No   No  Yes   No   \n",
      "27                 >=40   No  Female              No   No   No   No   No   No   \n",
      "28                 >=40  Yes  Female              No   No   No   No   No   No   \n",
      "29                 >=40  Yes  Female              No   No   No   No   No   No   \n",
      "30           <=25 years   No    Male              No   No   No   No   No   No   \n",
      "31           <=25 years   No    Male              No   No   No   No   No   No   \n",
      "32           <=25 years   No    Male              No   No   No   No   No   No   \n",
      "33  in between 25 to 30  Yes  Female              No   No   No   No   No   No   \n",
      "\n",
      "      Q  \n",
      "0    No  \n",
      "1    No  \n",
      "2    No  \n",
      "3    No  \n",
      "4    No  \n",
      "5    No  \n",
      "6    No  \n",
      "7    No  \n",
      "8    No  \n",
      "9    No  \n",
      "10   No  \n",
      "11   No  \n",
      "12   No  \n",
      "13   No  \n",
      "14   No  \n",
      "15   No  \n",
      "16  Yes  \n",
      "17   No  \n",
      "18   No  \n",
      "19   No  \n",
      "20   No  \n",
      "21   No  \n",
      "22   No  \n",
      "23   No  \n",
      "24   No  \n",
      "25   No  \n",
      "26   No  \n",
      "27   No  \n",
      "28  Yes  \n",
      "29   No  \n",
      "30   No  \n",
      "31  Yes  \n",
      "32   No  \n",
      "33   No  \n"
     ]
    }
   ],
   "source": [
    "print(df)"
   ]
  },
  {
   "cell_type": "code",
   "execution_count": 19,
   "metadata": {},
   "outputs": [
    {
     "name": "stdout",
     "output_type": "stream",
     "text": [
      "No     23\n",
      "Yes    11\n",
      "Name: H, dtype: int64\n"
     ]
    }
   ],
   "source": [
    "sizes = df['H'].value_counts(sort = 1)\n",
    "print(sizes)"
   ]
  },
  {
   "cell_type": "code",
   "execution_count": 20,
   "metadata": {
    "scrolled": true
   },
   "outputs": [
    {
     "name": "stdout",
     "output_type": "stream",
     "text": [
      "                      G    H       I               K    L    M    N    O    P  \\\n",
      "0   in between 25 to 30  Yes    Male  Never observed   No  Yes  Yes   No   No   \n",
      "1                  >=40   No    Male  Never observed   No   No   No   No   No   \n",
      "2   in between 30 to 40  Yes  Female              No   No   No   No   No   No   \n",
      "3   in between 30 to 40  Yes  Female              No   No   No   No   No   No   \n",
      "4                  >=40  Yes    Male              No   No   No   No   No   No   \n",
      "5   in between 30 to 40   No    Male              No  Yes   No   No   No   No   \n",
      "6   in between 30 to 40  Yes    Male              No   No   No   No   No   No   \n",
      "7            <=25 years   No    Male              No   No   No   No   No   No   \n",
      "8   in between 25 to 30   No  Female              No   No   No   No   No  Yes   \n",
      "9   in between 30 to 40  Yes  Female              No   No   No   No   No   No   \n",
      "10  in between 30 to 40   No    Male             Yes  Yes  Yes   No   No   No   \n",
      "11  in between 30 to 40   No  Female              No  Yes   No   No   No   No   \n",
      "12           <=25 years   No    Male              No   No   No   No   No   No   \n",
      "13  in between 30 to 40  Yes    Male              No   No   No   No   No   No   \n",
      "14           <=25 years   No    Male              No   No   No   No   No   No   \n",
      "15  in between 30 to 40   No    Male  Never observed   No   No   No   No   No   \n",
      "16                 >=40   No    Male              No   No   No   No   No   No   \n",
      "17  in between 25 to 30   No  Female              No   No   No   No  Yes   No   \n",
      "18  in between 30 to 40   No    Male              No   No   No   No   No   No   \n",
      "19  in between 30 to 40   No    Male              No  Yes   No   No  Yes   No   \n",
      "20           <=25 years   No    Male              No  Yes   No   No   No   No   \n",
      "21  in between 30 to 40   No  Female              No   No   No   No   No   No   \n",
      "22                 >=40  Yes  Female              No   No   No   No   No  Yes   \n",
      "23           <=25 years   No  Female  Never observed   No   No   No   No   No   \n",
      "24           <=25 years   No    Male              No   No   No   No   No   No   \n",
      "25           <=25 years   No    Male              No   No   No   No   No   No   \n",
      "26  in between 30 to 40   No  Female              No   No   No   No  Yes   No   \n",
      "27                 >=40   No  Female              No   No   No   No   No   No   \n",
      "28                 >=40  Yes  Female              No   No   No   No   No   No   \n",
      "29                 >=40  Yes  Female              No   No   No   No   No   No   \n",
      "30           <=25 years   No    Male              No   No   No   No   No   No   \n",
      "31           <=25 years   No    Male              No   No   No   No   No   No   \n",
      "32           <=25 years   No    Male              No   No   No   No   No   No   \n",
      "33  in between 25 to 30  Yes  Female              No   No   No   No   No   No   \n",
      "\n",
      "      Q  \n",
      "0    No  \n",
      "1    No  \n",
      "2    No  \n",
      "3    No  \n",
      "4    No  \n",
      "5    No  \n",
      "6    No  \n",
      "7    No  \n",
      "8    No  \n",
      "9    No  \n",
      "10   No  \n",
      "11   No  \n",
      "12   No  \n",
      "13   No  \n",
      "14   No  \n",
      "15   No  \n",
      "16  Yes  \n",
      "17   No  \n",
      "18   No  \n",
      "19   No  \n",
      "20   No  \n",
      "21   No  \n",
      "22   No  \n",
      "23   No  \n",
      "24   No  \n",
      "25   No  \n",
      "26   No  \n",
      "27   No  \n",
      "28  Yes  \n",
      "29   No  \n",
      "30   No  \n",
      "31  Yes  \n",
      "32   No  \n",
      "33   No  \n"
     ]
    }
   ],
   "source": [
    "print(df)"
   ]
  },
  {
   "cell_type": "code",
   "execution_count": 27,
   "metadata": {},
   "outputs": [
    {
     "name": "stdout",
     "output_type": "stream",
     "text": [
      "   G  H  I  K  L  M  N  O  P  Q\n",
      "0  1  1  1  1  2  1  1  2  2  2\n",
      "1  2  2  1  1  2  2  2  2  2  2\n",
      "2  3  1  2  3  2  2  2  2  2  2\n",
      "3  3  1  2  3  2  2  2  2  2  2\n",
      "4  2  1  1  3  2  2  2  2  2  2\n"
     ]
    }
   ],
   "source": [
    "df.H[df.H == 'Yes'] = 1\n",
    "df.H[df.H == 'No'] = 2\n",
    "\n",
    "df.G[df.G == 'in between 25 to 30'] = 1\n",
    "df.G[df.G == '>=40'] = 2\n",
    "df.G[df.G == 'in between 30 to 40'] = 3\n",
    "df.G[df.G == '<=25 years'] = 4\n",
    "\n",
    "df.I[df.I == 'Male'] = 1\n",
    "df.I[df.I == 'Female'] = 2\n",
    "\n",
    "df.K[df.K == 'Never observed'] = 1\n",
    "df.K[df.K == 'Yes'] = 2\n",
    "df.K[df.K == 'No'] = 3\n",
    "\n",
    "df.L[df.L == 'Yes'] = 1\n",
    "df.L[df.L == 'No'] = 2\n",
    "\n",
    "df.M[df.M == 'Yes'] = 1\n",
    "df.M[df.M == 'No'] = 2\n",
    "\n",
    "df.N[df.N == 'Yes'] = 1\n",
    "df.N[df.N == 'No'] = 2\n",
    "\n",
    "df.O[df.O == 'Yes'] = 1\n",
    "df.O[df.O == 'No'] = 2\n",
    "\n",
    "df.P[df.P == 'Yes'] = 1\n",
    "df.P[df.P == 'No'] = 2\n",
    "\n",
    "df.Q[df.Q == 'Yes'] = 1\n",
    "df.Q[df.Q == 'No'] = 2\n",
    "\n",
    "print(df.head())"
   ]
  },
  {
   "cell_type": "code",
   "execution_count": 29,
   "metadata": {},
   "outputs": [],
   "source": [
    "Y = df[\"H\"].values  #At this point Y is an object not of type int\n",
    "#Convert Y to int\n",
    "Y=Y.astype('int')"
   ]
  },
  {
   "cell_type": "code",
   "execution_count": 30,
   "metadata": {},
   "outputs": [],
   "source": [
    "X = df.drop(labels = [\"H\"], axis=1) "
   ]
  },
  {
   "cell_type": "code",
   "execution_count": 43,
   "metadata": {},
   "outputs": [],
   "source": [
    "from sklearn.model_selection import train_test_split\n",
    "X_train, X_test, y_train, y_test = train_test_split(X, Y, test_size=0.4, random_state=20)"
   ]
  },
  {
   "cell_type": "code",
   "execution_count": 44,
   "metadata": {},
   "outputs": [
    {
     "name": "stdout",
     "output_type": "stream",
     "text": [
      "    G  I  K  L  M  N  O  P  Q\n",
      "5   3  1  3  1  2  2  2  2  2\n",
      "30  4  1  3  2  2  2  2  2  2\n",
      "27  2  2  3  2  2  2  2  2  2\n",
      "18  3  1  3  2  2  2  2  2  2\n",
      "6   3  1  3  2  2  2  2  2  2\n",
      "16  2  1  3  2  2  2  2  2  1\n",
      "19  3  1  3  1  2  2  1  2  2\n",
      "8   1  2  3  2  2  2  2  1  2\n",
      "0   1  1  1  2  1  1  2  2  2\n",
      "2   3  2  3  2  2  2  2  2  2\n",
      "7   4  1  3  2  2  2  2  2  2\n",
      "22  2  2  3  2  2  2  2  1  2\n",
      "11  3  2  3  1  2  2  2  2  2\n",
      "20  4  1  3  1  2  2  2  2  2\n",
      "9   3  2  3  2  2  2  2  2  2\n",
      "33  1  2  3  2  2  2  2  2  2\n",
      "28  2  2  3  2  2  2  2  2  1\n",
      "31  4  1  3  2  2  2  2  2  1\n",
      "15  3  1  1  2  2  2  2  2  2\n",
      "26  3  2  3  2  2  2  1  2  2\n"
     ]
    }
   ],
   "source": [
    "print(X_train)"
   ]
  },
  {
   "cell_type": "code",
   "execution_count": 45,
   "metadata": {},
   "outputs": [
    {
     "name": "stdout",
     "output_type": "stream",
     "text": [
      "    G  I  K  L  M  N  O  P  Q\n",
      "4   2  1  3  2  2  2  2  2  2\n",
      "25  4  1  3  2  2  2  2  2  2\n",
      "13  3  1  3  2  2  2  2  2  2\n",
      "1   2  1  1  2  2  2  2  2  2\n",
      "10  3  1  2  1  1  2  2  2  2\n",
      "12  4  1  3  2  2  2  2  2  2\n",
      "21  3  2  3  2  2  2  2  2  2\n",
      "29  2  2  3  2  2  2  2  2  2\n",
      "3   3  2  3  2  2  2  2  2  2\n",
      "32  4  1  3  2  2  2  2  2  2\n",
      "17  1  2  3  2  2  2  1  2  2\n",
      "23  4  2  1  2  2  2  2  2  2\n",
      "14  4  1  3  2  2  2  2  2  2\n",
      "24  4  1  3  2  2  2  2  2  2\n"
     ]
    }
   ],
   "source": [
    "print(X_test)"
   ]
  },
  {
   "cell_type": "code",
   "execution_count": 46,
   "metadata": {},
   "outputs": [],
   "source": [
    "from sklearn.ensemble import RandomForestClassifier"
   ]
  },
  {
   "cell_type": "code",
   "execution_count": 48,
   "metadata": {},
   "outputs": [
    {
     "data": {
      "text/plain": [
       "RandomForestClassifier(n_estimators=10, random_state=30)"
      ]
     },
     "execution_count": 48,
     "metadata": {},
     "output_type": "execute_result"
    }
   ],
   "source": [
    "model = RandomForestClassifier(n_estimators = 10, random_state = 30)\n",
    "# Train the model on training data\n",
    "model.fit(X_train, y_train)"
   ]
  },
  {
   "cell_type": "code",
   "execution_count": 49,
   "metadata": {},
   "outputs": [
    {
     "name": "stdout",
     "output_type": "stream",
     "text": [
      "Accuracy =  0.6428571428571429\n",
      "G    0.269957\n",
      "I    0.167148\n",
      "L    0.165892\n",
      "O    0.096979\n",
      "P    0.088467\n",
      "N    0.087037\n",
      "Q    0.058513\n",
      "M    0.042136\n",
      "K    0.023870\n",
      "dtype: float64\n"
     ]
    }
   ],
   "source": [
    "prediction_test = model.predict(X_test)\n",
    "#print(y_test, prediction_test)\n",
    "\n",
    "from sklearn import metrics\n",
    "#Print the prediction accuracy\n",
    "print (\"Accuracy = \", metrics.accuracy_score(y_test, prediction_test))\n",
    "#Test accuracy for various test sizes and see how it gets better with more training data\n",
    "\n",
    "#One amazing feature of Random forest is that it provides us info on feature importances\n",
    "# Get numerical feature importances\n",
    "#importances = list(model.feature_importances_)\n",
    "\n",
    "#Let us print them into a nice format.\n",
    "\n",
    "feature_list = list(X.columns)\n",
    "feature_imp = pd.Series(model.feature_importances_,index=feature_list).sort_values(ascending=False)\n",
    "print(feature_imp)"
   ]
  },
  {
   "cell_type": "code",
   "execution_count": null,
   "metadata": {},
   "outputs": [],
   "source": []
  }
 ],
 "metadata": {
  "kernelspec": {
   "display_name": "Python 3",
   "language": "python",
   "name": "python3"
  }
 },
 "nbformat": 4,
 "nbformat_minor": 4
}
