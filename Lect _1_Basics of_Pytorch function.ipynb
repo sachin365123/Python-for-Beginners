{
 "cells": [
  {
   "cell_type": "code",
   "execution_count": 8,
   "id": "e8202945",
   "metadata": {},
   "outputs": [],
   "source": [
    "import torch"
   ]
  },
  {
   "cell_type": "code",
   "execution_count": 9,
   "id": "a0b22245",
   "metadata": {},
   "outputs": [
    {
     "data": {
      "text/plain": [
       "'1.12.1'"
      ]
     },
     "execution_count": 9,
     "metadata": {},
     "output_type": "execute_result"
    }
   ],
   "source": [
    "torch.__version__"
   ]
  },
  {
   "cell_type": "code",
   "execution_count": 10,
   "id": "623f5609",
   "metadata": {},
   "outputs": [],
   "source": [
    "#scalers\n",
    "scaler=torch.tensor(9)"
   ]
  },
  {
   "cell_type": "code",
   "execution_count": 11,
   "id": "d1bfc718",
   "metadata": {},
   "outputs": [
    {
     "data": {
      "text/plain": [
       "tensor(9)"
      ]
     },
     "execution_count": 11,
     "metadata": {},
     "output_type": "execute_result"
    }
   ],
   "source": [
    "scaler"
   ]
  },
  {
   "cell_type": "code",
   "execution_count": 12,
   "id": "01a9c4df",
   "metadata": {},
   "outputs": [
    {
     "data": {
      "text/plain": [
       "0"
      ]
     },
     "execution_count": 12,
     "metadata": {},
     "output_type": "execute_result"
    }
   ],
   "source": [
    "scaler.ndim"
   ]
  },
  {
   "cell_type": "code",
   "execution_count": 13,
   "id": "91f9b682",
   "metadata": {},
   "outputs": [
    {
     "data": {
      "text/plain": [
       "9"
      ]
     },
     "execution_count": 13,
     "metadata": {},
     "output_type": "execute_result"
    }
   ],
   "source": [
    "scaler.item()"
   ]
  },
  {
   "cell_type": "code",
   "execution_count": 18,
   "id": "7416e4d8",
   "metadata": {},
   "outputs": [],
   "source": [
    "#vector\n",
    "vector=torch.tensor([8,5,3])"
   ]
  },
  {
   "cell_type": "code",
   "execution_count": 19,
   "id": "2224ce4b",
   "metadata": {},
   "outputs": [
    {
     "data": {
      "text/plain": [
       "tensor([8, 5, 3])"
      ]
     },
     "execution_count": 19,
     "metadata": {},
     "output_type": "execute_result"
    }
   ],
   "source": [
    "vector"
   ]
  },
  {
   "cell_type": "code",
   "execution_count": 20,
   "id": "5224dcda",
   "metadata": {},
   "outputs": [
    {
     "data": {
      "text/plain": [
       "1"
      ]
     },
     "execution_count": 20,
     "metadata": {},
     "output_type": "execute_result"
    }
   ],
   "source": [
    "vector.ndim"
   ]
  },
  {
   "cell_type": "code",
   "execution_count": 21,
   "id": "9aeec5dd",
   "metadata": {},
   "outputs": [
    {
     "data": {
      "text/plain": [
       "torch.Size([3])"
      ]
     },
     "execution_count": 21,
     "metadata": {},
     "output_type": "execute_result"
    }
   ],
   "source": [
    "vector.shape"
   ]
  },
  {
   "cell_type": "code",
   "execution_count": 25,
   "id": "1f090751",
   "metadata": {},
   "outputs": [
    {
     "data": {
      "text/plain": [
       "tensor([8, 5, 3])"
      ]
     },
     "execution_count": 25,
     "metadata": {},
     "output_type": "execute_result"
    }
   ],
   "source": [
    "vector"
   ]
  },
  {
   "cell_type": "code",
   "execution_count": 27,
   "id": "e6f07276",
   "metadata": {},
   "outputs": [],
   "source": [
    "#Matrix\n",
    "Matrix=torch.tensor([[1,5],[5,8]])"
   ]
  },
  {
   "cell_type": "code",
   "execution_count": 28,
   "id": "01dcde55",
   "metadata": {},
   "outputs": [
    {
     "data": {
      "text/plain": [
       "tensor([[1, 5],\n",
       "        [5, 8]])"
      ]
     },
     "execution_count": 28,
     "metadata": {},
     "output_type": "execute_result"
    }
   ],
   "source": [
    "Matrix"
   ]
  },
  {
   "cell_type": "code",
   "execution_count": 29,
   "id": "8db3630a",
   "metadata": {},
   "outputs": [
    {
     "data": {
      "text/plain": [
       "2"
      ]
     },
     "execution_count": 29,
     "metadata": {},
     "output_type": "execute_result"
    }
   ],
   "source": [
    "Matrix.ndim"
   ]
  },
  {
   "cell_type": "code",
   "execution_count": 30,
   "id": "34831bdc",
   "metadata": {},
   "outputs": [
    {
     "data": {
      "text/plain": [
       "torch.Size([2, 2])"
      ]
     },
     "execution_count": 30,
     "metadata": {},
     "output_type": "execute_result"
    }
   ],
   "source": [
    "Matrix.shape"
   ]
  },
  {
   "cell_type": "code",
   "execution_count": 32,
   "id": "85163e66",
   "metadata": {},
   "outputs": [],
   "source": [
    "Tensor=torch.tensor([[[1,5,8],[7,9,5],[5,7,9]]])\n"
   ]
  },
  {
   "cell_type": "code",
   "execution_count": 33,
   "id": "3892d4a7",
   "metadata": {},
   "outputs": [
    {
     "data": {
      "text/plain": [
       "tensor([[[1, 5, 8],\n",
       "         [7, 9, 5],\n",
       "         [5, 7, 9]]])"
      ]
     },
     "execution_count": 33,
     "metadata": {},
     "output_type": "execute_result"
    }
   ],
   "source": [
    "Tensor"
   ]
  },
  {
   "cell_type": "code",
   "execution_count": 34,
   "id": "0846d7b4",
   "metadata": {},
   "outputs": [
    {
     "data": {
      "text/plain": [
       "3"
      ]
     },
     "execution_count": 34,
     "metadata": {},
     "output_type": "execute_result"
    }
   ],
   "source": [
    "Tensor.ndim"
   ]
  },
  {
   "cell_type": "code",
   "execution_count": 35,
   "id": "9e3a1548",
   "metadata": {},
   "outputs": [
    {
     "data": {
      "text/plain": [
       "torch.Size([1, 3, 3])"
      ]
     },
     "execution_count": 35,
     "metadata": {},
     "output_type": "execute_result"
    }
   ],
   "source": [
    "Tensor.shape"
   ]
  },
  {
   "cell_type": "code",
   "execution_count": 37,
   "id": "2f484f41",
   "metadata": {},
   "outputs": [
    {
     "data": {
      "text/plain": [
       "(tensor([[0.3669, 0.1923, 0.0878, 0.3693, 0.7921, 0.8624],\n",
       "         [0.5549, 0.8027, 0.5856, 0.2340, 0.1019, 0.5482],\n",
       "         [0.4044, 0.6041, 0.8167, 0.1978, 0.1830, 0.2299],\n",
       "         [0.2982, 0.6136, 0.5450, 0.9954, 0.0577, 0.9797]]),\n",
       " torch.float32)"
      ]
     },
     "execution_count": 37,
     "metadata": {},
     "output_type": "execute_result"
    }
   ],
   "source": [
    "#Random Tensor values \n",
    "random_tensor=torch.rand(size=(4,6))\n",
    "random_tensor, random_tensor.dtype"
   ]
  },
  {
   "cell_type": "code",
   "execution_count": 38,
   "id": "1437aa33",
   "metadata": {},
   "outputs": [
    {
     "data": {
      "text/plain": [
       "(torch.Size([224, 224, 3]), 3)"
      ]
     },
     "execution_count": 38,
     "metadata": {},
     "output_type": "execute_result"
    }
   ],
   "source": [
    "random_image_size=torch.rand(size=(224,224,3))\n",
    "random_image_size.shape, random_image_size.ndim "
   ]
  },
  {
   "cell_type": "code",
   "execution_count": 39,
   "id": "e6e4bc97",
   "metadata": {},
   "outputs": [
    {
     "data": {
      "text/plain": [
       "tensor([[[0.6764, 0.4249, 0.0397],\n",
       "         [0.1925, 0.6781, 0.1644],\n",
       "         [0.1998, 0.7667, 0.1051],\n",
       "         ...,\n",
       "         [0.1204, 0.4478, 0.3123],\n",
       "         [0.5605, 0.5934, 0.8585],\n",
       "         [0.3474, 0.2525, 0.8879]],\n",
       "\n",
       "        [[0.3547, 0.1765, 0.7534],\n",
       "         [0.8105, 0.5017, 0.9243],\n",
       "         [0.6433, 0.7274, 0.8627],\n",
       "         ...,\n",
       "         [0.5474, 0.8946, 0.9253],\n",
       "         [0.0434, 0.5613, 0.3247],\n",
       "         [0.3562, 0.6535, 0.6633]],\n",
       "\n",
       "        [[0.6471, 0.7946, 0.3679],\n",
       "         [0.3279, 0.4342, 0.9867],\n",
       "         [0.9843, 0.9855, 0.2872],\n",
       "         ...,\n",
       "         [0.3206, 0.8770, 0.5055],\n",
       "         [0.0498, 0.6761, 0.8324],\n",
       "         [0.8467, 0.8097, 0.2134]],\n",
       "\n",
       "        ...,\n",
       "\n",
       "        [[0.8563, 0.2611, 0.4608],\n",
       "         [0.8142, 0.6333, 0.6438],\n",
       "         [0.9039, 0.3519, 0.9889],\n",
       "         ...,\n",
       "         [0.5956, 0.6263, 0.8264],\n",
       "         [0.7591, 0.9079, 0.1923],\n",
       "         [0.0806, 0.0410, 0.7335]],\n",
       "\n",
       "        [[0.8001, 0.6745, 0.5689],\n",
       "         [0.6564, 0.1747, 0.3640],\n",
       "         [0.0620, 0.0787, 0.9805],\n",
       "         ...,\n",
       "         [0.6945, 0.8529, 0.0614],\n",
       "         [0.0794, 0.1055, 0.3315],\n",
       "         [0.6161, 0.3782, 0.5787]],\n",
       "\n",
       "        [[0.3216, 0.6286, 0.9768],\n",
       "         [0.0629, 0.4963, 0.6311],\n",
       "         [0.5295, 0.0317, 0.8552],\n",
       "         ...,\n",
       "         [0.8165, 0.1153, 0.0695],\n",
       "         [0.7771, 0.2284, 0.2488],\n",
       "         [0.4930, 0.7982, 0.1355]]])"
      ]
     },
     "execution_count": 39,
     "metadata": {},
     "output_type": "execute_result"
    }
   ],
   "source": [
    "random_image_size"
   ]
  },
  {
   "cell_type": "code",
   "execution_count": 41,
   "id": "3c804776",
   "metadata": {},
   "outputs": [],
   "source": [
    "zeros=torch.zeros(size=(3,4))"
   ]
  },
  {
   "cell_type": "code",
   "execution_count": 42,
   "id": "d265208a",
   "metadata": {},
   "outputs": [
    {
     "data": {
      "text/plain": [
       "tensor([[0., 0., 0., 0.],\n",
       "        [0., 0., 0., 0.],\n",
       "        [0., 0., 0., 0.]])"
      ]
     },
     "execution_count": 42,
     "metadata": {},
     "output_type": "execute_result"
    }
   ],
   "source": [
    "zeros"
   ]
  },
  {
   "cell_type": "code",
   "execution_count": 43,
   "id": "d315fbac",
   "metadata": {},
   "outputs": [],
   "source": [
    "ones=torch.ones(size=(2,5))"
   ]
  },
  {
   "cell_type": "code",
   "execution_count": 44,
   "id": "139849b6",
   "metadata": {},
   "outputs": [
    {
     "data": {
      "text/plain": [
       "tensor([[1., 1., 1., 1., 1.],\n",
       "        [1., 1., 1., 1., 1.]])"
      ]
     },
     "execution_count": 44,
     "metadata": {},
     "output_type": "execute_result"
    }
   ],
   "source": [
    "ones"
   ]
  },
  {
   "cell_type": "code",
   "execution_count": 45,
   "id": "8b065727",
   "metadata": {},
   "outputs": [],
   "source": [
    "start=0\n",
    "end=10\n",
    "step=2\n",
    "arrrg=torch.arange(start,end,step)"
   ]
  },
  {
   "cell_type": "code",
   "execution_count": 46,
   "id": "61314abf",
   "metadata": {},
   "outputs": [
    {
     "data": {
      "text/plain": [
       "tensor([0, 2, 4, 6, 8])"
      ]
     },
     "execution_count": 46,
     "metadata": {},
     "output_type": "execute_result"
    }
   ],
   "source": [
    "arrrg"
   ]
  },
  {
   "cell_type": "code",
   "execution_count": 47,
   "id": "c19a4325",
   "metadata": {},
   "outputs": [
    {
     "name": "stderr",
     "output_type": "stream",
     "text": [
      "C:\\Users\\Sachin\\AppData\\Local\\Temp\\ipykernel_10076\\340311480.py:1: UserWarning: torch.range is deprecated and will be removed in a future release because its behavior is inconsistent with Python's range builtin. Instead, use torch.arange, which produces values in [start, end).\n",
      "  zero_to_ten=torch.range(0,10)\n"
     ]
    }
   ],
   "source": [
    "zero_to_ten=torch.range(0,10)"
   ]
  },
  {
   "cell_type": "code",
   "execution_count": 49,
   "id": "afd9a0a0",
   "metadata": {},
   "outputs": [
    {
     "data": {
      "text/plain": [
       "tensor([1, 1, 1, 1, 1])"
      ]
     },
     "execution_count": 49,
     "metadata": {},
     "output_type": "execute_result"
    }
   ],
   "source": [
    "zero_to_ten=torch.ones_like(input=arrrg)\n",
    "zero_to_ten"
   ]
  },
  {
   "cell_type": "code",
   "execution_count": null,
   "id": "04413808",
   "metadata": {},
   "outputs": [],
   "source": []
  }
 ],
 "metadata": {
  "kernelspec": {
   "display_name": "Python 3 (ipykernel)",
   "language": "python",
   "name": "python3"
  },
  "language_info": {
   "codemirror_mode": {
    "name": "ipython",
    "version": 3
   },
   "file_extension": ".py",
   "mimetype": "text/x-python",
   "name": "python",
   "nbconvert_exporter": "python",
   "pygments_lexer": "ipython3",
   "version": "3.9.12"
  }
 },
 "nbformat": 4,
 "nbformat_minor": 5
}
