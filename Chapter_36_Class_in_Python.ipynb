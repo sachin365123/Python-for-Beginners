{
  "nbformat": 4,
  "nbformat_minor": 0,
  "metadata": {
    "colab": {
      "name": "Chapter 36 Class in Python.ipynb",
      "provenance": []
    },
    "kernelspec": {
      "name": "python3",
      "display_name": "Python 3"
    },
    "language_info": {
      "name": "python"
    }
  },
  "cells": [
    {
      "cell_type": "code",
      "metadata": {
        "id": "oCkyYg5eEjem"
      },
      "source": [
        "class MyClass:\n",
        "  x = 5"
      ],
      "execution_count": null,
      "outputs": []
    },
    {
      "cell_type": "code",
      "metadata": {
        "colab": {
          "base_uri": "https://localhost:8080/"
        },
        "id": "a0gWLcflExqi",
        "outputId": "3cc7dfee-d3e9-4a69-b773-e3bd2c95a449"
      },
      "source": [
        "print(MyClass)"
      ],
      "execution_count": null,
      "outputs": [
        {
          "output_type": "stream",
          "name": "stdout",
          "text": [
            "<class '__main__.MyClass'>\n"
          ]
        }
      ]
    },
    {
      "cell_type": "code",
      "metadata": {
        "colab": {
          "base_uri": "https://localhost:8080/"
        },
        "id": "stBzharlE5bL",
        "outputId": "bded3d2a-e633-4c7a-9526-61dd1797cb70"
      },
      "source": [
        "p1 = MyClass()\n",
        "print(p1.x)"
      ],
      "execution_count": null,
      "outputs": [
        {
          "output_type": "stream",
          "name": "stdout",
          "text": [
            "5\n"
          ]
        }
      ]
    },
    {
      "cell_type": "code",
      "metadata": {
        "colab": {
          "base_uri": "https://localhost:8080/"
        },
        "id": "aljFci_iE0wb",
        "outputId": "ce24c5e1-94f2-4999-8e58-b66f3d5a5a79"
      },
      "source": [
        "class Person:\n",
        "  def __init__(self, name, age):\n",
        "    self.name = name\n",
        "    self.age = age\n",
        "\n",
        "p1 = Person(\"John\", 36)\n",
        "\n",
        "print(p1.name)\n",
        "print(p1.age)"
      ],
      "execution_count": null,
      "outputs": [
        {
          "output_type": "stream",
          "name": "stdout",
          "text": [
            "John\n",
            "36\n"
          ]
        }
      ]
    },
    {
      "cell_type": "markdown",
      "metadata": {
        "id": "YAjXxKiYFGer"
      },
      "source": [
        "**Python Inheritance**\n",
        "Parent class is the class being inherited from, also called base class.\n",
        "\n",
        "Child class is the class that inherits from another class, also called derived class."
      ]
    },
    {
      "cell_type": "code",
      "metadata": {
        "colab": {
          "base_uri": "https://localhost:8080/"
        },
        "id": "CZVkdWWOFBWi",
        "outputId": "a93b6d73-a579-436e-f658-8773af111d7a"
      },
      "source": [
        "#Parent Class\n",
        "class Person:\n",
        "  def __init__(self, fname, lname):\n",
        "    self.firstname = fname\n",
        "    self.lastname = lname\n",
        "\n",
        "  def printname(self):\n",
        "    print(self.firstname, self.lastname)\n",
        "\n",
        "#Use the Person class to create an object, and then execute the printname method:\n",
        "\n",
        "x = Person(\"John\", \"Doe\")\n",
        "x.printname()"
      ],
      "execution_count": null,
      "outputs": [
        {
          "output_type": "stream",
          "name": "stdout",
          "text": [
            "John Doe\n"
          ]
        }
      ]
    },
    {
      "cell_type": "code",
      "metadata": {
        "id": "xbBMe5X3FvCd"
      },
      "source": [
        "#without passing any value to child class\n",
        "class Student(Person):\n",
        "  pass"
      ],
      "execution_count": null,
      "outputs": []
    },
    {
      "cell_type": "code",
      "metadata": {
        "colab": {
          "base_uri": "https://localhost:8080/"
        },
        "id": "I_HtRjimF7YA",
        "outputId": "5b0e31b8-766d-4a1b-98a9-df493d59a25f"
      },
      "source": [
        "x = Student(\"Mike\", \"Olsen\")\n",
        "x.printname()"
      ],
      "execution_count": null,
      "outputs": [
        {
          "output_type": "stream",
          "name": "stdout",
          "text": [
            "Mike Olsen\n"
          ]
        }
      ]
    },
    {
      "cell_type": "code",
      "metadata": {
        "id": "c8u97mykF_W4"
      },
      "source": [
        "#Now pass values to child class\n",
        "class Student(Person):\n",
        "  def __init__(self, fname, lname):\n",
        "    self.fn=fname\n",
        "    self.ln=lname\n",
        "    Person.__init__(self, fname, lname)\n",
        "#add properties etc"
      ],
      "execution_count": null,
      "outputs": []
    },
    {
      "cell_type": "code",
      "metadata": {
        "id": "MJVRbDFeG3rg"
      },
      "source": [
        "y = Student(\"Mike\", \"Olsen\")"
      ],
      "execution_count": null,
      "outputs": []
    },
    {
      "cell_type": "code",
      "metadata": {
        "id": "eG17aMpEGYyB"
      },
      "source": [
        ""
      ],
      "execution_count": null,
      "outputs": []
    },
    {
      "cell_type": "markdown",
      "metadata": {
        "id": "vOcDM6DjHfZY"
      },
      "source": [
        "![Blank-Diagram-Page-1-3.png](data:image/png;base64,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)"
      ]
    },
    {
      "cell_type": "code",
      "metadata": {
        "colab": {
          "base_uri": "https://localhost:8080/"
        },
        "id": "ATOSPq1YIPzx",
        "outputId": "c24b906d-e4a0-4bc3-95b4-6c7ebd1f32ad"
      },
      "source": [
        "# a class\n",
        " \n",
        " \n",
        "class Dog:\n",
        "     \n",
        "    # A simple class\n",
        "    # attribute\n",
        "    attr1 = \"mammal\"\n",
        "    attr2 = \"dog\"\n",
        " \n",
        "    # A sample method \n",
        "    def fun(self):\n",
        "        print(\"I'm a\", self.attr1)\n",
        "        print(\"I'm a\", self.attr2)\n",
        " \n",
        "# Driver code\n",
        "# Object instantiation\n",
        "Rodger = Dog()\n",
        " \n",
        "# Accessing class attributes\n",
        "# and method through objects\n",
        "print(Rodger.attr1)\n",
        "Rodger.fun()"
      ],
      "execution_count": null,
      "outputs": [
        {
          "output_type": "stream",
          "name": "stdout",
          "text": [
            "mammal\n",
            "I'm a mammal\n",
            "I'm a dog\n"
          ]
        }
      ]
    },
    {
      "cell_type": "code",
      "metadata": {
        "colab": {
          "base_uri": "https://localhost:8080/"
        },
        "id": "VGwr7aAkI6AT",
        "outputId": "dc079b24-abcd-4788-cabb-c9cf2777d275"
      },
      "source": [
        "\n",
        "# A Sample class with init method\n",
        "class Person:\n",
        "   \n",
        "    # init method or constructor \n",
        "    def __init__(self, name):\n",
        "        self.name = name\n",
        "   \n",
        "    # Sample Method \n",
        "    def say_hi(self):\n",
        "        print('Hello, my name is', self.name)\n",
        "   \n",
        "p = Person('Nikhil')\n",
        "p.say_hi()"
      ],
      "execution_count": null,
      "outputs": [
        {
          "output_type": "stream",
          "name": "stdout",
          "text": [
            "Hello, my name is Nikhil\n"
          ]
        }
      ]
    },
    {
      "cell_type": "code",
      "metadata": {
        "colab": {
          "base_uri": "https://localhost:8080/"
        },
        "id": "HmUR5c89I8_G",
        "outputId": "a969d585-7c2f-4651-f140-1081790d944a"
      },
      "source": [
        "# Class for Dog\n",
        "class Dog:\n",
        "   \n",
        "    # Class Variable\n",
        "    animal = 'dog'            \n",
        "   \n",
        "    # The init method or constructor\n",
        "    def __init__(self, breed, color):\n",
        "     \n",
        "        # Instance Variable    \n",
        "        self.breed = breed\n",
        "        self.color = color       \n",
        "    \n",
        "# Objects of Dog class\n",
        "Rodger = Dog(\"Pug\", \"brown\")\n",
        "Buzo = Dog(\"Bulldog\", \"black\")\n",
        " \n",
        "print('Rodger details:')  \n",
        "print('Rodger is a', Rodger.animal)\n",
        "print('Breed: ', Rodger.breed)\n",
        "print('Color: ', Rodger.color)\n",
        " \n",
        "print('\\nBuzo details:')  \n",
        "print('Buzo is a', Buzo.animal)\n",
        "print('Breed: ', Buzo.breed)\n",
        "print('Color: ', Buzo.color)\n",
        " \n",
        "# Class variables can be accessed using class\n",
        "# name also\n",
        "print(\"\\nAccessing class variable using class name\")\n",
        "print(Dog.animal)   "
      ],
      "execution_count": null,
      "outputs": [
        {
          "output_type": "stream",
          "name": "stdout",
          "text": [
            "Rodger details:\n",
            "Rodger is a dog\n",
            "Breed:  Pug\n",
            "Color:  brown\n",
            "\n",
            "Buzo details:\n",
            "Buzo is a dog\n",
            "Breed:  Bulldog\n",
            "Color:  black\n",
            "\n",
            "Accessing class variable using class name\n",
            "dog\n"
          ]
        }
      ]
    },
    {
      "cell_type": "markdown",
      "metadata": {
        "id": "uK0jN3UZJy78"
      },
      "source": [
        "Constructors in Python"
      ]
    },
    {
      "cell_type": "markdown",
      "metadata": {
        "id": "DLVBL4BhJ3kF"
      },
      "source": [
        "**default constructor:** The default constructor is a simple constructor which doesn’t accept any arguments. Its definition has only one argument which is a reference to the instance being constructed.\n",
        "**parameterized constructor:** constructor with parameters is known as parameterized constructor. The parameterized constructor takes its first argument as a reference to the instance being constructed known as self and the rest of the arguments are provided by the programmer."
      ]
    },
    {
      "cell_type": "code",
      "metadata": {
        "colab": {
          "base_uri": "https://localhost:8080/"
        },
        "id": "sLCe0vb6Jz9o",
        "outputId": "1905b679-9abe-4e4e-ba90-1d2517951325"
      },
      "source": [
        "#Example of default constructor : \n",
        "class GeekforGeeks:\n",
        " \n",
        "    # default constructor\n",
        "    def __init__(self):\n",
        "        self.geek = \"GeekforGeeks\"\n",
        " \n",
        "    # a method for printing data members\n",
        "    def print_Geek(self):\n",
        "        print(self.geek)\n",
        " \n",
        " \n",
        "# creating object of the class\n",
        "obj = GeekforGeeks()\n",
        " \n",
        "# calling the instance method using the object obj\n",
        "obj.print_Geek()"
      ],
      "execution_count": null,
      "outputs": [
        {
          "output_type": "stream",
          "name": "stdout",
          "text": [
            "GeekforGeeks\n"
          ]
        }
      ]
    },
    {
      "cell_type": "code",
      "metadata": {
        "colab": {
          "base_uri": "https://localhost:8080/"
        },
        "id": "snWWlUbOK9Kj",
        "outputId": "c4f8512f-e372-4c14-fe86-98be863bdcc1"
      },
      "source": [
        "#Example of the parameterized constructor : \n",
        "class Addition:\n",
        "    first = 0\n",
        "    second = 0\n",
        "    answer = 0\n",
        "     \n",
        "    # parameterized constructor\n",
        "    def __init__(self, f, s):\n",
        "        self.first = f\n",
        "        self.second = s\n",
        "     \n",
        "    def display(self):\n",
        "        print(\"First number = \" + str(self.first))\n",
        "        print(\"Second number = \" + str(self.second))\n",
        "        print(\"Addition of two numbers = \" + str(self.answer))\n",
        " \n",
        "    def calculate(self):\n",
        "        self.answer = self.first + self.second\n",
        " \n",
        "# creating object of the class\n",
        "# this will invoke parameterized constructor\n",
        "obj = Addition(1000, 2000)\n",
        " \n",
        "# perform Addition\n",
        "obj.calculate()\n",
        " \n",
        "# display result\n",
        "obj.display()"
      ],
      "execution_count": null,
      "outputs": [
        {
          "output_type": "stream",
          "name": "stdout",
          "text": [
            "First number = 1000\n",
            "Second number = 2000\n",
            "Addition of two numbers = 3000\n"
          ]
        }
      ]
    },
    {
      "cell_type": "code",
      "metadata": {
        "id": "SwK9a5wSLHYQ"
      },
      "source": [
        "#Destructors in Python\n"
      ],
      "execution_count": null,
      "outputs": []
    },
    {
      "cell_type": "markdown",
      "metadata": {
        "id": "oLcWhQu3LQko"
      },
      "source": [
        "Destructors are called when an object gets destroyed. In Python, destructors are not needed as much needed in C++ because Python has a garbage collector that handles memory management automatically.\n",
        "The __del__() method is a known as a destructor method in Python. It is called when all references to the object have been deleted i.e when an object is garbage collected."
      ]
    },
    {
      "cell_type": "code",
      "metadata": {
        "id": "jDox0fTfLSEJ",
        "colab": {
          "base_uri": "https://localhost:8080/"
        },
        "outputId": "802d0858-328c-4669-e70d-a173cd93cd46"
      },
      "source": [
        "# Python program to illustrate destructor\n",
        "class Employee:\n",
        "  \n",
        "    # Initializing\n",
        "    def __init__(self):\n",
        "        print('Employee created.')\n",
        "  \n",
        "    # Deleting (Calling destructor)\n",
        "    def __del__(self):\n",
        "        print('Destructor called, Employee deleted.')\n",
        "  \n",
        "obj = Employee()\n",
        "del obj"
      ],
      "execution_count": null,
      "outputs": [
        {
          "output_type": "stream",
          "name": "stdout",
          "text": [
            "Employee created.\n",
            "Destructor called, Employee deleted.\n"
          ]
        }
      ]
    },
    {
      "cell_type": "code",
      "metadata": {
        "id": "ybyE6cciLXCa"
      },
      "source": [
        ""
      ],
      "execution_count": null,
      "outputs": []
    }
  ]
}