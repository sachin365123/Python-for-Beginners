{
 "cells": [
  {
   "cell_type": "code",
   "execution_count": 5,
   "id": "65d41509",
   "metadata": {},
   "outputs": [],
   "source": [
    "def aimtutorial(name):\n",
    "    \"\"\"\n",
    "    How Python handles function\n",
    "    this is all about\n",
    "    \"\"\"\n",
    "    print(\"Hello \" +name+ \", Greetings of the day.....\")"
   ]
  },
  {
   "cell_type": "code",
   "execution_count": 6,
   "id": "dae28258",
   "metadata": {},
   "outputs": [
    {
     "name": "stdout",
     "output_type": "stream",
     "text": [
      "Hello Sachin, Greetings of the day.....\n"
     ]
    }
   ],
   "source": [
    "aimtutorial(\"Sachin\")"
   ]
  },
  {
   "cell_type": "code",
   "execution_count": 7,
   "id": "58bff48a",
   "metadata": {},
   "outputs": [],
   "source": [
    "def fun1(num1,num2):\n",
    "    return((num1+num2)/2)"
   ]
  },
  {
   "cell_type": "code",
   "execution_count": 8,
   "id": "a2a4f540",
   "metadata": {},
   "outputs": [],
   "source": [
    "a=fun1(2,3)"
   ]
  },
  {
   "cell_type": "code",
   "execution_count": 9,
   "id": "6cb2ee10",
   "metadata": {},
   "outputs": [
    {
     "data": {
      "text/plain": [
       "2.5"
      ]
     },
     "execution_count": 9,
     "metadata": {},
     "output_type": "execute_result"
    }
   ],
   "source": [
    "a"
   ]
  },
  {
   "cell_type": "code",
   "execution_count": 14,
   "id": "0344d117",
   "metadata": {},
   "outputs": [],
   "source": [
    "def fun1(num3,num4,num5,num6,num7):\n",
    "    return(max(num3,num4,num5,num6,num7))"
   ]
  },
  {
   "cell_type": "code",
   "execution_count": 16,
   "id": "5b328ce2",
   "metadata": {},
   "outputs": [
    {
     "data": {
      "text/plain": [
       "88"
      ]
     },
     "execution_count": 16,
     "metadata": {},
     "output_type": "execute_result"
    }
   ],
   "source": [
    "fun1(20,45,10,88,25)"
   ]
  },
  {
   "cell_type": "code",
   "execution_count": null,
   "id": "81a7adbf",
   "metadata": {},
   "outputs": [],
   "source": []
  },
  {
   "cell_type": "code",
   "execution_count": null,
   "id": "90711684",
   "metadata": {},
   "outputs": [],
   "source": []
  },
  {
   "cell_type": "code",
   "execution_count": null,
   "id": "dff07850",
   "metadata": {},
   "outputs": [],
   "source": []
  },
  {
   "cell_type": "code",
   "execution_count": 13,
   "id": "1c9d7b19",
   "metadata": {},
   "outputs": [
    {
     "data": {
      "text/plain": [
       "45"
      ]
     },
     "execution_count": 13,
     "metadata": {},
     "output_type": "execute_result"
    }
   ],
   "source": [
    "fun1(20,45)"
   ]
  },
  {
   "cell_type": "code",
   "execution_count": null,
   "id": "b410a7e8",
   "metadata": {},
   "outputs": [],
   "source": []
  },
  {
   "cell_type": "code",
   "execution_count": null,
   "id": "0b39cb25",
   "metadata": {},
   "outputs": [],
   "source": []
  },
  {
   "cell_type": "code",
   "execution_count": null,
   "id": "db173343",
   "metadata": {},
   "outputs": [],
   "source": []
  },
  {
   "cell_type": "code",
   "execution_count": null,
   "id": "0acf24db",
   "metadata": {},
   "outputs": [],
   "source": []
  },
  {
   "cell_type": "code",
   "execution_count": null,
   "id": "69b5f7bb",
   "metadata": {},
   "outputs": [],
   "source": []
  },
  {
   "cell_type": "code",
   "execution_count": null,
   "id": "03a620c8",
   "metadata": {},
   "outputs": [],
   "source": []
  },
  {
   "cell_type": "code",
   "execution_count": null,
   "id": "b11270e3",
   "metadata": {},
   "outputs": [],
   "source": []
  }
 ],
 "metadata": {
  "kernelspec": {
   "display_name": "Python 3",
   "language": "python",
   "name": "python3"
  },
  "language_info": {
   "codemirror_mode": {
    "name": "ipython",
    "version": 3
   },
   "file_extension": ".py",
   "mimetype": "text/x-python",
   "name": "python",
   "nbconvert_exporter": "python",
   "pygments_lexer": "ipython3",
   "version": "3.8.8"
  }
 },
 "nbformat": 4,
 "nbformat_minor": 5
}
