{
  "cells": [
    {
      "cell_type": "markdown",
      "metadata": {
        "id": "KVeauDuQEg1Q"
      },
      "source": [
        "# Math operations in TensorFlow\n",
        "\n",
        "We will explore some of the math operations in Tensorflow using Eager execution mode. "
      ]
    },
    {
      "cell_type": "code",
      "execution_count": 2,
      "metadata": {
        "id": "-Q0TmPcuEg1V"
      },
      "outputs": [],
      "source": [
        "import warnings\n",
        "warnings.filterwarnings('ignore')\n",
        "\n",
        "import tensorflow as tf\n",
        "# tf.logging.set_verbosity(tf.logging.ERROR)"
      ]
    },
    {
      "cell_type": "markdown",
      "metadata": {
        "id": "QFqFevH-Eg1W"
      },
      "source": [
        "Enable Eage Execution mode:"
      ]
    },
    {
      "cell_type": "code",
      "execution_count": 48,
      "metadata": {
        "id": "0yaygmmpEg1X"
      },
      "outputs": [],
      "source": [
        "# tf.enable_eager_execution()"
      ]
    },
    {
      "cell_type": "markdown",
      "metadata": {
        "collapsed": true,
        "id": "yEfp0NErEg1X"
      },
      "source": [
        "Define x and y:"
      ]
    },
    {
      "cell_type": "code",
      "execution_count": 4,
      "metadata": {
        "id": "C1miBT5pEg1Y"
      },
      "outputs": [],
      "source": [
        "x = tf.constant([1., 2., 3.])\n",
        "y = tf.constant([3., 2., 1.])"
      ]
    },
    {
      "cell_type": "markdown",
      "metadata": {
        "id": "Ge8j7njlEg1Y"
      },
      "source": [
        "## Basic Operations"
      ]
    },
    {
      "cell_type": "markdown",
      "metadata": {
        "id": "ekZlq4sOEg1Z"
      },
      "source": [
        "#### Addition"
      ]
    },
    {
      "cell_type": "code",
      "execution_count": 5,
      "metadata": {
        "colab": {
          "base_uri": "https://localhost:8080/"
        },
        "id": "9yIPNsn_Eg1Z",
        "outputId": "70266ecb-66b0-4932-aad7-0f0fe74d3431"
      },
      "outputs": [
        {
          "output_type": "execute_result",
          "data": {
            "text/plain": [
              "array([4., 4., 4.], dtype=float32)"
            ]
          },
          "metadata": {},
          "execution_count": 5
        }
      ],
      "source": [
        "sum = tf.add(x,y)\n",
        "sum.numpy()"
      ]
    },
    {
      "cell_type": "markdown",
      "metadata": {
        "id": "3VYhXX5UEg1b"
      },
      "source": [
        "#### Subtraction"
      ]
    },
    {
      "cell_type": "code",
      "execution_count": 6,
      "metadata": {
        "colab": {
          "base_uri": "https://localhost:8080/"
        },
        "id": "D0ScV8TyEg1b",
        "outputId": "50c1541c-5e19-40f3-a56f-bc27ab2ad026"
      },
      "outputs": [
        {
          "output_type": "execute_result",
          "data": {
            "text/plain": [
              "array([-2.,  0.,  2.], dtype=float32)"
            ]
          },
          "metadata": {},
          "execution_count": 6
        }
      ],
      "source": [
        "difference = tf.subtract(x,y)\n",
        "difference.numpy()"
      ]
    },
    {
      "cell_type": "markdown",
      "metadata": {
        "id": "F8BC2aUTEg1c"
      },
      "source": [
        "#### Multiplication"
      ]
    },
    {
      "cell_type": "code",
      "execution_count": 7,
      "metadata": {
        "colab": {
          "base_uri": "https://localhost:8080/"
        },
        "id": "Auh7EzgUEg1c",
        "outputId": "b579dd6e-98a7-40f6-d812-91f206c3d566"
      },
      "outputs": [
        {
          "output_type": "execute_result",
          "data": {
            "text/plain": [
              "array([3., 4., 3.], dtype=float32)"
            ]
          },
          "metadata": {},
          "execution_count": 7
        }
      ],
      "source": [
        "product = tf.multiply(x,y)\n",
        "product.numpy()"
      ]
    },
    {
      "cell_type": "markdown",
      "metadata": {
        "id": "Ez7Unr-JEg1c"
      },
      "source": [
        "#### Division"
      ]
    },
    {
      "cell_type": "code",
      "execution_count": 8,
      "metadata": {
        "colab": {
          "base_uri": "https://localhost:8080/"
        },
        "id": "RjaVVLSqEg1d",
        "outputId": "511f5fa5-1cb0-4de5-dee9-9a5944f34219"
      },
      "outputs": [
        {
          "output_type": "execute_result",
          "data": {
            "text/plain": [
              "array([0.33333334, 1.        , 3.        ], dtype=float32)"
            ]
          },
          "metadata": {},
          "execution_count": 8
        }
      ],
      "source": [
        "division = tf.divide(x,y)\n",
        "division.numpy()"
      ]
    },
    {
      "cell_type": "markdown",
      "metadata": {
        "id": "TBCy30nzEg1d"
      },
      "source": [
        "#### Square"
      ]
    },
    {
      "cell_type": "code",
      "execution_count": 9,
      "metadata": {
        "colab": {
          "base_uri": "https://localhost:8080/"
        },
        "id": "8FNFEuEjEg1e",
        "outputId": "d32b196d-2454-4873-9201-524cb4ed1e43"
      },
      "outputs": [
        {
          "output_type": "execute_result",
          "data": {
            "text/plain": [
              "array([1., 4., 9.], dtype=float32)"
            ]
          },
          "metadata": {},
          "execution_count": 9
        }
      ],
      "source": [
        "square = tf.square(x)\n",
        "square.numpy()"
      ]
    },
    {
      "cell_type": "markdown",
      "metadata": {
        "id": "96KB7e-OEg1e"
      },
      "source": [
        "#### Dot Product"
      ]
    },
    {
      "cell_type": "code",
      "execution_count": 10,
      "metadata": {
        "colab": {
          "base_uri": "https://localhost:8080/"
        },
        "id": "-FY5XU4uEg1f",
        "outputId": "83b0e92c-84d2-4b3e-fa1d-e264ca8272fc"
      },
      "outputs": [
        {
          "output_type": "execute_result",
          "data": {
            "text/plain": [
              "10.0"
            ]
          },
          "metadata": {},
          "execution_count": 10
        }
      ],
      "source": [
        "dot_product = tf.reduce_sum(tf.multiply(x, y))\n",
        "\n",
        "dot_product.numpy()"
      ]
    },
    {
      "cell_type": "markdown",
      "metadata": {
        "id": "XAikPbdOEg1f"
      },
      "source": [
        "## Finding the index of min and max element"
      ]
    },
    {
      "cell_type": "code",
      "execution_count": 11,
      "metadata": {
        "id": "46ALZDQsEg1g"
      },
      "outputs": [],
      "source": [
        "x = tf.constant([10, 0, 13, 9])"
      ]
    },
    {
      "cell_type": "markdown",
      "metadata": {
        "id": "9Dq6sKg4Eg1i"
      },
      "source": [
        "Index of minimum value:"
      ]
    },
    {
      "cell_type": "code",
      "execution_count": 12,
      "metadata": {
        "colab": {
          "base_uri": "https://localhost:8080/"
        },
        "id": "sEob-rN2Eg1i",
        "outputId": "0b76b76e-a91c-4d44-fdf8-7581d48be9ba"
      },
      "outputs": [
        {
          "output_type": "execute_result",
          "data": {
            "text/plain": [
              "1"
            ]
          },
          "metadata": {},
          "execution_count": 12
        }
      ],
      "source": [
        "tf.argmin(x).numpy()"
      ]
    },
    {
      "cell_type": "markdown",
      "metadata": {
        "id": "W2V6Y3jCEg1i"
      },
      "source": [
        "Index of maximum value:"
      ]
    },
    {
      "cell_type": "code",
      "execution_count": 13,
      "metadata": {
        "colab": {
          "base_uri": "https://localhost:8080/"
        },
        "id": "s_bpv7tsEg1j",
        "outputId": "e4e93875-9e31-487b-a14f-f4b3c2e66f7a"
      },
      "outputs": [
        {
          "output_type": "execute_result",
          "data": {
            "text/plain": [
              "2"
            ]
          },
          "metadata": {},
          "execution_count": 13
        }
      ],
      "source": [
        "tf.argmax(x).numpy()"
      ]
    },
    {
      "cell_type": "markdown",
      "metadata": {
        "id": "j3VlingBEg1j"
      },
      "source": [
        "### Squared Difference "
      ]
    },
    {
      "cell_type": "code",
      "execution_count": 14,
      "metadata": {
        "colab": {
          "base_uri": "https://localhost:8080/"
        },
        "id": "Jx_yJ9FWEg1j",
        "outputId": "d2c0c082-9b29-47ec-b01a-098c7df8a1f1"
      },
      "outputs": [
        {
          "output_type": "execute_result",
          "data": {
            "text/plain": [
              "array([  0,   4,  16,  36, 100], dtype=int32)"
            ]
          },
          "metadata": {},
          "execution_count": 14
        }
      ],
      "source": [
        "x = tf.Variable([1,3,5,7,11])\n",
        "y = tf.Variable([1])\n",
        "\n",
        "tf.math.squared_difference(x,y).numpy()"
      ]
    },
    {
      "cell_type": "markdown",
      "metadata": {
        "id": "ufZKUFKHEg1j"
      },
      "source": [
        "### Power\n",
        "\n",
        "x^x"
      ]
    },
    {
      "cell_type": "code",
      "execution_count": 15,
      "metadata": {
        "colab": {
          "base_uri": "https://localhost:8080/"
        },
        "id": "KsVjpW6wEg1k",
        "outputId": "7cc9fbe1-acd1-4a50-e29c-1485c10e256d"
      },
      "outputs": [
        {
          "output_type": "execute_result",
          "data": {
            "text/plain": [
              "array([  1,   4,  27, 256], dtype=int32)"
            ]
          },
          "metadata": {},
          "execution_count": 15
        }
      ],
      "source": [
        "x = tf.Variable([1,2,3,4])\n",
        "tf.pow(x, x).numpy()"
      ]
    },
    {
      "cell_type": "markdown",
      "metadata": {
        "id": "DhyTKkdtEg1k"
      },
      "source": [
        "## Rank of the matrix"
      ]
    },
    {
      "cell_type": "code",
      "execution_count": 16,
      "metadata": {
        "colab": {
          "base_uri": "https://localhost:8080/"
        },
        "id": "cLpZe78HEg1k",
        "outputId": "13dceeb6-ff2a-4066-d5ab-be32b060edc8"
      },
      "outputs": [
        {
          "output_type": "execute_result",
          "data": {
            "text/plain": [
              "TensorShape([2, 2, 3])"
            ]
          },
          "metadata": {},
          "execution_count": 16
        }
      ],
      "source": [
        "x = tf.constant([[[1,2,4],[3,4,5]],\n",
        "             [[1,2,4],[3,4,5]]])\n",
        "\n",
        "x.shape"
      ]
    },
    {
      "cell_type": "code",
      "execution_count": 17,
      "metadata": {
        "colab": {
          "base_uri": "https://localhost:8080/"
        },
        "id": "fab2AkP4Eg1k",
        "outputId": "765f1259-e26a-412a-ddfe-da772ecfd6e0"
      },
      "outputs": [
        {
          "output_type": "execute_result",
          "data": {
            "text/plain": [
              "array([[[1, 2, 4],\n",
              "        [3, 4, 5]],\n",
              "\n",
              "       [[1, 2, 4],\n",
              "        [3, 4, 5]]], dtype=int32)"
            ]
          },
          "metadata": {},
          "execution_count": 17
        }
      ],
      "source": [
        "x.numpy()"
      ]
    },
    {
      "cell_type": "markdown",
      "metadata": {
        "id": "JUYBLA2iEg1k"
      },
      "source": [
        "## Reshape the matrix"
      ]
    },
    {
      "cell_type": "code",
      "execution_count": 18,
      "metadata": {
        "id": "hxGlzJ_CEg1l"
      },
      "outputs": [],
      "source": [
        "x = tf.constant([[1,2,3,4], [5,6,7,8]])"
      ]
    },
    {
      "cell_type": "code",
      "execution_count": 19,
      "metadata": {
        "colab": {
          "base_uri": "https://localhost:8080/"
        },
        "id": "oDtKXwQgEg1l",
        "outputId": "fdb771ff-87bd-4df7-e9cb-28f64dbcf781"
      },
      "outputs": [
        {
          "output_type": "execute_result",
          "data": {
            "text/plain": [
              "array([[1],\n",
              "       [2],\n",
              "       [3],\n",
              "       [4],\n",
              "       [5],\n",
              "       [6],\n",
              "       [7],\n",
              "       [8]], dtype=int32)"
            ]
          },
          "metadata": {},
          "execution_count": 19
        }
      ],
      "source": [
        "tf.reshape(x,[8,1]).numpy()"
      ]
    },
    {
      "cell_type": "markdown",
      "metadata": {
        "id": "ziwgq4LxEg1l"
      },
      "source": [
        "## Transpose the matrix"
      ]
    },
    {
      "cell_type": "code",
      "execution_count": 20,
      "metadata": {
        "colab": {
          "base_uri": "https://localhost:8080/"
        },
        "id": "F2MXNpDxEg1l",
        "outputId": "b5ffb72a-dc97-40f3-b640-6bd5def15f26"
      },
      "outputs": [
        {
          "output_type": "execute_result",
          "data": {
            "text/plain": [
              "<tf.Tensor: shape=(4, 2), dtype=int32, numpy=\n",
              "array([[1, 5],\n",
              "       [2, 6],\n",
              "       [3, 7],\n",
              "       [4, 8]], dtype=int32)>"
            ]
          },
          "metadata": {},
          "execution_count": 20
        }
      ],
      "source": [
        "tf.transpose(x)"
      ]
    },
    {
      "cell_type": "markdown",
      "metadata": {
        "id": "pSdoFmtxEg1m"
      },
      "source": [
        "## Typecasting "
      ]
    },
    {
      "cell_type": "code",
      "execution_count": 21,
      "metadata": {
        "colab": {
          "base_uri": "https://localhost:8080/"
        },
        "id": "r_8TOOkvEg1m",
        "outputId": "ccff2d18-2790-4c02-c4f4-08d0e12dc5bd"
      },
      "outputs": [
        {
          "output_type": "execute_result",
          "data": {
            "text/plain": [
              "tf.int32"
            ]
          },
          "metadata": {},
          "execution_count": 21
        }
      ],
      "source": [
        "x.dtype"
      ]
    },
    {
      "cell_type": "code",
      "execution_count": 22,
      "metadata": {
        "colab": {
          "base_uri": "https://localhost:8080/"
        },
        "id": "qK80AjrQEg1o",
        "outputId": "938cfc40-ea64-4eba-8950-67c2b3609561"
      },
      "outputs": [
        {
          "output_type": "execute_result",
          "data": {
            "text/plain": [
              "tf.float32"
            ]
          },
          "metadata": {},
          "execution_count": 22
        }
      ],
      "source": [
        "x = tf.cast(x, dtype=tf.float32)\n",
        "\n",
        "x.dtype"
      ]
    },
    {
      "cell_type": "markdown",
      "metadata": {
        "id": "XdjR9Gb8Eg1o"
      },
      "source": [
        "## Concatenating two matrices"
      ]
    },
    {
      "cell_type": "code",
      "execution_count": 23,
      "metadata": {
        "id": "LtHnDOOWEg1o"
      },
      "outputs": [],
      "source": [
        "x = [[3,6,9], [7,7,7]]\n",
        "y = [[4,5,6], [5,5,5]]"
      ]
    },
    {
      "cell_type": "markdown",
      "metadata": {
        "id": "kVH1r__QEg1o"
      },
      "source": [
        "Concatenate row-wise:"
      ]
    },
    {
      "cell_type": "code",
      "execution_count": 26,
      "metadata": {
        "colab": {
          "base_uri": "https://localhost:8080/"
        },
        "id": "mMkaGpZ7Eg1p",
        "outputId": "fd5c6cef-bacd-48f0-f4ff-7b1e917462af"
      },
      "outputs": [
        {
          "output_type": "execute_result",
          "data": {
            "text/plain": [
              "array([[3, 6, 9],\n",
              "       [7, 7, 7],\n",
              "       [4, 5, 6],\n",
              "       [5, 5, 5]], dtype=int32)"
            ]
          },
          "metadata": {},
          "execution_count": 26
        }
      ],
      "source": [
        "tf.concat([x, y], 0).numpy()"
      ]
    },
    {
      "cell_type": "markdown",
      "metadata": {
        "id": "6gpMTHpVEg1p"
      },
      "source": [
        "Concatenate column-wise:"
      ]
    },
    {
      "cell_type": "code",
      "execution_count": null,
      "metadata": {
        "scrolled": true,
        "id": "cOHELGmSEg1p",
        "outputId": "a0b44f40-d303-4b50-b9ae-a1b886584c08"
      },
      "outputs": [
        {
          "data": {
            "text/plain": [
              "array([[3, 6, 9, 4, 5, 6],\n",
              "       [7, 7, 7, 5, 5, 5]], dtype=int32)"
            ]
          },
          "execution_count": 24,
          "metadata": {},
          "output_type": "execute_result"
        }
      ],
      "source": [
        "tf.concat([x, y], 1).numpy()"
      ]
    },
    {
      "cell_type": "markdown",
      "metadata": {
        "id": "YOHIFTVAEg1p"
      },
      "source": [
        "Stack x matrix:"
      ]
    },
    {
      "cell_type": "code",
      "execution_count": 27,
      "metadata": {
        "colab": {
          "base_uri": "https://localhost:8080/"
        },
        "id": "jFYzWFxIEg1p",
        "outputId": "f94feeea-0b35-4cdb-e560-12aba123005c"
      },
      "outputs": [
        {
          "output_type": "execute_result",
          "data": {
            "text/plain": [
              "array([[3, 7],\n",
              "       [6, 7],\n",
              "       [9, 7]], dtype=int32)"
            ]
          },
          "metadata": {},
          "execution_count": 27
        }
      ],
      "source": [
        "tf.stack(x, axis=1).numpy()"
      ]
    },
    {
      "cell_type": "markdown",
      "metadata": {
        "id": "JJ-upMZPEg1q"
      },
      "source": [
        "## Reduce Mean"
      ]
    },
    {
      "cell_type": "code",
      "execution_count": 28,
      "metadata": {
        "id": "1fI0aBGDEg1q"
      },
      "outputs": [],
      "source": [
        "x = tf.Variable([[1.0, 5.0], [2.0, 3.0]])"
      ]
    },
    {
      "cell_type": "code",
      "execution_count": 29,
      "metadata": {
        "colab": {
          "base_uri": "https://localhost:8080/"
        },
        "id": "aEmjfvM_Eg1q",
        "outputId": "9e5b5d5a-a7a3-45bb-ed30-caa2679cb417"
      },
      "outputs": [
        {
          "output_type": "execute_result",
          "data": {
            "text/plain": [
              "array([[1., 5.],\n",
              "       [2., 3.]], dtype=float32)"
            ]
          },
          "metadata": {},
          "execution_count": 29
        }
      ],
      "source": [
        "x.numpy()"
      ]
    },
    {
      "cell_type": "markdown",
      "metadata": {
        "id": "INtizHT7Eg1q"
      },
      "source": [
        "Compute average values i.e (1.0 + 5.0 + 2.0 + 3.0) / 4"
      ]
    },
    {
      "cell_type": "code",
      "execution_count": 30,
      "metadata": {
        "colab": {
          "base_uri": "https://localhost:8080/"
        },
        "id": "8UZgkVZwEg1q",
        "outputId": "876d88ce-2ed4-4615-c6d9-90feb4ee32e2"
      },
      "outputs": [
        {
          "output_type": "execute_result",
          "data": {
            "text/plain": [
              "2.75"
            ]
          },
          "metadata": {},
          "execution_count": 30
        }
      ],
      "source": [
        "tf.reduce_mean(input_tensor=x).numpy() "
      ]
    },
    {
      "cell_type": "markdown",
      "metadata": {
        "id": "OfyF34TTEg1q"
      },
      "source": [
        "Average across the row i.e, [ (1.0+5.0)/2, (2.0+3.0)/2]"
      ]
    },
    {
      "cell_type": "code",
      "execution_count": 31,
      "metadata": {
        "colab": {
          "base_uri": "https://localhost:8080/"
        },
        "id": "SbjQM3OtEg1r",
        "outputId": "0d397338-1812-4c20-998c-36b58fb35b6a"
      },
      "outputs": [
        {
          "output_type": "execute_result",
          "data": {
            "text/plain": [
              "array([1.5, 4. ], dtype=float32)"
            ]
          },
          "metadata": {},
          "execution_count": 31
        }
      ],
      "source": [
        "tf.reduce_mean(input_tensor=x, axis=0).numpy() "
      ]
    },
    {
      "cell_type": "markdown",
      "metadata": {
        "id": "L_2cYLBwEg1r"
      },
      "source": [
        "Average across the column i.e [(1.0+5.0)/2.0, (2.0+3.0)/2.0]"
      ]
    },
    {
      "cell_type": "code",
      "execution_count": 32,
      "metadata": {
        "colab": {
          "base_uri": "https://localhost:8080/"
        },
        "id": "oCfDTIa7Eg1r",
        "outputId": "c86f4cd0-739a-4cda-b0de-3edf45a0d96f"
      },
      "outputs": [
        {
          "output_type": "execute_result",
          "data": {
            "text/plain": [
              "array([[3. ],\n",
              "       [2.5]], dtype=float32)"
            ]
          },
          "metadata": {},
          "execution_count": 32
        }
      ],
      "source": [
        "tf.reduce_mean(input_tensor=x, axis=1, keepdims=True).numpy()"
      ]
    },
    {
      "cell_type": "markdown",
      "metadata": {
        "id": "hZkY-P_GEg1r"
      },
      "source": [
        "## Reduce Sum"
      ]
    },
    {
      "cell_type": "code",
      "execution_count": 33,
      "metadata": {
        "colab": {
          "base_uri": "https://localhost:8080/"
        },
        "id": "_YZCDmb8Eg1r",
        "outputId": "94e2d0c2-43b3-40ad-f676-716d0026ce41"
      },
      "outputs": [
        {
          "output_type": "execute_result",
          "data": {
            "text/plain": [
              "array([[1., 5.],\n",
              "       [2., 3.]], dtype=float32)"
            ]
          },
          "metadata": {},
          "execution_count": 33
        }
      ],
      "source": [
        "x.numpy()"
      ]
    },
    {
      "cell_type": "markdown",
      "metadata": {
        "id": "aJA1j5j5Eg1s"
      },
      "source": [
        "Sum values across the rows i.e  [(1.0+2.0),(5.0 + 3.0)]"
      ]
    },
    {
      "cell_type": "code",
      "execution_count": 34,
      "metadata": {
        "colab": {
          "base_uri": "https://localhost:8080/"
        },
        "id": "mcKxI0N_Eg1s",
        "outputId": "7a5621e8-993e-41b5-acb4-ca768e5fbbf0"
      },
      "outputs": [
        {
          "output_type": "execute_result",
          "data": {
            "text/plain": [
              "array([3., 8.], dtype=float32)"
            ]
          },
          "metadata": {},
          "execution_count": 34
        }
      ],
      "source": [
        "tf.reduce_sum(x, 0).numpy()"
      ]
    },
    {
      "cell_type": "markdown",
      "metadata": {
        "id": "itxvq_N1Eg1s"
      },
      "source": [
        "Sum values across the columns i.e  [(1.0+5.0),(2.0 + 3.0)]"
      ]
    },
    {
      "cell_type": "code",
      "execution_count": 35,
      "metadata": {
        "colab": {
          "base_uri": "https://localhost:8080/"
        },
        "id": "aq5ZBuSlEg1s",
        "outputId": "b3512f6e-930e-4447-b98f-4880846f18d6"
      },
      "outputs": [
        {
          "output_type": "execute_result",
          "data": {
            "text/plain": [
              "array([6., 5.], dtype=float32)"
            ]
          },
          "metadata": {},
          "execution_count": 35
        }
      ],
      "source": [
        "tf.reduce_sum(x, 1).numpy()"
      ]
    },
    {
      "cell_type": "markdown",
      "metadata": {
        "id": "26wb01gUEg1s"
      },
      "source": [
        "Sum all the values i.e 1.0 + 5.0 + 2.0 + 3.0"
      ]
    },
    {
      "cell_type": "code",
      "execution_count": 36,
      "metadata": {
        "colab": {
          "base_uri": "https://localhost:8080/"
        },
        "id": "ZPjIVdLJEg1t",
        "outputId": "f2f53171-3d13-4074-a34c-99fab1366b00"
      },
      "outputs": [
        {
          "output_type": "execute_result",
          "data": {
            "text/plain": [
              "11.0"
            ]
          },
          "metadata": {},
          "execution_count": 36
        }
      ],
      "source": [
        "tf.reduce_sum(x, [0, 1]).numpy()"
      ]
    },
    {
      "cell_type": "markdown",
      "metadata": {
        "collapsed": true,
        "id": "8oluwx5TEg1t"
      },
      "source": [
        "## Drawing Random values"
      ]
    },
    {
      "cell_type": "markdown",
      "metadata": {
        "id": "b8ObbvkpEg1t"
      },
      "source": [
        "Drawing values from the normal distribution:"
      ]
    },
    {
      "cell_type": "code",
      "execution_count": 37,
      "metadata": {
        "colab": {
          "base_uri": "https://localhost:8080/"
        },
        "id": "nYZdkxA9Eg1t",
        "outputId": "c3768f83-1e9a-4f95-e4e3-737508066c02"
      },
      "outputs": [
        {
          "output_type": "execute_result",
          "data": {
            "text/plain": [
              "array([[ 9.031692 ,  9.877423 ],\n",
              "       [ 7.9775333,  8.773994 ],\n",
              "       [10.036283 , 11.441924 ]], dtype=float32)"
            ]
          },
          "metadata": {},
          "execution_count": 37
        }
      ],
      "source": [
        "tf.random.normal(shape=(3,2), mean=10.0, stddev=2.0).numpy()"
      ]
    },
    {
      "cell_type": "markdown",
      "metadata": {
        "id": "n9j9Iu34Eg1t"
      },
      "source": [
        "Drawing values from the uniform distribution:"
      ]
    },
    {
      "cell_type": "code",
      "execution_count": 38,
      "metadata": {
        "colab": {
          "base_uri": "https://localhost:8080/"
        },
        "id": "CcNe62J5Eg1t",
        "outputId": "8a4a5794-60f8-4d0d-f80d-d12f84147e56"
      },
      "outputs": [
        {
          "output_type": "execute_result",
          "data": {
            "text/plain": [
              "array([[0.17318153, 0.9383228 ],\n",
              "       [0.07607043, 0.26551652],\n",
              "       [0.1242342 , 0.59000325]], dtype=float32)"
            ]
          },
          "metadata": {},
          "execution_count": 38
        }
      ],
      "source": [
        "tf.random.uniform(shape = (3,2),  minval=0, maxval=None, dtype=tf.float32,).numpy()"
      ]
    },
    {
      "cell_type": "markdown",
      "metadata": {
        "id": "-Mhbu1YXEg1u"
      },
      "source": [
        "## Create 0's and 1's"
      ]
    },
    {
      "cell_type": "code",
      "execution_count": 39,
      "metadata": {
        "colab": {
          "base_uri": "https://localhost:8080/"
        },
        "id": "CO8o6ZmPEg1u",
        "outputId": "97fbe1a3-db13-4bd1-b8f7-a7991e7357a9"
      },
      "outputs": [
        {
          "output_type": "execute_result",
          "data": {
            "text/plain": [
              "array([[0., 0., 0., 0., 0.],\n",
              "       [0., 0., 0., 0., 0.],\n",
              "       [0., 0., 0., 0., 0.],\n",
              "       [0., 0., 0., 0., 0.],\n",
              "       [0., 0., 0., 0., 0.]], dtype=float32)"
            ]
          },
          "metadata": {},
          "execution_count": 39
        }
      ],
      "source": [
        "tf.zeros([5,5]).numpy()"
      ]
    },
    {
      "cell_type": "code",
      "execution_count": 40,
      "metadata": {
        "colab": {
          "base_uri": "https://localhost:8080/"
        },
        "id": "Uyw6ZcRjEg1u",
        "outputId": "4f2a6f88-cfe2-405c-d8b8-a46190a3684c"
      },
      "outputs": [
        {
          "output_type": "execute_result",
          "data": {
            "text/plain": [
              "array([[0., 0.],\n",
              "       [0., 0.]], dtype=float32)"
            ]
          },
          "metadata": {},
          "execution_count": 40
        }
      ],
      "source": [
        "tf.zeros_like(x).numpy()"
      ]
    },
    {
      "cell_type": "code",
      "execution_count": 41,
      "metadata": {
        "colab": {
          "base_uri": "https://localhost:8080/"
        },
        "id": "RzitSZa_Eg1v",
        "outputId": "975a8cfe-6689-42dc-d9a2-2c67c9c089ca"
      },
      "outputs": [
        {
          "output_type": "execute_result",
          "data": {
            "text/plain": [
              "array([[1., 1., 1., 1., 1.],\n",
              "       [1., 1., 1., 1., 1.],\n",
              "       [1., 1., 1., 1., 1.],\n",
              "       [1., 1., 1., 1., 1.],\n",
              "       [1., 1., 1., 1., 1.]], dtype=float32)"
            ]
          },
          "metadata": {},
          "execution_count": 41
        }
      ],
      "source": [
        "tf.ones([5,5]).numpy()"
      ]
    },
    {
      "cell_type": "code",
      "execution_count": 42,
      "metadata": {
        "colab": {
          "base_uri": "https://localhost:8080/"
        },
        "id": "ShRlJs_gEg1v",
        "outputId": "0e91a60d-819e-4ff9-8980-b88c4d746c31"
      },
      "outputs": [
        {
          "output_type": "execute_result",
          "data": {
            "text/plain": [
              "array([[1., 1.],\n",
              "       [1., 1.]], dtype=float32)"
            ]
          },
          "metadata": {},
          "execution_count": 42
        }
      ],
      "source": [
        "tf.ones_like(x).numpy()"
      ]
    },
    {
      "cell_type": "markdown",
      "metadata": {
        "collapsed": true,
        "id": "AA_rtQGhEg1w"
      },
      "source": [
        "## Compute Softmax Probabilities"
      ]
    },
    {
      "cell_type": "code",
      "execution_count": 43,
      "metadata": {
        "colab": {
          "base_uri": "https://localhost:8080/"
        },
        "id": "1NzXgPgkEg1w",
        "outputId": "7aeebb2e-9002-4bbf-b991-fb9f3a3b4c1f"
      },
      "outputs": [
        {
          "output_type": "execute_result",
          "data": {
            "text/plain": [
              "array([0.8756006 , 0.00589975, 0.11849965], dtype=float32)"
            ]
          },
          "metadata": {},
          "execution_count": 43
        }
      ],
      "source": [
        "x = tf.constant([7., 2., 5.])\n",
        "\n",
        "tf.nn.softmax(x).numpy()"
      ]
    },
    {
      "cell_type": "markdown",
      "metadata": {
        "id": "pSNh8bRgEg1w"
      },
      "source": [
        "## Create Indentity matrix"
      ]
    },
    {
      "cell_type": "code",
      "execution_count": 45,
      "metadata": {
        "colab": {
          "base_uri": "https://localhost:8080/"
        },
        "id": "RPgS_PyPEg1x",
        "outputId": "5cdd742b-6de7-4657-b2c3-19b8a9ecb278"
      },
      "outputs": [
        {
          "output_type": "stream",
          "name": "stdout",
          "text": [
            "[[1. 0. 0. 0. 0. 0. 0.]\n",
            " [0. 1. 0. 0. 0. 0. 0.]\n",
            " [0. 0. 1. 0. 0. 0. 0.]\n",
            " [0. 0. 0. 1. 0. 0. 0.]\n",
            " [0. 0. 0. 0. 1. 0. 0.]\n",
            " [0. 0. 0. 0. 0. 1. 0.]\n",
            " [0. 0. 0. 0. 0. 0. 1.]]\n"
          ]
        }
      ],
      "source": [
        "i_matrix = tf.eye(7)\n",
        "print(i_matrix.numpy())"
      ]
    },
    {
      "cell_type": "markdown",
      "metadata": {
        "collapsed": true,
        "id": "IVR3XOWyEg1x"
      },
      "source": [
        "## L2 Normalization"
      ]
    },
    {
      "cell_type": "code",
      "execution_count": 46,
      "metadata": {
        "colab": {
          "base_uri": "https://localhost:8080/"
        },
        "id": "N73u5uRNEg1x",
        "outputId": "8e5c104e-3574-4433-8444-b55df2950681"
      },
      "outputs": [
        {
          "output_type": "execute_result",
          "data": {
            "text/plain": [
              "array([0.79259396, 0.22645542, 0.56613857], dtype=float32)"
            ]
          },
          "metadata": {},
          "execution_count": 46
        }
      ],
      "source": [
        "tf.math.l2_normalize(x,axis=None, epsilon=1e-12,).numpy()"
      ]
    },
    {
      "cell_type": "markdown",
      "metadata": {
        "id": "vLhkjQ66Eg1x"
      },
      "source": [
        "## Gradient Computation"
      ]
    },
    {
      "cell_type": "code",
      "execution_count": 47,
      "metadata": {
        "colab": {
          "base_uri": "https://localhost:8080/"
        },
        "id": "jCuwcq1XEg1x",
        "outputId": "99ef4c5c-3ba4-4f47-a85b-89ba3c4e1be0"
      },
      "outputs": [
        {
          "output_type": "stream",
          "name": "stdout",
          "text": [
            "36.0\n"
          ]
        }
      ],
      "source": [
        "def square(x):\n",
        "  return tf.multiply(x, x)\n",
        "\n",
        "with tf.GradientTape(persistent=True) as tape:\n",
        "     print(square(6.).numpy())\n"
      ]
    },
    {
      "cell_type": "markdown",
      "metadata": {
        "id": "t1GEDmhiEg1y"
      },
      "source": [
        "TensorFlow is a lot more than this. We will learn and explore various important functionalities of TensorFlow as we move forward through the book. In the next section, we will learn about a new version of TensorFlow called TensorFlow 2.0."
      ]
    }
  ],
  "metadata": {
    "kernelspec": {
      "display_name": "Python 3",
      "name": "python3"
    },
    "language_info": {
      "name": "python"
    },
    "colab": {
      "name": "Ch44 Math operations in TensorFlow.ipynb",
      "provenance": []
    }
  },
  "nbformat": 4,
  "nbformat_minor": 0
}