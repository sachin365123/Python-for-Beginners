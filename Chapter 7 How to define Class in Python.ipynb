{
 "cells": [
  {
   "cell_type": "code",
   "execution_count": 1,
   "id": "8d0db8b6",
   "metadata": {},
   "outputs": [],
   "source": [
    "#how to define Class in Python\n",
    "class AimClass:\n",
    "    x=5"
   ]
  },
  {
   "cell_type": "code",
   "execution_count": 3,
   "id": "038f7748",
   "metadata": {},
   "outputs": [
    {
     "name": "stdout",
     "output_type": "stream",
     "text": [
      "5\n"
     ]
    }
   ],
   "source": [
    "o1=AimClass()\n",
    "print(o1.x)"
   ]
  },
  {
   "cell_type": "code",
   "execution_count": 4,
   "id": "e7a22fa1",
   "metadata": {},
   "outputs": [],
   "source": [
    "#built-in __init__() function to assign values to object properties when the object is being created\n",
    "#self can have any name, but must positioned at first place\n"
   ]
  },
  {
   "cell_type": "code",
   "execution_count": 5,
   "id": "59323ca0",
   "metadata": {},
   "outputs": [
    {
     "name": "stdout",
     "output_type": "stream",
     "text": [
      "Jay\n",
      "32\n"
     ]
    }
   ],
   "source": [
    "class Aim:\n",
    "    def __init__(self,name,age):\n",
    "        self.name=name\n",
    "        self.age=age\n",
    "        \n",
    "o1=Aim(\"Jay\",32)\n",
    "print(o1.name)\n",
    "print(o1.age)"
   ]
  },
  {
   "cell_type": "code",
   "execution_count": 6,
   "id": "093dc41e",
   "metadata": {
    "scrolled": true
   },
   "outputs": [
    {
     "name": "stdout",
     "output_type": "stream",
     "text": [
      "Jay\n",
      "32\n",
      "Greeitngs of the day....\n"
     ]
    }
   ],
   "source": [
    "class Aim:\n",
    "    def __init__(self,name,age):\n",
    "        self.name=name\n",
    "        self.age=age\n",
    "        \n",
    "    def aimfunction(self):\n",
    "        print(\"Greeitngs of the day....\")\n",
    "        \n",
    "o1=Aim(\"Jay\",32)\n",
    "print(o1.name)\n",
    "print(o1.age)\n",
    "o1.aimfunction()"
   ]
  },
  {
   "cell_type": "code",
   "execution_count": null,
   "id": "e10baaff",
   "metadata": {},
   "outputs": [],
   "source": []
  },
  {
   "cell_type": "code",
   "execution_count": null,
   "id": "e906482f",
   "metadata": {},
   "outputs": [],
   "source": []
  }
 ],
 "metadata": {
  "kernelspec": {
   "display_name": "Python 3",
   "language": "python",
   "name": "python3"
  },
  "language_info": {
   "codemirror_mode": {
    "name": "ipython",
    "version": 3
   },
   "file_extension": ".py",
   "mimetype": "text/x-python",
   "name": "python",
   "nbconvert_exporter": "python",
   "pygments_lexer": "ipython3",
   "version": "3.8.8"
  }
 },
 "nbformat": 4,
 "nbformat_minor": 5
}
