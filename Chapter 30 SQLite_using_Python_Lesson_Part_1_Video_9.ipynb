{
  "nbformat": 4,
  "nbformat_minor": 0,
  "metadata": {
    "colab": {
      "name": "SQLite_using_Python_Lesson_Part_1_Video_9.ipynb",
      "provenance": []
    },
    "kernelspec": {
      "name": "python3",
      "display_name": "Python 3"
    },
    "language_info": {
      "name": "python"
    }
  },
  "cells": [
    {
      "cell_type": "code",
      "metadata": {
        "id": "9ZXNw0xg3t6m"
      },
      "source": [
        "import sqlite3 as s\n",
        "import pandas as pd\n",
        "\n"
      ],
      "execution_count": null,
      "outputs": []
    },
    {
      "cell_type": "code",
      "metadata": {
        "id": "QoIH9Y-JGFPX",
        "colab": {
          "resources": {
            "http://localhost:8080/nbextensions/google.colab/files.js": {
              "data": "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",
              "ok": true,
              "headers": [
                [
                  "content-type",
                  "application/javascript"
                ]
              ],
              "status": 200,
              "status_text": ""
            }
          },
          "base_uri": "https://localhost:8080/",
          "height": 73
        },
        "outputId": "7c8a2902-a947-4766-e68a-6f30c5e19613"
      },
      "source": [
        "from google.colab import files\n",
        "file = files.upload()"
      ],
      "execution_count": null,
      "outputs": [
        {
          "output_type": "display_data",
          "data": {
            "text/html": [
              "\n",
              "     <input type=\"file\" id=\"files-b6023a1a-6346-41a0-8d27-902b63b7261c\" name=\"files[]\" multiple disabled\n",
              "        style=\"border:none\" />\n",
              "     <output id=\"result-b6023a1a-6346-41a0-8d27-902b63b7261c\">\n",
              "      Upload widget is only available when the cell has been executed in the\n",
              "      current browser session. Please rerun this cell to enable.\n",
              "      </output>\n",
              "      <script src=\"/nbextensions/google.colab/files.js\"></script> "
            ],
            "text/plain": [
              "<IPython.core.display.HTML object>"
            ]
          },
          "metadata": {}
        },
        {
          "output_type": "stream",
          "name": "stdout",
          "text": [
            "Saving database.sqlite to database.sqlite\n"
          ]
        }
      ]
    },
    {
      "cell_type": "code",
      "metadata": {
        "colab": {
          "base_uri": "https://localhost:8080/"
        },
        "id": "zlPO9vg85PgD",
        "outputId": "a474db87-e8a6-41e6-e9c1-5b600dccf165"
      },
      "source": [
        "conn = s.connect('database.sqlite')\n",
        "\n",
        "\n",
        "print(\"table created successfully\");"
      ],
      "execution_count": null,
      "outputs": [
        {
          "output_type": "stream",
          "name": "stdout",
          "text": [
            "table created successfully\n"
          ]
        }
      ]
    },
    {
      "cell_type": "code",
      "metadata": {
        "colab": {
          "base_uri": "https://localhost:8080/"
        },
        "id": "JwYml_Hk5hjw",
        "outputId": "e3b25605-a597-4653-dbcf-be6e7fbde613"
      },
      "source": [
        "table1 = pd.read_sql('''SELECT * FROM sqlite_master;''', conn)\n",
        "print(table1)"
      ],
      "execution_count": null,
      "outputs": [
        {
          "output_type": "stream",
          "name": "stdout",
          "text": [
            "     type  ...                                                sql\n",
            "0   table  ...  CREATE TABLE [Player] (\\n\\t[Player_Id]\\tintege...\n",
            "1   table  ...  CREATE TABLE [Extra_Runs] (\\n\\t[Match_Id]\\tint...\n",
            "2   index  ...                                               None\n",
            "3   table  ...  CREATE TABLE [Batsman_Scored] (\\n\\t[Match_Id]\\...\n",
            "4   index  ...                                               None\n",
            "5   table  ...  CREATE TABLE [Batting_Style] (\\n\\t[Batting_Id]...\n",
            "6   table  ...  CREATE TABLE [Bowling_Style] (\\n\\t[Bowling_Id]...\n",
            "7   table  ...  CREATE TABLE [Country] (\\n\\t[Country_Id]\\tinte...\n",
            "8   table  ...  CREATE TABLE [Season] (\\n\\t[Season_Id]\\tintege...\n",
            "9   table  ...  CREATE TABLE [City] (\\n\\t[City_Id]\\tinteger NO...\n",
            "10  table  ...  CREATE TABLE [Outcome] (\\n\\t[Outcome_Id]\\tinte...\n",
            "11  table  ...  CREATE TABLE [Win_By] (\\n\\t[Win_Id]\\tinteger N...\n",
            "12  table  ...  CREATE TABLE [Wicket_Taken] (\\n\\t[Match_Id]\\ti...\n",
            "13  index  ...                                               None\n",
            "14  table  ...  CREATE TABLE [Venue] (\\n\\t[Venue_Id]\\tinteger ...\n",
            "15  table  ...  CREATE TABLE [Extra_Type] (\\n\\t[Extra_Id]\\tint...\n",
            "16  table  ...  CREATE TABLE [Out_Type] (\\n\\t[Out_Id]\\tinteger...\n",
            "17  table  ...  CREATE TABLE [Toss_Decision] (\\n\\t[Toss_Id]\\ti...\n",
            "18  table  ...  CREATE TABLE [Umpire] (\\n\\t[Umpire_Id]\\tintege...\n",
            "19  table  ...  CREATE TABLE [Team] (\\n\\t[Team_Id]\\tinteger NO...\n",
            "20  table  ...  CREATE TABLE [Ball_by_Ball] (\\n\\t[Match_Id]\\ti...\n",
            "21  index  ...                                               None\n",
            "22  table  ...  CREATE TABLE [sysdiagrams] (\\n\\t[name]\\tnvarch...\n",
            "23  table  ...             CREATE TABLE sqlite_sequence(name,seq)\n",
            "24  index  ...  CREATE UNIQUE INDEX [sysdiagrams_UK_principal_...\n",
            "25  table  ...  CREATE TABLE [Match] (\\n\\t[Match_Id]\\tinteger ...\n",
            "26  table  ...  CREATE TABLE [Rolee] (\\n\\t[Role_Id]\\tinteger N...\n",
            "27  table  ...  CREATE TABLE [Player_Match] (\\n\\t[Match_Id]\\ti...\n",
            "28  index  ...                                               None\n",
            "\n",
            "[29 rows x 5 columns]\n"
          ]
        }
      ]
    },
    {
      "cell_type": "code",
      "metadata": {
        "colab": {
          "base_uri": "https://localhost:8080/"
        },
        "id": "q3aCq2lrKlre",
        "outputId": "99326828-5686-4ddc-9f3e-5cd45030d8c7"
      },
      "source": [
        "P=pd.read_sql('''SELECT * FROM City;''', conn)\n",
        "print(P)\n"
      ],
      "execution_count": null,
      "outputs": [
        {
          "output_type": "stream",
          "name": "stdout",
          "text": [
            "    City_Id       City_Name  Country_id\n",
            "0         1       Bangalore           1\n",
            "1         2      Chandigarh           1\n",
            "2         3           Delhi           1\n",
            "3         4          Mumbai           1\n",
            "4         5         Kolkata           1\n",
            "5         6          Jaipur           1\n",
            "6         7       Hyderabad           1\n",
            "7         8         Chennai           1\n",
            "8         9       Cape Town           2\n",
            "9        10  Port Elizabeth           2\n",
            "10       11          Durban           2\n",
            "11       12       Centurion           2\n",
            "12       13     East London           2\n",
            "13       14    Johannesburg           2\n",
            "14       15       Kimberley           2\n",
            "15       16    Bloemfontein           2\n",
            "16       17       Ahmedabad           1\n",
            "17       18         Cuttack           1\n",
            "18       19          Nagpur           1\n",
            "19       20      Dharamsala           1\n",
            "20       21           Kochi           1\n",
            "21       22          Indore           1\n",
            "22       23   Visakhapatnam           1\n",
            "23       24            Pune           1\n",
            "24       25          Raipur           1\n",
            "25       26          Ranchi           1\n",
            "26       27       Abu Dhabi           3\n",
            "27       28          Rajkot           1\n",
            "28       29          Kanpur           1\n"
          ]
        }
      ]
    },
    {
      "cell_type": "code",
      "metadata": {
        "id": "72Blj09iNz2V"
      },
      "source": [
        ""
      ],
      "execution_count": null,
      "outputs": []
    },
    {
      "cell_type": "code",
      "metadata": {
        "colab": {
          "base_uri": "https://localhost:8080/"
        },
        "id": "K2ZJjHZ6LD04",
        "outputId": "e4eafab2-d2d0-4ab1-cae1-1cc75bc8bbeb"
      },
      "source": [
        "print(P.info())\n",
        "\n"
      ],
      "execution_count": null,
      "outputs": [
        {
          "output_type": "stream",
          "name": "stdout",
          "text": [
            "<class 'pandas.core.frame.DataFrame'>\n",
            "RangeIndex: 29 entries, 0 to 28\n",
            "Data columns (total 3 columns):\n",
            " #   Column      Non-Null Count  Dtype \n",
            "---  ------      --------------  ----- \n",
            " 0   City_Id     29 non-null     int64 \n",
            " 1   City_Name   29 non-null     object\n",
            " 2   Country_id  29 non-null     int64 \n",
            "dtypes: int64(2), object(1)\n",
            "memory usage: 824.0+ bytes\n",
            "None\n"
          ]
        }
      ]
    },
    {
      "cell_type": "code",
      "metadata": {
        "colab": {
          "base_uri": "https://localhost:8080/"
        },
        "id": "nT5H8aWXOKNT",
        "outputId": "682b89e7-fbc7-4dac-e720-e8e6bfeeb4ad"
      },
      "source": [
        "t=pd.read_sql('''SELECT * FROM MATCH WHERE MATCH_WINNER ==1;''', conn)\n",
        "print(t)"
      ],
      "execution_count": null,
      "outputs": [
        {
          "output_type": "stream",
          "name": "stdout",
          "text": [
            "    Match_Id  Team_1  Team_2  ... Outcome_type  Match_Winner  Man_of_the_Match\n",
            "0     335987       2       1  ...            1             1                 2\n",
            "1     335991       1       8  ...            1             1                 4\n",
            "2     336015       1       2  ...            1             1                 1\n",
            "3     336019       8       1  ...            1             1                 1\n",
            "4     336022       1       6  ...            1             1               144\n",
            "..       ...     ...     ...  ...          ...           ...               ...\n",
            "63    980944      12       1  ...            1             1               308\n",
            "64    980964       2       1  ...            1             1               334\n",
            "65    980968       1       4  ...            1             1               334\n",
            "66    980994       1      12  ...            1             1                31\n",
            "67    981014       1      11  ...            1             1                31\n",
            "\n",
            "[68 rows x 13 columns]\n"
          ]
        }
      ]
    },
    {
      "cell_type": "code",
      "metadata": {
        "colab": {
          "base_uri": "https://localhost:8080/"
        },
        "id": "NHw00cZaOVpu",
        "outputId": "d910812f-917c-4f3f-c804-bda2e6eb42c6"
      },
      "source": [
        "t=pd.read_sql('''SELECT Outcome_type,Match_Id FROM MATCH WHERE MATCH_WINNER ==1;''', conn)\n",
        "print(t)"
      ],
      "execution_count": null,
      "outputs": [
        {
          "output_type": "stream",
          "name": "stdout",
          "text": [
            "    Outcome_type  Match_Id\n",
            "0              1    335987\n",
            "1              1    335991\n",
            "2              1    336015\n",
            "3              1    336019\n",
            "4              1    336022\n",
            "..           ...       ...\n",
            "63             1    980944\n",
            "64             1    980964\n",
            "65             1    980968\n",
            "66             1    980994\n",
            "67             1    981014\n",
            "\n",
            "[68 rows x 2 columns]\n"
          ]
        }
      ]
    },
    {
      "cell_type": "code",
      "metadata": {
        "colab": {
          "base_uri": "https://localhost:8080/"
        },
        "id": "7OLxIC_IOhLE",
        "outputId": "c5136693-7d32-4bbb-c206-b67167623e84"
      },
      "source": [
        "t=pd.read_sql('''SELECT Outcome_type,Match_Id,MATCH_WINNER,Match_Id FROM MATCH WHERE MATCH_WINNER ==1 AND Match_Id>980944;''', conn)\n",
        "print(t)"
      ],
      "execution_count": null,
      "outputs": [
        {
          "output_type": "stream",
          "name": "stdout",
          "text": [
            "   Outcome_type  Match_Id  Match_Winner  Match_Id\n",
            "0             1    980964             1    980964\n",
            "1             1    980968             1    980968\n",
            "2             1    980994             1    980994\n",
            "3             1    981014             1    981014\n"
          ]
        }
      ]
    },
    {
      "cell_type": "code",
      "metadata": {
        "colab": {
          "base_uri": "https://localhost:8080/"
        },
        "id": "eSPNMzLn6GwU",
        "outputId": "c351f58c-2404-4b7e-cb34-21cb72434794"
      },
      "source": [
        "t=pd.read_sql('''SELECT * FROM MATCH WHERE MATCH_WINNER==(SELECT MIN(City_Id) FROM City);''', conn)\n",
        "print(t)"
      ],
      "execution_count": null,
      "outputs": [
        {
          "output_type": "stream",
          "name": "stdout",
          "text": [
            "   AVG(Match_Id)\n",
            "0  590963.580139\n"
          ]
        }
      ]
    },
    {
      "cell_type": "code",
      "metadata": {
        "colab": {
          "base_uri": "https://localhost:8080/"
        },
        "id": "o_bKvLXePpT3",
        "outputId": "0bcebf42-5578-44ba-8c25-0fac648a868a"
      },
      "source": [
        "t=pd.read_sql('''SELECT * FROM MATCH WHERE MATCH_WINNER==(SELECT MIN(City_Id) FROM City);''', conn)\n",
        "print(t)"
      ],
      "execution_count": null,
      "outputs": [
        {
          "output_type": "stream",
          "name": "stdout",
          "text": [
            "    Match_Id  Team_1  Team_2  ... Outcome_type  Match_Winner  Man_of_the_Match\n",
            "0     335987       2       1  ...            1             1                 2\n",
            "1     335991       1       8  ...            1             1                 4\n",
            "2     336015       1       2  ...            1             1                 1\n",
            "3     336019       8       1  ...            1             1                 1\n",
            "4     336022       1       6  ...            1             1               144\n",
            "..       ...     ...     ...  ...          ...           ...               ...\n",
            "63    980944      12       1  ...            1             1               308\n",
            "64    980964       2       1  ...            1             1               334\n",
            "65    980968       1       4  ...            1             1               334\n",
            "66    980994       1      12  ...            1             1                31\n",
            "67    981014       1      11  ...            1             1                31\n",
            "\n",
            "[68 rows x 13 columns]\n"
          ]
        }
      ]
    },
    {
      "cell_type": "code",
      "metadata": {
        "colab": {
          "base_uri": "https://localhost:8080/"
        },
        "id": "mIhqhQN4PgzH",
        "outputId": "280ca3df-6895-4b39-8af7-785f83f29b63"
      },
      "source": [
        "t=pd.read_sql('''SELECT MIN(City_Id) FROM City;''', conn)\n",
        "print(t)"
      ],
      "execution_count": null,
      "outputs": [
        {
          "output_type": "stream",
          "name": "stdout",
          "text": [
            "   MIN(City_Id)\n",
            "0             1\n"
          ]
        }
      ]
    },
    {
      "cell_type": "code",
      "metadata": {
        "id": "pstwZYSAPAiR"
      },
      "source": [
        ""
      ],
      "execution_count": null,
      "outputs": []
    },
    {
      "cell_type": "code",
      "metadata": {
        "colab": {
          "base_uri": "https://localhost:8080/"
        },
        "id": "KLBwtSLzlZHO",
        "outputId": "9992af47-a728-4987-a9fc-72a2c8edf98c"
      },
      "source": [
        "t=pd.read_sql('''SELECT * FROM Season WHERE Orange_Cap>46;''', conn)\n",
        "print(t)"
      ],
      "execution_count": null,
      "outputs": [
        {
          "output_type": "stream",
          "name": "stdout",
          "text": [
            "   Season_Id  Man_of_the_Series  Orange_Cap  Purple_Cap  Season_Year\n",
            "0          1                 32         100         102         2008\n",
            "1          3                133         133         131         2010\n",
            "2          4                162         162         194         2011\n",
            "3          5                315         162         190         2012\n",
            "4          8                334         187          71         2015\n"
          ]
        }
      ]
    }
  ]
}