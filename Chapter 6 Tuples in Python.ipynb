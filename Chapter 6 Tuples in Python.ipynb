{
 "cells": [
  {
   "cell_type": "code",
   "execution_count": 1,
   "id": "8c28a025",
   "metadata": {},
   "outputs": [],
   "source": [
    "#tuples in Python\n",
    "#tuples are immutable\n",
    "aimTuple=('Student','Teacher','Board')"
   ]
  },
  {
   "cell_type": "code",
   "execution_count": 2,
   "id": "c2437de6",
   "metadata": {},
   "outputs": [
    {
     "data": {
      "text/plain": [
       "('Student', 'Teacher', 'Board')"
      ]
     },
     "execution_count": 2,
     "metadata": {},
     "output_type": "execute_result"
    }
   ],
   "source": [
    "aimTuple"
   ]
  },
  {
   "cell_type": "code",
   "execution_count": 3,
   "id": "a5ae67db",
   "metadata": {},
   "outputs": [
    {
     "data": {
      "text/plain": [
       "'Board'"
      ]
     },
     "execution_count": 3,
     "metadata": {},
     "output_type": "execute_result"
    }
   ],
   "source": [
    "aimTuple[2]"
   ]
  },
  {
   "cell_type": "code",
   "execution_count": 4,
   "id": "f1b1898e",
   "metadata": {},
   "outputs": [
    {
     "data": {
      "text/plain": [
       "'Teacher'"
      ]
     },
     "execution_count": 4,
     "metadata": {},
     "output_type": "execute_result"
    }
   ],
   "source": [
    "aimTuple[1]"
   ]
  },
  {
   "cell_type": "code",
   "execution_count": 5,
   "id": "136fc4f2",
   "metadata": {},
   "outputs": [
    {
     "data": {
      "text/plain": [
       "('Student', 'Teacher')"
      ]
     },
     "execution_count": 5,
     "metadata": {},
     "output_type": "execute_result"
    }
   ],
   "source": [
    "aimTuple[:2]"
   ]
  },
  {
   "cell_type": "code",
   "execution_count": 6,
   "id": "0a7a037c",
   "metadata": {},
   "outputs": [
    {
     "name": "stdout",
     "output_type": "stream",
     "text": [
      "Student\n",
      "Teacher\n",
      "Board\n"
     ]
    }
   ],
   "source": [
    "for i in aimTuple:\n",
    "    print(i)"
   ]
  },
  {
   "cell_type": "code",
   "execution_count": 10,
   "id": "cf0f294c",
   "metadata": {},
   "outputs": [
    {
     "name": "stdout",
     "output_type": "stream",
     "text": [
      "String Found\n"
     ]
    }
   ],
   "source": [
    "if \"Teacher\" in aimTuple:\n",
    "    print(\"String Found\")\n",
    "elif \"What\" in aimTuple:\n",
    "    print(\"String not found\")\n"
   ]
  },
  {
   "cell_type": "code",
   "execution_count": null,
   "id": "b1ba6207",
   "metadata": {},
   "outputs": [],
   "source": [
    "#Tuples can't be modified\n"
   ]
  },
  {
   "cell_type": "code",
   "execution_count": null,
   "id": "e34e260d",
   "metadata": {},
   "outputs": [],
   "source": []
  },
  {
   "cell_type": "code",
   "execution_count": null,
   "id": "e255c9aa",
   "metadata": {},
   "outputs": [],
   "source": []
  },
  {
   "cell_type": "code",
   "execution_count": null,
   "id": "bc62ba6e",
   "metadata": {},
   "outputs": [],
   "source": []
  }
 ],
 "metadata": {
  "kernelspec": {
   "display_name": "Python 3",
   "language": "python",
   "name": "python3"
  },
  "language_info": {
   "codemirror_mode": {
    "name": "ipython",
    "version": 3
   },
   "file_extension": ".py",
   "mimetype": "text/x-python",
   "name": "python",
   "nbconvert_exporter": "python",
   "pygments_lexer": "ipython3",
   "version": "3.8.8"
  }
 },
 "nbformat": 4,
 "nbformat_minor": 5
}
